{
 "cells": [
  {
   "cell_type": "code",
   "execution_count": 1,
   "metadata": {},
   "outputs": [],
   "source": [
    "from data_provider.data_factory import data_provider\n",
    "from data_provider.mask_collator import TimeSeriesMaskCollator\n",
    "from utils.tools import EarlyStopping, adjust_learning_rate, visual, test_params_flop\n",
    "from utils.metrics import metric\n",
    "from model.PatchTST_encoder import PtachTST_embedding\n",
    "from model.PatchTST_predictor import PtachTST_predictor\n",
    "from data_provider.mask_utils import apply_masks\n",
    "\n",
    "from torch.utils.tensorboard import SummaryWriter\n",
    "\n",
    "import numpy as np\n",
    "import torch\n",
    "import torch.nn as nn\n",
    "from torch import optim\n",
    "import torch.nn.functional as F\n",
    "from torch.optim import lr_scheduler\n",
    "\n",
    "import copy\n",
    "import os\n",
    "import time\n",
    "\n",
    "from tqdm import tqdm\n",
    "import warnings\n",
    "import matplotlib.pyplot as plt\n",
    "import numpy as np\n",
    "warnings.filterwarnings('ignore')"
   ]
  },
  {
   "cell_type": "code",
   "execution_count": 14,
   "metadata": {},
   "outputs": [],
   "source": [
    "class config_etth1_patchtst():\n",
    "    def __init__(self, name=\"\", seq_len=512, pred_len=96, num_epochs=1) -> None:\n",
    "        self.model_type = \"PatchTST\"\n",
    "        self.is_training = 1\n",
    "        self.model_id = \"PatchTST_attn_Etth1_\"+str(seq_len)+\"_\"+str(pred_len)+\"_\"+name\n",
    "        self.model = \"PatchTST\"\n",
    "        self.data = \"ETTh1\"\n",
    "        self.root_path = r\"D:\\Coursework\\MTS\\dataset\\ETT-small\"\n",
    "        self.data_path = \"ETTh1.csv\"\n",
    "        self.features = \"M\"\n",
    "        self.target = \"OT\"\n",
    "        self.freq = \"h\"\n",
    "        self.checkpoints = \"./checkpoints/\"\n",
    "        self.seq_len = seq_len\n",
    "        self.label_len = 48\n",
    "        self.pred_len = pred_len\n",
    "        self.fc_dropout = 0.2\n",
    "        self.head_dropout = 0.0\n",
    "        self.patch_len = 16\n",
    "        self.stride = 8\n",
    "        self.padding_patch = \"end\"\n",
    "        self.affine = 0\n",
    "        self.subtract_last = 0\n",
    "        self.decomposition = 0\n",
    "        self.kernel_size = 25\n",
    "        self.individual = 0\n",
    "        self.embed_type = 0\n",
    "        self.enc_in = 7\n",
    "        self.dec_in = 7\n",
    "        self.c_out = 7\n",
    "        self.d_model = 16\n",
    "        self.predictor_d_model = 16\n",
    "        self.revin = 1\n",
    "        self.n_heads = 4\n",
    "        self.e_layers = 3\n",
    "        self.d_layers = 1\n",
    "        self.d_ff = 128\n",
    "        self.moving_avg = 25\n",
    "        self.factor = 1\n",
    "        self.distil = True\n",
    "        self.dropout = 0.3 # 0.2\n",
    "        self.fusion_dropout = 0.3\n",
    "        self.proj_dropout = 0.3\n",
    "        self.embed = \"timeF\"\n",
    "        self.activation = \"gelu\"\n",
    "        self.output_attention = False\n",
    "        self.do_predict = False\n",
    "        self.num_workers = 2\n",
    "        self.itr = 1\n",
    "        self.train_epochs = num_epochs\n",
    "        self.batch_size = 128\n",
    "        self.patience = 50\n",
    "        self.learning_rate = 0.0001\n",
    "        self.des = \"Exp\"\n",
    "        self.loss = \"mse\"\n",
    "        self.lradj = \"type3\"\n",
    "        self.pct_start = 0.3\n",
    "        self.use_amp = False\n",
    "        self.use_gpu = True\n",
    "        self.gpu = 0\n",
    "        self.use_multi_gpu = False\n",
    "        self.devices = '0,1,2,3'\n",
    "        self.test_flop = False\n",
    "        self.profile = False\n",
    "        self.scheduler = True\n",
    "        self.use_norm = True\n",
    "        self.embedding_model = True\n",
    "        # jepa\n",
    "        self.enc_mask_scale=(0.85, 1)\n",
    "        self.pred_mask_scale=(0.15, 0.2)\n",
    "        self.use_embed = True\n",
    "        self.nenc=1\n",
    "        self.npred=2\n",
    "        self.allow_overlap=False\n",
    "        self.min_keep=5\n",
    "        self.embedding_model = True\n",
    "        self.ema = [0.996, 1.0]\n",
    "        self.train_scale = 1.0\n",
    "        pass"
   ]
  },
  {
   "cell_type": "code",
   "execution_count": 15,
   "metadata": {},
   "outputs": [],
   "source": [
    "def _get_data(args, flag, collator=None):\n",
    "        data_set, data_loader = data_provider(args, flag, collator)\n",
    "        return data_set, data_loader\n"
   ]
  },
  {
   "cell_type": "code",
   "execution_count": 16,
   "metadata": {},
   "outputs": [],
   "source": [
    "device = torch.device(\"cuda\" if torch.cuda.is_available() else \"cpu\")\n",
    "\n",
    "args = config_etth1_patchtst(num_epochs=10)"
   ]
  },
  {
   "cell_type": "code",
   "execution_count": 17,
   "metadata": {},
   "outputs": [],
   "source": [
    "mask_collator = TimeSeriesMaskCollator(\n",
    "        seq_len=args.seq_len,\n",
    "        pred_len=args.pred_len,\n",
    "        patch_size=args.patch_len,\n",
    "        stride=args.stride,\n",
    "        pred_mask_scale=args.pred_mask_scale,\n",
    "        enc_mask_scale=args.enc_mask_scale,\n",
    "        nenc=args.nenc,\n",
    "        npred=args.npred,\n",
    "        allow_overlap=args.allow_overlap,\n",
    "        min_keep=args.min_keep)"
   ]
  },
  {
   "cell_type": "code",
   "execution_count": 18,
   "metadata": {},
   "outputs": [
    {
     "name": "stdout",
     "output_type": "stream",
     "text": [
      "train 8033\n"
     ]
    }
   ],
   "source": [
    "train_data, train_loader = _get_data(args, flag='train', collator=mask_collator)"
   ]
  },
  {
   "cell_type": "code",
   "execution_count": 19,
   "metadata": {},
   "outputs": [],
   "source": [
    "encoder = PtachTST_embedding(args).float().to(device)\n",
    "predictor = PtachTST_predictor(args).float().to(device)\n",
    "\n",
    "target_encoder = copy.deepcopy(encoder)"
   ]
  },
  {
   "cell_type": "code",
   "execution_count": 20,
   "metadata": {},
   "outputs": [
    {
     "name": "stdout",
     "output_type": "stream",
     "text": [
      "encoder parameters:  16448\n",
      "predictor parameters:  16768\n"
     ]
    }
   ],
   "source": [
    "model_parameters = filter(lambda p: p.requires_grad, encoder.parameters())\n",
    "params = sum([np.prod(p.size()) for p in model_parameters])\n",
    "print(\"encoder parameters: \", params)\n",
    "model_parameters = filter(lambda p: p.requires_grad, predictor.parameters())\n",
    "params = sum([np.prod(p.size()) for p in model_parameters])\n",
    "print(\"predictor parameters: \", params)"
   ]
  },
  {
   "cell_type": "code",
   "execution_count": 21,
   "metadata": {},
   "outputs": [],
   "source": [
    "train_steps = len(train_loader)\n",
    "early_stopping = EarlyStopping(patience=args.patience, verbose=True)"
   ]
  },
  {
   "cell_type": "code",
   "execution_count": 22,
   "metadata": {},
   "outputs": [],
   "source": [
    "param_groups = [\n",
    "        {\n",
    "            'params': (p for n, p in encoder.named_parameters()\n",
    "                       if ('bias' not in n) and (len(p.shape) != 1))\n",
    "        }, {\n",
    "            'params': (p for n, p in predictor.named_parameters()\n",
    "                       if ('bias' not in n) and (len(p.shape) != 1))\n",
    "        }, {\n",
    "            'params': (p for n, p in encoder.named_parameters()\n",
    "                       if ('bias' in n) or (len(p.shape) == 1)),\n",
    "            'WD_exclude': True,\n",
    "            'weight_decay': 0\n",
    "        }, {\n",
    "            'params': (p for n, p in predictor.named_parameters()\n",
    "                       if ('bias' in n) or (len(p.shape) == 1)),\n",
    "            'WD_exclude': True,\n",
    "            'weight_decay': 0\n",
    "        }\n",
    "\n",
    "    ]\n",
    "model_optim = optim.Adam(param_groups, lr=args.learning_rate)"
   ]
  },
  {
   "cell_type": "code",
   "execution_count": 23,
   "metadata": {},
   "outputs": [],
   "source": [
    "for p in target_encoder.parameters():\n",
    "    p.requires_grad = False"
   ]
  },
  {
   "cell_type": "code",
   "execution_count": 24,
   "metadata": {},
   "outputs": [],
   "source": [
    "momentum_scheduler = (args.ema[0] + i*(args.ema[1]-args.ema[0])/(train_steps*args.train_epochs*args.train_scale)\n",
    "                          for i in range(int(train_steps*args.train_epochs*args.train_scale)+1))\n",
    "\n",
    "scheduler = lr_scheduler.OneCycleLR(optimizer = model_optim,\n",
    "                                            steps_per_epoch = train_steps,\n",
    "                                            pct_start = args.pct_start,\n",
    "                                            epochs = args.train_epochs,\n",
    "                                            max_lr = args.learning_rate)"
   ]
  },
  {
   "cell_type": "code",
   "execution_count": 25,
   "metadata": {},
   "outputs": [
    {
     "name": "stdout",
     "output_type": "stream",
     "text": [
      "Epoch number:  0\n"
     ]
    },
    {
     "name": "stderr",
     "output_type": "stream",
     "text": [
      "100%|██████████| 62/62 [00:14<00:00,  4.40it/s]\n"
     ]
    },
    {
     "name": "stdout",
     "output_type": "stream",
     "text": [
      "Updating learning rate to 0.0001\n",
      "Epoch: 1, Steps: 62 | Train Loss: 0.5313865\n",
      "Epoch number:  1\n"
     ]
    },
    {
     "name": "stderr",
     "output_type": "stream",
     "text": [
      "100%|██████████| 62/62 [00:13<00:00,  4.52it/s]\n"
     ]
    },
    {
     "name": "stdout",
     "output_type": "stream",
     "text": [
      "Updating learning rate to 0.0001\n",
      "Epoch: 2, Steps: 62 | Train Loss: 0.4747541\n",
      "Epoch number:  2\n"
     ]
    },
    {
     "name": "stderr",
     "output_type": "stream",
     "text": [
      "100%|██████████| 62/62 [00:13<00:00,  4.48it/s]\n"
     ]
    },
    {
     "name": "stdout",
     "output_type": "stream",
     "text": [
      "Updating learning rate to 0.0001\n",
      "Epoch: 3, Steps: 62 | Train Loss: 0.4477551\n",
      "Epoch number:  3\n"
     ]
    },
    {
     "name": "stderr",
     "output_type": "stream",
     "text": [
      "100%|██████████| 62/62 [00:14<00:00,  4.17it/s]\n"
     ]
    },
    {
     "name": "stdout",
     "output_type": "stream",
     "text": [
      "Updating learning rate to 9e-05\n",
      "Epoch: 4, Steps: 62 | Train Loss: 0.4386704\n",
      "Epoch number:  4\n"
     ]
    },
    {
     "name": "stderr",
     "output_type": "stream",
     "text": [
      "100%|██████████| 62/62 [00:14<00:00,  4.14it/s]\n"
     ]
    },
    {
     "name": "stdout",
     "output_type": "stream",
     "text": [
      "Updating learning rate to 8.1e-05\n",
      "Epoch: 5, Steps: 62 | Train Loss: 0.4337157\n",
      "Epoch number:  5\n"
     ]
    },
    {
     "name": "stderr",
     "output_type": "stream",
     "text": [
      "100%|██████████| 62/62 [00:15<00:00,  4.07it/s]\n"
     ]
    },
    {
     "name": "stdout",
     "output_type": "stream",
     "text": [
      "Updating learning rate to 7.290000000000001e-05\n",
      "Epoch: 6, Steps: 62 | Train Loss: 0.4315962\n",
      "Epoch number:  6\n"
     ]
    },
    {
     "name": "stderr",
     "output_type": "stream",
     "text": [
      "100%|██████████| 62/62 [00:15<00:00,  4.06it/s]\n"
     ]
    },
    {
     "name": "stdout",
     "output_type": "stream",
     "text": [
      "Updating learning rate to 6.561e-05\n",
      "Epoch: 7, Steps: 62 | Train Loss: 0.4307721\n",
      "Epoch number:  7\n"
     ]
    },
    {
     "name": "stderr",
     "output_type": "stream",
     "text": [
      "100%|██████████| 62/62 [00:15<00:00,  4.06it/s]\n"
     ]
    },
    {
     "name": "stdout",
     "output_type": "stream",
     "text": [
      "Updating learning rate to 5.904900000000001e-05\n",
      "Epoch: 8, Steps: 62 | Train Loss: 0.4307222\n",
      "Epoch number:  8\n"
     ]
    },
    {
     "name": "stderr",
     "output_type": "stream",
     "text": [
      "100%|██████████| 62/62 [00:15<00:00,  4.06it/s]\n"
     ]
    },
    {
     "name": "stdout",
     "output_type": "stream",
     "text": [
      "Updating learning rate to 5.3144100000000005e-05\n",
      "Epoch: 9, Steps: 62 | Train Loss: 0.4290036\n",
      "Epoch number:  9\n"
     ]
    },
    {
     "name": "stderr",
     "output_type": "stream",
     "text": [
      "100%|██████████| 62/62 [00:15<00:00,  3.97it/s]"
     ]
    },
    {
     "name": "stdout",
     "output_type": "stream",
     "text": [
      "Updating learning rate to 4.782969000000001e-05\n",
      "Epoch: 10, Steps: 62 | Train Loss: 0.4282973\n"
     ]
    },
    {
     "name": "stderr",
     "output_type": "stream",
     "text": [
      "\n"
     ]
    }
   ],
   "source": [
    "for epoch in range(args.train_epochs):\n",
    "    print(\"Epoch number: \", epoch)\n",
    "    iter_count = 0\n",
    "    train_loss = []\n",
    "    epoch_time = time.time()\n",
    "    for i, (seq_x, seq_y, seq_x_mark, seq_y_mark, enc_masks, pred_masks) in enumerate(tqdm(train_loader)):\n",
    "        iter_count += 1\n",
    "        seq_x = seq_x.float().to(device)\n",
    "        enc_masks = [u.to(device, non_blocking=True) for u in enc_masks]\n",
    "        pred_masks = [u.to(device, non_blocking=True) for u in pred_masks]\n",
    "        def train_step():\n",
    "            def forward_target():\n",
    "                with torch.no_grad():\n",
    "                    h = target_encoder(seq_x)\n",
    "                    h = F.layer_norm(h, (h.size(-1),))  # normalize over feature-dim\n",
    "                    B = len(h)\n",
    "                    # -- create targets (masked regions of h)\n",
    "                    h = apply_masks(h, pred_masks)\n",
    "                    return h\n",
    "\n",
    "            def forward_context():\n",
    "                z = encoder(seq_x, enc_masks)\n",
    "                z = predictor(z, enc_masks, pred_masks)\n",
    "                return z\n",
    "\n",
    "            def loss_fn(z, h):\n",
    "                loss = F.smooth_l1_loss(z, h)\n",
    "                return loss\n",
    "\n",
    "            # Step 1. Forward\n",
    "            h = forward_target()\n",
    "            z = forward_context()\n",
    "            loss = loss_fn(z, h)\n",
    "\n",
    "            #  Step 2. Backward & step\n",
    "\n",
    "            loss.backward()\n",
    "            model_optim.step()\n",
    "            model_optim.zero_grad()\n",
    "\n",
    "            # Step 3. momentum update of target encoder\n",
    "            with torch.no_grad():\n",
    "                m = next(momentum_scheduler)\n",
    "                for param_q, param_k in zip(encoder.parameters(), target_encoder.parameters()):\n",
    "                    param_k.data.mul_(m).add_((1.-m) * param_q.detach().data)\n",
    "\n",
    "            return float(loss)\n",
    "        loss = train_step()\n",
    "    train_loss.append(loss)\n",
    "    adjust_learning_rate(model_optim, scheduler, epoch + 1, args)       \n",
    "    train_loss = np.average(train_loss)\n",
    "    print(\"Epoch: {0}, Steps: {1} | Train Loss: {2:.7f}\".format(\n",
    "        epoch + 1, train_steps, train_loss))"
   ]
  },
  {
   "cell_type": "code",
   "execution_count": null,
   "metadata": {},
   "outputs": [],
   "source": []
  }
 ],
 "metadata": {
  "kernelspec": {
   "display_name": "mts",
   "language": "python",
   "name": "python3"
  },
  "language_info": {
   "codemirror_mode": {
    "name": "ipython",
    "version": 3
   },
   "file_extension": ".py",
   "mimetype": "text/x-python",
   "name": "python",
   "nbconvert_exporter": "python",
   "pygments_lexer": "ipython3",
   "version": "3.11.9"
  }
 },
 "nbformat": 4,
 "nbformat_minor": 2
}
