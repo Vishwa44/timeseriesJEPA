{
 "cells": [
  {
   "cell_type": "code",
   "execution_count": 1,
   "metadata": {},
   "outputs": [],
   "source": [
    "import sys\n",
    "import os\n",
    "sys.path.append('..')\n",
    "\n",
    "import random\n",
    "\n",
    "import numpy as np\n",
    "import pandas as pd\n",
    "import torch\n",
    "import transformers\n",
    "import wandb\n",
    "\n",
    "from transformers import PatchTSTConfig, Trainer, TrainingArguments, EarlyStoppingCallback\n",
    "from transformers import PatchTSTForPrediction as PatchTSTForPredictionOG\n",
    "from TimeSeriesJEPA.models import PatchTSTModelJEPA, PatchTSTForPrediction\n",
    "from TimeSeriesJEPA.datasets.benchmark_dataset import BenchmarkDataset\n",
    "os.environ[\"WANDB_PROJECT\"] = \"TimeSeriesJEPA\" "
   ]
  },
  {
   "cell_type": "code",
   "execution_count": 2,
   "metadata": {},
   "outputs": [],
   "source": [
    "csv_path = r\"D:\\Coursework\\MTS\\dataset\\ETT-small\\ETTh1.csv\"\n",
    "dataset = \"ETTh1\"\n",
    "num_workers = 4  # Reduce this if you have low number of CPU cores\n",
    "batch_size = 10  # Reduce if not enough GPU memory available\n",
    "context_length = 512\n",
    "forecast_horizon = 96\n",
    "patch_length = 8\n",
    "patch_stride = 8\n",
    "num_input_channels=7\n",
    "d_model=64\n",
    "num_attention_heads=4\n",
    "num_hidden_layers=3\n",
    "ffn_dim=64\n",
    "dropout=0.05\n",
    "head_dropout=0.2\n",
    "pooling_type=None\n",
    "channel_attention=False\n",
    "scaling=\"std\"\n",
    "loss=\"mse\"\n",
    "pre_norm=True\n",
    "norm_type=\"batchnorm\"\n",
    "positional_encoding_type = \"sincos\"\n",
    "\n",
    "learning_rate=0.0001\n",
    "num_train_epochs=30\n",
    "max_steps=200\n",
    "\n",
    "setting = 'Supervised_{}_PatchTST_sl{}_dm{}_nh{}_el{}_fd{}_bs{}_lr{}_e{}'.format(\n",
    "        dataset,\n",
    "        context_length,\n",
    "        d_model,\n",
    "        num_attention_heads,\n",
    "        num_hidden_layers,\n",
    "        ffn_dim,\n",
    "        batch_size,\n",
    "        learning_rate,\n",
    "        num_train_epochs\n",
    "        )"
   ]
  },
  {
   "cell_type": "code",
   "execution_count": 3,
   "metadata": {},
   "outputs": [
    {
     "name": "stdout",
     "output_type": "stream",
     "text": [
      "Total data size:  (17420, 7)\n",
      "Total data size:  (17420, 7)\n",
      "dataset loaded, total size:  8033 2785\n"
     ]
    }
   ],
   "source": [
    "\n",
    "trainwindowds = BenchmarkDataset(csv_path=csv_path, context_length=context_length, prediction_length=forecast_horizon, flag='train', returndict=True)\n",
    "valwindowds = BenchmarkDataset(csv_path=csv_path, context_length=context_length, prediction_length=forecast_horizon, flag='test', returndict=True)\n",
    "print(\"dataset loaded, total size: \", len(trainwindowds), len(valwindowds))"
   ]
  },
  {
   "cell_type": "code",
   "execution_count": null,
   "metadata": {},
   "outputs": [],
   "source": [
    "print(\"Loading prediction model\")\n",
    "\n",
    "config = PatchTSTConfig(\n",
    "    do_mask_input=False,\n",
    "    context_length=context_length,\n",
    "    patch_length=patch_length,\n",
    "    num_input_channels=num_input_channels,\n",
    "    patch_stride=patch_stride,\n",
    "    prediction_length=forecast_horizon,\n",
    "    d_model=d_model,\n",
    "    num_attention_heads=num_attention_heads,\n",
    "    num_hidden_layers=num_hidden_layers,\n",
    "    ffn_dim=ffn_dim,\n",
    "    dropout=dropout,\n",
    "    head_dropout=head_dropout,\n",
    "    pooling_type=pooling_type,\n",
    "    channel_attention=channel_attention,\n",
    "    scaling=scaling,\n",
    "    loss=loss,\n",
    "    pre_norm=pre_norm,\n",
    "    norm_type=norm_type,\n",
    "    positional_encoding_type = positional_encoding_type\n",
    ")\n",
    "\n",
    "model = PatchTSTForPredictionOG(config=config)"
   ]
  },
  {
   "cell_type": "code",
   "execution_count": null,
   "metadata": {},
   "outputs": [],
   "source": [
    "model_parameters = filter(lambda p: p.requires_grad, model.parameters())\n",
    "params = sum([np.prod(p.size()) for p in model.parameters()])\n",
    "print(\"encoder parameters: \", params)"
   ]
  },
  {
   "cell_type": "code",
   "execution_count": null,
   "metadata": {},
   "outputs": [],
   "source": [
    "wandb.init(project=\"TimeSeriesJEPA\", name=setting)\n",
    "\n",
    "\n",
    "train_args = TrainingArguments(\n",
    "    output_dir=os.path.join(\"checkpoints\", setting),\n",
    "    overwrite_output_dir=True,\n",
    "    learning_rate=learning_rate,\n",
    "    # num_train_epochs=num_train_epochs,\n",
    "    do_eval=True,\n",
    "    evaluation_strategy=\"steps\",\n",
    "    eval_steps=1,\n",
    "    max_steps=max_steps,\n",
    "    per_device_train_batch_size=batch_size,\n",
    "    per_device_eval_batch_size=batch_size,\n",
    "    dataloader_num_workers=1,  # num_workers,\n",
    "    logging_strategy=\"steps\",\n",
    "    logging_steps=1,\n",
    "    save_total_limit=3,\n",
    "    load_best_model_at_end=True,  # Load the best model when training ends\n",
    "    metric_for_best_model=\"eval_loss\",  # Metric to monitor for early stopping\n",
    "    greater_is_better=False,  # For loss\n",
    "    label_names=[\"future_values\"],\n",
    "    report_to=\"wandb\",\n",
    "    run_name=setting\n",
    "    )\n",
    "\n",
    "# # Create a new early stopping callback with faster convergence properties\n",
    "# early_stopping_callback = EarlyStoppingCallback(\n",
    "#     early_stopping_patience=15,  # Number of epochs with no improvement after which to stop\n",
    "#     early_stopping_threshold=0.001,  # Minimum improvement required to consider as improvement\n",
    "# )\n",
    "\n",
    "trainer = Trainer(\n",
    "    model=model,\n",
    "    args=train_args,\n",
    "    train_dataset=trainwindowds,\n",
    "    eval_dataset=valwindowds,\n",
    "    # callbacks=[early_stopping_callback],\n",
    ")"
   ]
  },
  {
   "cell_type": "code",
   "execution_count": null,
   "metadata": {},
   "outputs": [],
   "source": [
    "print(\"\\n\\nDoing forecasting training\")\n",
    "trainer.train()"
   ]
  },
  {
   "cell_type": "code",
   "execution_count": null,
   "metadata": {},
   "outputs": [],
   "source": [
    "trainer.evaluate(valwindowds)\n",
    "wandb.finish()"
   ]
  },
  {
   "cell_type": "code",
   "execution_count": 4,
   "metadata": {},
   "outputs": [
    {
     "name": "stdout",
     "output_type": "stream",
     "text": [
      "Loading pretrained encoder model\n",
      "Done\n"
     ]
    }
   ],
   "source": [
    "print(\"Loading pretrained encoder model\")\n",
    "setting = \"PatchTST_Time300B_sl512_enc_dm64_nh4_el3_fd64_pred_dm32_nh2_el1_fd32_bs256_lr0.0001_pe10_data_nenc1_npred4_ema_05_1\"\n",
    "encoder_model = PatchTSTModelJEPA.from_pretrained(\"D:\\\\Coursework\\\\MTS\\\\timeseriesJEPA\\\\results\\\\\"+setting+\"\\\\checkpoint-57120\")\n",
    "print(\"Done\")\n",
    "encoder_model.cuda()\n",
    "run_name = \"Finetuned_\"+dataset+\"_\"+setting+\"_17136\""
   ]
  },
  {
   "cell_type": "code",
   "execution_count": 5,
   "metadata": {},
   "outputs": [
    {
     "data": {
      "text/plain": [
       "'Finetuned_ETTh1_PatchTST_Time300B_sl512_enc_dm64_nh4_el3_fd64_pred_dm32_nh2_el1_fd32_bs256_lr0.0001_pe10_data_nenc1_npred4_ema_05_1_17136'"
      ]
     },
     "execution_count": 5,
     "metadata": {},
     "output_type": "execute_result"
    }
   ],
   "source": [
    "run_name"
   ]
  },
  {
   "cell_type": "code",
   "execution_count": 6,
   "metadata": {},
   "outputs": [
    {
     "name": "stdout",
     "output_type": "stream",
     "text": [
      "Loading prediction model\n"
     ]
    }
   ],
   "source": [
    "print(\"Loading prediction model\")\n",
    "\n",
    "config = PatchTSTConfig(\n",
    "    do_mask_input=False,\n",
    "    context_length=context_length,\n",
    "    patch_length=patch_length,\n",
    "    num_input_channels=num_input_channels,\n",
    "    patch_stride=patch_length,\n",
    "    prediction_length=forecast_horizon,\n",
    "    d_model=64,\n",
    "    num_attention_heads=4,\n",
    "    # num_hidden_layers=4,\n",
    "    ffn_dim=128,\n",
    "    dropout=0.05,\n",
    "    head_dropout=head_dropout,\n",
    "    pooling_type=None,\n",
    "    channel_attention=False,\n",
    "    scaling=\"std\",\n",
    "    loss=\"mse\",\n",
    "    pre_norm=True,\n",
    "    norm_type=\"batchnorm\",\n",
    "    positional_encoding_type = \"sincos\"\n",
    ")\n",
    "\n",
    "model = PatchTSTForPrediction(config=config, encoder_model=encoder_model)"
   ]
  },
  {
   "cell_type": "code",
   "execution_count": 7,
   "metadata": {},
   "outputs": [
    {
     "data": {
      "text/plain": [
       "PatchTSTModelJEPA(\n",
       "  (scaler): PatchTSTScaler(\n",
       "    (scaler): PatchTSTStdScaler()\n",
       "  )\n",
       "  (patchifier): PatchTSTPatchify()\n",
       "  (encoder): PatchTSTEncoder(\n",
       "    (embedder): PatchTSTEmbedding(\n",
       "      (input_embedding): Linear(in_features=8, out_features=64, bias=True)\n",
       "    )\n",
       "    (positional_encoder): PatchTSTPositionalEncoding(\n",
       "      (positional_dropout): Identity()\n",
       "    )\n",
       "    (layers): ModuleList(\n",
       "      (0-2): 3 x PatchTSTEncoderLayer(\n",
       "        (self_attn): PatchTSTAttention(\n",
       "          (k_proj): Linear(in_features=64, out_features=64, bias=True)\n",
       "          (v_proj): Linear(in_features=64, out_features=64, bias=True)\n",
       "          (q_proj): Linear(in_features=64, out_features=64, bias=True)\n",
       "          (out_proj): Linear(in_features=64, out_features=64, bias=True)\n",
       "        )\n",
       "        (dropout_path1): Identity()\n",
       "        (norm_sublayer1): PatchTSTBatchNorm(\n",
       "          (batchnorm): BatchNorm1d(64, eps=1e-05, momentum=0.1, affine=True, track_running_stats=True)\n",
       "        )\n",
       "        (ff): Sequential(\n",
       "          (0): Linear(in_features=64, out_features=64, bias=True)\n",
       "          (1): GELUActivation()\n",
       "          (2): Identity()\n",
       "          (3): Linear(in_features=64, out_features=64, bias=True)\n",
       "        )\n",
       "        (dropout_path3): Identity()\n",
       "        (norm_sublayer3): PatchTSTBatchNorm(\n",
       "          (batchnorm): BatchNorm1d(64, eps=1e-05, momentum=0.1, affine=True, track_running_stats=True)\n",
       "        )\n",
       "      )\n",
       "    )\n",
       "    (norm): LayerNorm((64,), eps=1e-05, elementwise_affine=True)\n",
       "  )\n",
       ")"
      ]
     },
     "execution_count": 7,
     "metadata": {},
     "output_type": "execute_result"
    }
   ],
   "source": [
    "encoder_model"
   ]
  },
  {
   "cell_type": "code",
   "execution_count": 8,
   "metadata": {},
   "outputs": [
    {
     "name": "stdout",
     "output_type": "stream",
     "text": [
      "encoder parameters:  393312\n"
     ]
    }
   ],
   "source": [
    "model_parameters = filter(lambda p: p.requires_grad, model.parameters())\n",
    "params = sum([np.prod(p.size()) for p in model_parameters])\n",
    "print(\"encoder parameters: \", params)"
   ]
  },
  {
   "cell_type": "code",
   "execution_count": 9,
   "metadata": {},
   "outputs": [
    {
     "name": "stdout",
     "output_type": "stream",
     "text": [
      "encoder parameters:  80448\n"
     ]
    }
   ],
   "source": [
    "params = sum([np.prod(p.size()) for p in encoder_model.parameters()])\n",
    "print(\"encoder parameters: \", params)"
   ]
  },
  {
   "cell_type": "code",
   "execution_count": 10,
   "metadata": {},
   "outputs": [
    {
     "name": "stderr",
     "output_type": "stream",
     "text": [
      "\u001b[34m\u001b[1mwandb\u001b[0m: Currently logged in as: \u001b[33mvg2523\u001b[0m (\u001b[33mhpml_4\u001b[0m). Use \u001b[1m`wandb login --relogin`\u001b[0m to force relogin\n",
      "\u001b[34m\u001b[1mwandb\u001b[0m: Using wandb-core as the SDK backend.  Please refer to https://wandb.me/wandb-core for more information.\n"
     ]
    },
    {
     "data": {
      "text/html": [
       "Tracking run with wandb version 0.19.4"
      ],
      "text/plain": [
       "<IPython.core.display.HTML object>"
      ]
     },
     "metadata": {},
     "output_type": "display_data"
    },
    {
     "data": {
      "text/html": [
       "Run data is saved locally in <code>d:\\Coursework\\MTS\\timeseriesJEPA\\notebooks\\wandb\\run-20250215_233554-yi2gvjou</code>"
      ],
      "text/plain": [
       "<IPython.core.display.HTML object>"
      ]
     },
     "metadata": {},
     "output_type": "display_data"
    },
    {
     "data": {
      "text/html": [
       "Syncing run <strong><a href='https://wandb.ai/hpml_4/TimeSeriesJEPA/runs/yi2gvjou' target=\"_blank\">Finetuned_ETTh1_PatchTST_Time300B_sl512_enc_dm64_nh4_el3_fd64_pred_dm32_nh2_el1_fd32_bs256_lr0.0001_pe10_data_nenc1_npred4_ema_05_1_17136</a></strong> to <a href='https://wandb.ai/hpml_4/TimeSeriesJEPA' target=\"_blank\">Weights & Biases</a> (<a href='https://wandb.me/developer-guide' target=\"_blank\">docs</a>)<br>"
      ],
      "text/plain": [
       "<IPython.core.display.HTML object>"
      ]
     },
     "metadata": {},
     "output_type": "display_data"
    },
    {
     "data": {
      "text/html": [
       " View project at <a href='https://wandb.ai/hpml_4/TimeSeriesJEPA' target=\"_blank\">https://wandb.ai/hpml_4/TimeSeriesJEPA</a>"
      ],
      "text/plain": [
       "<IPython.core.display.HTML object>"
      ]
     },
     "metadata": {},
     "output_type": "display_data"
    },
    {
     "data": {
      "text/html": [
       " View run at <a href='https://wandb.ai/hpml_4/TimeSeriesJEPA/runs/yi2gvjou' target=\"_blank\">https://wandb.ai/hpml_4/TimeSeriesJEPA/runs/yi2gvjou</a>"
      ],
      "text/plain": [
       "<IPython.core.display.HTML object>"
      ]
     },
     "metadata": {},
     "output_type": "display_data"
    },
    {
     "name": "stderr",
     "output_type": "stream",
     "text": [
      "c:\\Users\\Omen\\anaconda3\\envs\\mts\\Lib\\site-packages\\transformers\\training_args.py:1568: FutureWarning: `evaluation_strategy` is deprecated and will be removed in version 4.46 of 🤗 Transformers. Use `eval_strategy` instead\n",
      "  warnings.warn(\n",
      "max_steps is given, it will override any value given in num_train_epochs\n"
     ]
    }
   ],
   "source": [
    "wandb.init(project=\"TimeSeriesJEPA\", name=run_name)\n",
    "\n",
    "train_args_jepa = TrainingArguments(\n",
    "    output_dir=os.path.join(\"checkpoints\", run_name),\n",
    "    overwrite_output_dir=True,\n",
    "    learning_rate=learning_rate,\n",
    "    # num_train_epochs=num_train_epochs,\n",
    "    max_steps=max_steps,\n",
    "    do_eval=True,\n",
    "    evaluation_strategy=\"steps\",\n",
    "    eval_steps=1,\n",
    "    per_device_train_batch_size=batch_size,\n",
    "    per_device_eval_batch_size=batch_size,\n",
    "    dataloader_num_workers=1,  # num_workers,\n",
    "    logging_strategy=\"steps\",\n",
    "    logging_steps=1,\n",
    "    save_total_limit=3,\n",
    "    load_best_model_at_end=True,  # Load the best model when training ends\n",
    "    metric_for_best_model=\"eval_loss\",  # Metric to monitor for early stopping\n",
    "    greater_is_better=False,  # For loss\n",
    "    label_names=[\"future_values\"],\n",
    "    report_to=\"wandb\",\n",
    "    run_name=run_name\n",
    ")\n",
    "\n",
    "\n",
    "trainer_jepa = Trainer(\n",
    "    model=model,\n",
    "    args=train_args_jepa,\n",
    "    train_dataset=trainwindowds,\n",
    "    eval_dataset=valwindowds,\n",
    ")"
   ]
  },
  {
   "cell_type": "code",
   "execution_count": 11,
   "metadata": {},
   "outputs": [
    {
     "name": "stdout",
     "output_type": "stream",
     "text": [
      "\n",
      "\n",
      "Doing forecasting training\n"
     ]
    },
    {
     "data": {
      "application/vnd.jupyter.widget-view+json": {
       "model_id": "ec78b9474d0f4318a10440865013245a",
       "version_major": 2,
       "version_minor": 0
      },
      "text/plain": [
       "  0%|          | 0/200 [00:00<?, ?it/s]"
      ]
     },
     "metadata": {},
     "output_type": "display_data"
    },
    {
     "name": "stdout",
     "output_type": "stream",
     "text": [
      "{'loss': 1.6188, 'grad_norm': 7.519554615020752, 'learning_rate': 9.95e-05, 'epoch': 0.0}\n"
     ]
    },
    {
     "data": {
      "application/vnd.jupyter.widget-view+json": {
       "model_id": "9970f61d2d3a4e80a87d78b3e40030da",
       "version_major": 2,
       "version_minor": 0
      },
      "text/plain": [
       "  0%|          | 0/279 [00:00<?, ?it/s]"
      ]
     },
     "metadata": {},
     "output_type": "display_data"
    },
    {
     "name": "stdout",
     "output_type": "stream",
     "text": [
      "{'eval_loss': 1.607560396194458, 'eval_runtime': 7.9619, 'eval_samples_per_second': 349.79, 'eval_steps_per_second': 35.042, 'epoch': 0.0}\n",
      "{'loss': 1.4725, 'grad_norm': 6.31898832321167, 'learning_rate': 9.900000000000001e-05, 'epoch': 0.0}\n"
     ]
    },
    {
     "data": {
      "application/vnd.jupyter.widget-view+json": {
       "model_id": "43e2d7759bc44a87bf0612a0cf9487b8",
       "version_major": 2,
       "version_minor": 0
      },
      "text/plain": [
       "  0%|          | 0/279 [00:00<?, ?it/s]"
      ]
     },
     "metadata": {},
     "output_type": "display_data"
    },
    {
     "name": "stdout",
     "output_type": "stream",
     "text": [
      "{'eval_loss': 1.4169403314590454, 'eval_runtime': 8.8913, 'eval_samples_per_second': 313.226, 'eval_steps_per_second': 31.379, 'epoch': 0.0}\n",
      "{'loss': 1.2051, 'grad_norm': 4.8494062423706055, 'learning_rate': 9.850000000000001e-05, 'epoch': 0.0}\n"
     ]
    },
    {
     "data": {
      "application/vnd.jupyter.widget-view+json": {
       "model_id": "effe1a224a0e44ee8a67bb7082692427",
       "version_major": 2,
       "version_minor": 0
      },
      "text/plain": [
       "  0%|          | 0/279 [00:00<?, ?it/s]"
      ]
     },
     "metadata": {},
     "output_type": "display_data"
    },
    {
     "name": "stdout",
     "output_type": "stream",
     "text": [
      "{'eval_loss': 1.2683452367782593, 'eval_runtime': 9.1844, 'eval_samples_per_second': 303.231, 'eval_steps_per_second': 30.378, 'epoch': 0.0}\n",
      "{'loss': 1.1771, 'grad_norm': 4.383195877075195, 'learning_rate': 9.8e-05, 'epoch': 0.0}\n"
     ]
    },
    {
     "data": {
      "application/vnd.jupyter.widget-view+json": {
       "model_id": "c987ad6b733d4e18b7c3b96890a913bd",
       "version_major": 2,
       "version_minor": 0
      },
      "text/plain": [
       "  0%|          | 0/279 [00:00<?, ?it/s]"
      ]
     },
     "metadata": {},
     "output_type": "display_data"
    },
    {
     "name": "stdout",
     "output_type": "stream",
     "text": [
      "{'eval_loss': 1.1509937047958374, 'eval_runtime': 8.4956, 'eval_samples_per_second': 327.816, 'eval_steps_per_second': 32.84, 'epoch': 0.0}\n",
      "{'loss': 1.1216, 'grad_norm': 3.6452550888061523, 'learning_rate': 9.75e-05, 'epoch': 0.01}\n"
     ]
    },
    {
     "data": {
      "application/vnd.jupyter.widget-view+json": {
       "model_id": "adc43dec87ac40d99c7f3157d526e337",
       "version_major": 2,
       "version_minor": 0
      },
      "text/plain": [
       "  0%|          | 0/279 [00:00<?, ?it/s]"
      ]
     },
     "metadata": {},
     "output_type": "display_data"
    },
    {
     "name": "stdout",
     "output_type": "stream",
     "text": [
      "{'eval_loss': 1.0552183389663696, 'eval_runtime': 8.1423, 'eval_samples_per_second': 342.04, 'eval_steps_per_second': 34.265, 'epoch': 0.01}\n",
      "{'loss': 0.9157, 'grad_norm': 2.9545040130615234, 'learning_rate': 9.7e-05, 'epoch': 0.01}\n"
     ]
    },
    {
     "data": {
      "application/vnd.jupyter.widget-view+json": {
       "model_id": "eafd4848c155448cab91284d92f2ed7e",
       "version_major": 2,
       "version_minor": 0
      },
      "text/plain": [
       "  0%|          | 0/279 [00:00<?, ?it/s]"
      ]
     },
     "metadata": {},
     "output_type": "display_data"
    },
    {
     "name": "stdout",
     "output_type": "stream",
     "text": [
      "{'eval_loss': 0.9874330163002014, 'eval_runtime': 8.9754, 'eval_samples_per_second': 310.294, 'eval_steps_per_second': 31.085, 'epoch': 0.01}\n",
      "{'loss': 0.7137, 'grad_norm': 2.263284921646118, 'learning_rate': 9.65e-05, 'epoch': 0.01}\n"
     ]
    },
    {
     "data": {
      "application/vnd.jupyter.widget-view+json": {
       "model_id": "8009b731dc0446ca9eb9f16a381dbf5d",
       "version_major": 2,
       "version_minor": 0
      },
      "text/plain": [
       "  0%|          | 0/279 [00:00<?, ?it/s]"
      ]
     },
     "metadata": {},
     "output_type": "display_data"
    },
    {
     "name": "stdout",
     "output_type": "stream",
     "text": [
      "{'eval_loss': 0.9404687881469727, 'eval_runtime': 8.6235, 'eval_samples_per_second': 322.955, 'eval_steps_per_second': 32.353, 'epoch': 0.01}\n",
      "{'loss': 1.118, 'grad_norm': 2.716399669647217, 'learning_rate': 9.6e-05, 'epoch': 0.01}\n"
     ]
    },
    {
     "data": {
      "application/vnd.jupyter.widget-view+json": {
       "model_id": "c598652fb0c44f9f810593678df99536",
       "version_major": 2,
       "version_minor": 0
      },
      "text/plain": [
       "  0%|          | 0/279 [00:00<?, ?it/s]"
      ]
     },
     "metadata": {},
     "output_type": "display_data"
    },
    {
     "name": "stdout",
     "output_type": "stream",
     "text": [
      "{'eval_loss': 0.9041896462440491, 'eval_runtime': 9.097, 'eval_samples_per_second': 306.144, 'eval_steps_per_second': 30.669, 'epoch': 0.01}\n",
      "{'loss': 0.9818, 'grad_norm': 2.5144553184509277, 'learning_rate': 9.55e-05, 'epoch': 0.01}\n"
     ]
    },
    {
     "data": {
      "application/vnd.jupyter.widget-view+json": {
       "model_id": "bad6a8ffd02d49eea641f2ab263df5c4",
       "version_major": 2,
       "version_minor": 0
      },
      "text/plain": [
       "  0%|          | 0/279 [00:00<?, ?it/s]"
      ]
     },
     "metadata": {},
     "output_type": "display_data"
    },
    {
     "name": "stdout",
     "output_type": "stream",
     "text": [
      "{'eval_loss': 0.8781242966651917, 'eval_runtime': 8.8787, 'eval_samples_per_second': 313.674, 'eval_steps_per_second': 31.424, 'epoch': 0.01}\n",
      "{'loss': 0.9657, 'grad_norm': 2.489537477493286, 'learning_rate': 9.5e-05, 'epoch': 0.01}\n"
     ]
    },
    {
     "data": {
      "application/vnd.jupyter.widget-view+json": {
       "model_id": "3b93c778007e4dbfa3b40c3f9968ed00",
       "version_major": 2,
       "version_minor": 0
      },
      "text/plain": [
       "  0%|          | 0/279 [00:00<?, ?it/s]"
      ]
     },
     "metadata": {},
     "output_type": "display_data"
    },
    {
     "name": "stdout",
     "output_type": "stream",
     "text": [
      "{'eval_loss': 0.8529115319252014, 'eval_runtime': 9.3023, 'eval_samples_per_second': 299.388, 'eval_steps_per_second': 29.993, 'epoch': 0.01}\n",
      "{'loss': 0.9649, 'grad_norm': 2.653700828552246, 'learning_rate': 9.449999999999999e-05, 'epoch': 0.01}\n"
     ]
    },
    {
     "data": {
      "application/vnd.jupyter.widget-view+json": {
       "model_id": "cef38054ba8f4d6ab68521c7f69d6a9e",
       "version_major": 2,
       "version_minor": 0
      },
      "text/plain": [
       "  0%|          | 0/279 [00:00<?, ?it/s]"
      ]
     },
     "metadata": {},
     "output_type": "display_data"
    },
    {
     "name": "stdout",
     "output_type": "stream",
     "text": [
      "{'eval_loss': 0.8327271342277527, 'eval_runtime': 9.333, 'eval_samples_per_second': 298.403, 'eval_steps_per_second': 29.894, 'epoch': 0.01}\n",
      "{'loss': 0.9716, 'grad_norm': 2.296635389328003, 'learning_rate': 9.4e-05, 'epoch': 0.01}\n"
     ]
    },
    {
     "data": {
      "application/vnd.jupyter.widget-view+json": {
       "model_id": "00f5ccb8ec334afa9e9c1f3bcda8e96d",
       "version_major": 2,
       "version_minor": 0
      },
      "text/plain": [
       "  0%|          | 0/279 [00:00<?, ?it/s]"
      ]
     },
     "metadata": {},
     "output_type": "display_data"
    },
    {
     "name": "stdout",
     "output_type": "stream",
     "text": [
      "{'eval_loss': 0.814315140247345, 'eval_runtime': 9.1302, 'eval_samples_per_second': 305.03, 'eval_steps_per_second': 30.558, 'epoch': 0.01}\n",
      "{'loss': 0.9134, 'grad_norm': 2.1918656826019287, 'learning_rate': 9.350000000000001e-05, 'epoch': 0.02}\n"
     ]
    },
    {
     "data": {
      "application/vnd.jupyter.widget-view+json": {
       "model_id": "539a41af07c14a4695b0355f94c9be2c",
       "version_major": 2,
       "version_minor": 0
      },
      "text/plain": [
       "  0%|          | 0/279 [00:00<?, ?it/s]"
      ]
     },
     "metadata": {},
     "output_type": "display_data"
    },
    {
     "name": "stdout",
     "output_type": "stream",
     "text": [
      "{'eval_loss': 0.801632285118103, 'eval_runtime': 9.2519, 'eval_samples_per_second': 301.02, 'eval_steps_per_second': 30.156, 'epoch': 0.02}\n",
      "{'loss': 0.9011, 'grad_norm': 2.294973611831665, 'learning_rate': 9.300000000000001e-05, 'epoch': 0.02}\n"
     ]
    },
    {
     "data": {
      "application/vnd.jupyter.widget-view+json": {
       "model_id": "6819f22d8c2a4822befcfb923dd4e984",
       "version_major": 2,
       "version_minor": 0
      },
      "text/plain": [
       "  0%|          | 0/279 [00:00<?, ?it/s]"
      ]
     },
     "metadata": {},
     "output_type": "display_data"
    },
    {
     "name": "stdout",
     "output_type": "stream",
     "text": [
      "{'eval_loss': 0.791787326335907, 'eval_runtime': 9.4532, 'eval_samples_per_second': 294.611, 'eval_steps_per_second': 29.514, 'epoch': 0.02}\n",
      "{'loss': 0.8602, 'grad_norm': 2.521223306655884, 'learning_rate': 9.250000000000001e-05, 'epoch': 0.02}\n"
     ]
    },
    {
     "data": {
      "application/vnd.jupyter.widget-view+json": {
       "model_id": "247a49c948b04efc933163e89dacfca7",
       "version_major": 2,
       "version_minor": 0
      },
      "text/plain": [
       "  0%|          | 0/279 [00:00<?, ?it/s]"
      ]
     },
     "metadata": {},
     "output_type": "display_data"
    },
    {
     "name": "stdout",
     "output_type": "stream",
     "text": [
      "{'eval_loss': 0.7835450768470764, 'eval_runtime': 9.671, 'eval_samples_per_second': 287.975, 'eval_steps_per_second': 28.849, 'epoch': 0.02}\n",
      "{'loss': 0.8006, 'grad_norm': 2.102867603302002, 'learning_rate': 9.200000000000001e-05, 'epoch': 0.02}\n"
     ]
    },
    {
     "data": {
      "application/vnd.jupyter.widget-view+json": {
       "model_id": "d6a65586db424cd4ba2a51d414012c84",
       "version_major": 2,
       "version_minor": 0
      },
      "text/plain": [
       "  0%|          | 0/279 [00:00<?, ?it/s]"
      ]
     },
     "metadata": {},
     "output_type": "display_data"
    },
    {
     "name": "stdout",
     "output_type": "stream",
     "text": [
      "{'eval_loss': 0.7750697731971741, 'eval_runtime': 9.957, 'eval_samples_per_second': 279.704, 'eval_steps_per_second': 28.021, 'epoch': 0.02}\n",
      "{'loss': 0.8673, 'grad_norm': 2.2691445350646973, 'learning_rate': 9.15e-05, 'epoch': 0.02}\n"
     ]
    },
    {
     "data": {
      "application/vnd.jupyter.widget-view+json": {
       "model_id": "22f484fea0db46fab8b44365348138c1",
       "version_major": 2,
       "version_minor": 0
      },
      "text/plain": [
       "  0%|          | 0/279 [00:00<?, ?it/s]"
      ]
     },
     "metadata": {},
     "output_type": "display_data"
    },
    {
     "name": "stdout",
     "output_type": "stream",
     "text": [
      "{'eval_loss': 0.766700804233551, 'eval_runtime': 8.6345, 'eval_samples_per_second': 322.543, 'eval_steps_per_second': 32.312, 'epoch': 0.02}\n",
      "{'loss': 0.9562, 'grad_norm': 2.7855703830718994, 'learning_rate': 9.1e-05, 'epoch': 0.02}\n"
     ]
    },
    {
     "data": {
      "application/vnd.jupyter.widget-view+json": {
       "model_id": "782dda8ee3cb447eb81cf88748714282",
       "version_major": 2,
       "version_minor": 0
      },
      "text/plain": [
       "  0%|          | 0/279 [00:00<?, ?it/s]"
      ]
     },
     "metadata": {},
     "output_type": "display_data"
    },
    {
     "name": "stdout",
     "output_type": "stream",
     "text": [
      "{'eval_loss': 0.7576996088027954, 'eval_runtime': 10.1112, 'eval_samples_per_second': 275.437, 'eval_steps_per_second': 27.593, 'epoch': 0.02}\n",
      "{'loss': 0.8139, 'grad_norm': 2.455047130584717, 'learning_rate': 9.05e-05, 'epoch': 0.02}\n"
     ]
    },
    {
     "data": {
      "application/vnd.jupyter.widget-view+json": {
       "model_id": "f25b88b4112e4b8fa503e9af3b7dd03a",
       "version_major": 2,
       "version_minor": 0
      },
      "text/plain": [
       "  0%|          | 0/279 [00:00<?, ?it/s]"
      ]
     },
     "metadata": {},
     "output_type": "display_data"
    },
    {
     "name": "stdout",
     "output_type": "stream",
     "text": [
      "{'eval_loss': 0.7486174702644348, 'eval_runtime': 9.3259, 'eval_samples_per_second': 298.631, 'eval_steps_per_second': 29.917, 'epoch': 0.02}\n",
      "{'loss': 0.8608, 'grad_norm': 2.158742904663086, 'learning_rate': 9e-05, 'epoch': 0.02}\n"
     ]
    },
    {
     "data": {
      "application/vnd.jupyter.widget-view+json": {
       "model_id": "280717e616924201b26dab11dbde0653",
       "version_major": 2,
       "version_minor": 0
      },
      "text/plain": [
       "  0%|          | 0/279 [00:00<?, ?it/s]"
      ]
     },
     "metadata": {},
     "output_type": "display_data"
    },
    {
     "name": "stdout",
     "output_type": "stream",
     "text": [
      "{'eval_loss': 0.7404174208641052, 'eval_runtime': 9.1866, 'eval_samples_per_second': 303.159, 'eval_steps_per_second': 30.37, 'epoch': 0.02}\n",
      "{'loss': 0.8584, 'grad_norm': 2.4783637523651123, 'learning_rate': 8.950000000000001e-05, 'epoch': 0.03}\n"
     ]
    },
    {
     "data": {
      "application/vnd.jupyter.widget-view+json": {
       "model_id": "40c39e432b8e45d198c5e22f846bff4d",
       "version_major": 2,
       "version_minor": 0
      },
      "text/plain": [
       "  0%|          | 0/279 [00:00<?, ?it/s]"
      ]
     },
     "metadata": {},
     "output_type": "display_data"
    },
    {
     "name": "stdout",
     "output_type": "stream",
     "text": [
      "{'eval_loss': 0.7319285273551941, 'eval_runtime': 9.9258, 'eval_samples_per_second': 280.583, 'eval_steps_per_second': 28.109, 'epoch': 0.03}\n",
      "{'loss': 0.7092, 'grad_norm': 1.7974846363067627, 'learning_rate': 8.900000000000001e-05, 'epoch': 0.03}\n"
     ]
    },
    {
     "data": {
      "application/vnd.jupyter.widget-view+json": {
       "model_id": "8bb8fb33f81545ecaa07f06817efe87b",
       "version_major": 2,
       "version_minor": 0
      },
      "text/plain": [
       "  0%|          | 0/279 [00:00<?, ?it/s]"
      ]
     },
     "metadata": {},
     "output_type": "display_data"
    },
    {
     "name": "stdout",
     "output_type": "stream",
     "text": [
      "{'eval_loss': 0.7255297303199768, 'eval_runtime': 9.8475, 'eval_samples_per_second': 282.814, 'eval_steps_per_second': 28.332, 'epoch': 0.03}\n",
      "{'loss': 0.8418, 'grad_norm': 2.3059096336364746, 'learning_rate': 8.850000000000001e-05, 'epoch': 0.03}\n"
     ]
    },
    {
     "data": {
      "application/vnd.jupyter.widget-view+json": {
       "model_id": "782852832da94d1488fe9d2992955820",
       "version_major": 2,
       "version_minor": 0
      },
      "text/plain": [
       "  0%|          | 0/279 [00:00<?, ?it/s]"
      ]
     },
     "metadata": {},
     "output_type": "display_data"
    },
    {
     "name": "stdout",
     "output_type": "stream",
     "text": [
      "{'eval_loss': 0.719792366027832, 'eval_runtime': 9.9376, 'eval_samples_per_second': 280.249, 'eval_steps_per_second': 28.075, 'epoch': 0.03}\n",
      "{'loss': 0.813, 'grad_norm': 2.2088072299957275, 'learning_rate': 8.800000000000001e-05, 'epoch': 0.03}\n"
     ]
    },
    {
     "data": {
      "application/vnd.jupyter.widget-view+json": {
       "model_id": "ebcf92e4ecdb47f9ad094be148cdbd1c",
       "version_major": 2,
       "version_minor": 0
      },
      "text/plain": [
       "  0%|          | 0/279 [00:00<?, ?it/s]"
      ]
     },
     "metadata": {},
     "output_type": "display_data"
    },
    {
     "name": "stdout",
     "output_type": "stream",
     "text": [
      "{'eval_loss': 0.7140117287635803, 'eval_runtime': 8.5072, 'eval_samples_per_second': 327.371, 'eval_steps_per_second': 32.796, 'epoch': 0.03}\n",
      "{'loss': 0.7725, 'grad_norm': 1.7636003494262695, 'learning_rate': 8.75e-05, 'epoch': 0.03}\n"
     ]
    },
    {
     "data": {
      "application/vnd.jupyter.widget-view+json": {
       "model_id": "76e9689bb8b64397ac1b7497a5ee6924",
       "version_major": 2,
       "version_minor": 0
      },
      "text/plain": [
       "  0%|          | 0/279 [00:00<?, ?it/s]"
      ]
     },
     "metadata": {},
     "output_type": "display_data"
    },
    {
     "name": "stdout",
     "output_type": "stream",
     "text": [
      "{'eval_loss': 0.7091876268386841, 'eval_runtime': 9.4185, 'eval_samples_per_second': 295.695, 'eval_steps_per_second': 29.623, 'epoch': 0.03}\n",
      "{'loss': 0.7142, 'grad_norm': 1.8274455070495605, 'learning_rate': 8.7e-05, 'epoch': 0.03}\n"
     ]
    },
    {
     "data": {
      "application/vnd.jupyter.widget-view+json": {
       "model_id": "00ffd5a067e140f9a5c393542d2b98b0",
       "version_major": 2,
       "version_minor": 0
      },
      "text/plain": [
       "  0%|          | 0/279 [00:00<?, ?it/s]"
      ]
     },
     "metadata": {},
     "output_type": "display_data"
    },
    {
     "name": "stdout",
     "output_type": "stream",
     "text": [
      "{'eval_loss': 0.705407977104187, 'eval_runtime': 10.0321, 'eval_samples_per_second': 277.61, 'eval_steps_per_second': 27.811, 'epoch': 0.03}\n",
      "{'loss': 0.7604, 'grad_norm': 1.8461942672729492, 'learning_rate': 8.65e-05, 'epoch': 0.03}\n"
     ]
    },
    {
     "data": {
      "application/vnd.jupyter.widget-view+json": {
       "model_id": "f0d5a922d8ce44379ba327e4ddeded08",
       "version_major": 2,
       "version_minor": 0
      },
      "text/plain": [
       "  0%|          | 0/279 [00:00<?, ?it/s]"
      ]
     },
     "metadata": {},
     "output_type": "display_data"
    },
    {
     "name": "stdout",
     "output_type": "stream",
     "text": [
      "{'eval_loss': 0.7025778293609619, 'eval_runtime': 9.2939, 'eval_samples_per_second': 299.66, 'eval_steps_per_second': 30.02, 'epoch': 0.03}\n",
      "{'loss': 0.8301, 'grad_norm': 2.5847747325897217, 'learning_rate': 8.6e-05, 'epoch': 0.03}\n"
     ]
    },
    {
     "data": {
      "application/vnd.jupyter.widget-view+json": {
       "model_id": "dfe13887570540358ac10952d8fd8f6b",
       "version_major": 2,
       "version_minor": 0
      },
      "text/plain": [
       "  0%|          | 0/279 [00:00<?, ?it/s]"
      ]
     },
     "metadata": {},
     "output_type": "display_data"
    },
    {
     "name": "stdout",
     "output_type": "stream",
     "text": [
      "{'eval_loss': 0.6970378160476685, 'eval_runtime': 9.5244, 'eval_samples_per_second': 292.406, 'eval_steps_per_second': 29.293, 'epoch': 0.03}\n",
      "{'loss': 0.823, 'grad_norm': 1.7387770414352417, 'learning_rate': 8.55e-05, 'epoch': 0.04}\n"
     ]
    },
    {
     "data": {
      "application/vnd.jupyter.widget-view+json": {
       "model_id": "89e09594a6444c7395ddfb049e78f59a",
       "version_major": 2,
       "version_minor": 0
      },
      "text/plain": [
       "  0%|          | 0/279 [00:00<?, ?it/s]"
      ]
     },
     "metadata": {},
     "output_type": "display_data"
    },
    {
     "name": "stdout",
     "output_type": "stream",
     "text": [
      "{'eval_loss': 0.6913326382637024, 'eval_runtime': 10.2144, 'eval_samples_per_second': 272.655, 'eval_steps_per_second': 27.314, 'epoch': 0.04}\n",
      "{'loss': 0.802, 'grad_norm': 1.931065320968628, 'learning_rate': 8.5e-05, 'epoch': 0.04}\n"
     ]
    },
    {
     "data": {
      "application/vnd.jupyter.widget-view+json": {
       "model_id": "a9bc2687c6ab48ecba04be0280cf83af",
       "version_major": 2,
       "version_minor": 0
      },
      "text/plain": [
       "  0%|          | 0/279 [00:00<?, ?it/s]"
      ]
     },
     "metadata": {},
     "output_type": "display_data"
    },
    {
     "name": "stdout",
     "output_type": "stream",
     "text": [
      "{'eval_loss': 0.685183048248291, 'eval_runtime': 9.0292, 'eval_samples_per_second': 308.445, 'eval_steps_per_second': 30.9, 'epoch': 0.04}\n",
      "{'loss': 0.8557, 'grad_norm': 2.2608861923217773, 'learning_rate': 8.450000000000001e-05, 'epoch': 0.04}\n"
     ]
    },
    {
     "data": {
      "application/vnd.jupyter.widget-view+json": {
       "model_id": "a840f9aaf0974370bf643305e07b2df1",
       "version_major": 2,
       "version_minor": 0
      },
      "text/plain": [
       "  0%|          | 0/279 [00:00<?, ?it/s]"
      ]
     },
     "metadata": {},
     "output_type": "display_data"
    },
    {
     "name": "stdout",
     "output_type": "stream",
     "text": [
      "{'eval_loss': 0.6788799166679382, 'eval_runtime': 9.1968, 'eval_samples_per_second': 302.824, 'eval_steps_per_second': 30.337, 'epoch': 0.04}\n",
      "{'loss': 0.6757, 'grad_norm': 1.5092382431030273, 'learning_rate': 8.4e-05, 'epoch': 0.04}\n"
     ]
    },
    {
     "data": {
      "application/vnd.jupyter.widget-view+json": {
       "model_id": "442152ae6b4943d8a5856feda5d053c3",
       "version_major": 2,
       "version_minor": 0
      },
      "text/plain": [
       "  0%|          | 0/279 [00:00<?, ?it/s]"
      ]
     },
     "metadata": {},
     "output_type": "display_data"
    },
    {
     "name": "stdout",
     "output_type": "stream",
     "text": [
      "{'eval_loss': 0.6736059188842773, 'eval_runtime': 9.0827, 'eval_samples_per_second': 306.626, 'eval_steps_per_second': 30.718, 'epoch': 0.04}\n",
      "{'loss': 0.8804, 'grad_norm': 2.3624348640441895, 'learning_rate': 8.35e-05, 'epoch': 0.04}\n"
     ]
    },
    {
     "data": {
      "application/vnd.jupyter.widget-view+json": {
       "model_id": "33ccd90343d04210b57c43f090f4afe7",
       "version_major": 2,
       "version_minor": 0
      },
      "text/plain": [
       "  0%|          | 0/279 [00:00<?, ?it/s]"
      ]
     },
     "metadata": {},
     "output_type": "display_data"
    },
    {
     "name": "stdout",
     "output_type": "stream",
     "text": [
      "{'eval_loss': 0.6698030233383179, 'eval_runtime': 9.8154, 'eval_samples_per_second': 283.738, 'eval_steps_per_second': 28.425, 'epoch': 0.04}\n",
      "{'loss': 0.7144, 'grad_norm': 1.8828076124191284, 'learning_rate': 8.3e-05, 'epoch': 0.04}\n"
     ]
    },
    {
     "data": {
      "application/vnd.jupyter.widget-view+json": {
       "model_id": "533642acb88f4a408d6b9d6913c96369",
       "version_major": 2,
       "version_minor": 0
      },
      "text/plain": [
       "  0%|          | 0/279 [00:00<?, ?it/s]"
      ]
     },
     "metadata": {},
     "output_type": "display_data"
    },
    {
     "name": "stdout",
     "output_type": "stream",
     "text": [
      "{'eval_loss': 0.6668360829353333, 'eval_runtime': 9.5478, 'eval_samples_per_second': 291.69, 'eval_steps_per_second': 29.221, 'epoch': 0.04}\n",
      "{'loss': 0.8285, 'grad_norm': 1.8342254161834717, 'learning_rate': 8.25e-05, 'epoch': 0.04}\n"
     ]
    },
    {
     "data": {
      "application/vnd.jupyter.widget-view+json": {
       "model_id": "e4f1d2694d6c43a7bdea75ecf4c4764c",
       "version_major": 2,
       "version_minor": 0
      },
      "text/plain": [
       "  0%|          | 0/279 [00:00<?, ?it/s]"
      ]
     },
     "metadata": {},
     "output_type": "display_data"
    },
    {
     "name": "stdout",
     "output_type": "stream",
     "text": [
      "{'eval_loss': 0.6634515523910522, 'eval_runtime': 9.5041, 'eval_samples_per_second': 293.031, 'eval_steps_per_second': 29.356, 'epoch': 0.04}\n",
      "{'loss': 0.7884, 'grad_norm': 1.925279140472412, 'learning_rate': 8.2e-05, 'epoch': 0.04}\n"
     ]
    },
    {
     "data": {
      "application/vnd.jupyter.widget-view+json": {
       "model_id": "509b4880990c4006890d7013aaf63d67",
       "version_major": 2,
       "version_minor": 0
      },
      "text/plain": [
       "  0%|          | 0/279 [00:00<?, ?it/s]"
      ]
     },
     "metadata": {},
     "output_type": "display_data"
    },
    {
     "name": "stdout",
     "output_type": "stream",
     "text": [
      "{'eval_loss': 0.6601476669311523, 'eval_runtime': 9.4633, 'eval_samples_per_second': 294.296, 'eval_steps_per_second': 29.482, 'epoch': 0.04}\n",
      "{'loss': 0.691, 'grad_norm': 1.645245909690857, 'learning_rate': 8.15e-05, 'epoch': 0.05}\n"
     ]
    },
    {
     "data": {
      "application/vnd.jupyter.widget-view+json": {
       "model_id": "910f2dcab96149b08a7c24f6124515e9",
       "version_major": 2,
       "version_minor": 0
      },
      "text/plain": [
       "  0%|          | 0/279 [00:00<?, ?it/s]"
      ]
     },
     "metadata": {},
     "output_type": "display_data"
    },
    {
     "name": "stdout",
     "output_type": "stream",
     "text": [
      "{'eval_loss': 0.6570172905921936, 'eval_runtime': 12.3892, 'eval_samples_per_second': 224.793, 'eval_steps_per_second': 22.52, 'epoch': 0.05}\n",
      "{'loss': 0.73, 'grad_norm': 1.7645148038864136, 'learning_rate': 8.1e-05, 'epoch': 0.05}\n"
     ]
    },
    {
     "data": {
      "application/vnd.jupyter.widget-view+json": {
       "model_id": "26826224b80b4893b4303996321502c3",
       "version_major": 2,
       "version_minor": 0
      },
      "text/plain": [
       "  0%|          | 0/279 [00:00<?, ?it/s]"
      ]
     },
     "metadata": {},
     "output_type": "display_data"
    },
    {
     "name": "stdout",
     "output_type": "stream",
     "text": [
      "{'eval_loss': 0.6536446213722229, 'eval_runtime': 17.9303, 'eval_samples_per_second': 155.324, 'eval_steps_per_second': 15.56, 'epoch': 0.05}\n",
      "{'loss': 0.9548, 'grad_norm': 1.7982690334320068, 'learning_rate': 8.05e-05, 'epoch': 0.05}\n"
     ]
    },
    {
     "data": {
      "application/vnd.jupyter.widget-view+json": {
       "model_id": "a6cd85039d9242a699ea1b13b8fb6236",
       "version_major": 2,
       "version_minor": 0
      },
      "text/plain": [
       "  0%|          | 0/279 [00:00<?, ?it/s]"
      ]
     },
     "metadata": {},
     "output_type": "display_data"
    },
    {
     "name": "stdout",
     "output_type": "stream",
     "text": [
      "{'eval_loss': 0.6517364978790283, 'eval_runtime': 13.858, 'eval_samples_per_second': 200.967, 'eval_steps_per_second': 20.133, 'epoch': 0.05}\n",
      "{'loss': 0.6898, 'grad_norm': 1.7260304689407349, 'learning_rate': 8e-05, 'epoch': 0.05}\n"
     ]
    },
    {
     "data": {
      "application/vnd.jupyter.widget-view+json": {
       "model_id": "3a54a7a85d614a968a1c28f809282157",
       "version_major": 2,
       "version_minor": 0
      },
      "text/plain": [
       "  0%|          | 0/279 [00:00<?, ?it/s]"
      ]
     },
     "metadata": {},
     "output_type": "display_data"
    },
    {
     "name": "stdout",
     "output_type": "stream",
     "text": [
      "{'eval_loss': 0.6496744155883789, 'eval_runtime': 21.7013, 'eval_samples_per_second': 128.333, 'eval_steps_per_second': 12.856, 'epoch': 0.05}\n",
      "{'loss': 0.7949, 'grad_norm': 1.8724344968795776, 'learning_rate': 7.950000000000001e-05, 'epoch': 0.05}\n"
     ]
    },
    {
     "data": {
      "application/vnd.jupyter.widget-view+json": {
       "model_id": "788bc2eef4614ec489b006aeea75f17e",
       "version_major": 2,
       "version_minor": 0
      },
      "text/plain": [
       "  0%|          | 0/279 [00:00<?, ?it/s]"
      ]
     },
     "metadata": {},
     "output_type": "display_data"
    },
    {
     "name": "stdout",
     "output_type": "stream",
     "text": [
      "{'eval_loss': 0.646202564239502, 'eval_runtime': 19.7635, 'eval_samples_per_second': 140.917, 'eval_steps_per_second': 14.117, 'epoch': 0.05}\n",
      "{'loss': 0.7975, 'grad_norm': 1.873264193534851, 'learning_rate': 7.900000000000001e-05, 'epoch': 0.05}\n"
     ]
    },
    {
     "data": {
      "application/vnd.jupyter.widget-view+json": {
       "model_id": "48215f66b4ee4ba89151f2e9beeedf4a",
       "version_major": 2,
       "version_minor": 0
      },
      "text/plain": [
       "  0%|          | 0/279 [00:00<?, ?it/s]"
      ]
     },
     "metadata": {},
     "output_type": "display_data"
    },
    {
     "name": "stdout",
     "output_type": "stream",
     "text": [
      "{'eval_loss': 0.6434595584869385, 'eval_runtime': 19.8076, 'eval_samples_per_second': 140.603, 'eval_steps_per_second': 14.086, 'epoch': 0.05}\n",
      "{'loss': 0.6491, 'grad_norm': 1.5016828775405884, 'learning_rate': 7.850000000000001e-05, 'epoch': 0.05}\n"
     ]
    },
    {
     "data": {
      "application/vnd.jupyter.widget-view+json": {
       "model_id": "16bbedec947344498f6329b06ea9cb7b",
       "version_major": 2,
       "version_minor": 0
      },
      "text/plain": [
       "  0%|          | 0/279 [00:00<?, ?it/s]"
      ]
     },
     "metadata": {},
     "output_type": "display_data"
    },
    {
     "name": "stdout",
     "output_type": "stream",
     "text": [
      "{'eval_loss': 0.6401530504226685, 'eval_runtime': 18.6047, 'eval_samples_per_second': 149.694, 'eval_steps_per_second': 14.996, 'epoch': 0.05}\n",
      "{'loss': 0.8061, 'grad_norm': 1.7356047630310059, 'learning_rate': 7.800000000000001e-05, 'epoch': 0.05}\n"
     ]
    },
    {
     "data": {
      "application/vnd.jupyter.widget-view+json": {
       "model_id": "9601b1513e084302bc18645f365eeb08",
       "version_major": 2,
       "version_minor": 0
      },
      "text/plain": [
       "  0%|          | 0/279 [00:00<?, ?it/s]"
      ]
     },
     "metadata": {},
     "output_type": "display_data"
    },
    {
     "name": "stdout",
     "output_type": "stream",
     "text": [
      "{'eval_loss': 0.6387872099876404, 'eval_runtime': 19.2661, 'eval_samples_per_second': 144.554, 'eval_steps_per_second': 14.481, 'epoch': 0.05}\n",
      "{'loss': 0.6491, 'grad_norm': 1.6132160425186157, 'learning_rate': 7.75e-05, 'epoch': 0.06}\n"
     ]
    },
    {
     "data": {
      "application/vnd.jupyter.widget-view+json": {
       "model_id": "56df4050ff9d45ff8866bda3143f6c77",
       "version_major": 2,
       "version_minor": 0
      },
      "text/plain": [
       "  0%|          | 0/279 [00:00<?, ?it/s]"
      ]
     },
     "metadata": {},
     "output_type": "display_data"
    },
    {
     "name": "stdout",
     "output_type": "stream",
     "text": [
      "{'eval_loss': 0.6362088322639465, 'eval_runtime': 21.6158, 'eval_samples_per_second': 128.841, 'eval_steps_per_second': 12.907, 'epoch': 0.06}\n",
      "{'loss': 0.7173, 'grad_norm': 2.1133272647857666, 'learning_rate': 7.7e-05, 'epoch': 0.06}\n"
     ]
    },
    {
     "data": {
      "application/vnd.jupyter.widget-view+json": {
       "model_id": "07c50794b56148a49a42002fccced704",
       "version_major": 2,
       "version_minor": 0
      },
      "text/plain": [
       "  0%|          | 0/279 [00:00<?, ?it/s]"
      ]
     },
     "metadata": {},
     "output_type": "display_data"
    },
    {
     "name": "stdout",
     "output_type": "stream",
     "text": [
      "{'eval_loss': 0.632082462310791, 'eval_runtime': 19.1954, 'eval_samples_per_second': 145.087, 'eval_steps_per_second': 14.535, 'epoch': 0.06}\n",
      "{'loss': 0.6994, 'grad_norm': 1.4951704740524292, 'learning_rate': 7.65e-05, 'epoch': 0.06}\n"
     ]
    },
    {
     "data": {
      "application/vnd.jupyter.widget-view+json": {
       "model_id": "1500802d32a74004bb02eb0b4a068d45",
       "version_major": 2,
       "version_minor": 0
      },
      "text/plain": [
       "  0%|          | 0/279 [00:00<?, ?it/s]"
      ]
     },
     "metadata": {},
     "output_type": "display_data"
    },
    {
     "name": "stdout",
     "output_type": "stream",
     "text": [
      "{'eval_loss': 0.6274380087852478, 'eval_runtime': 21.684, 'eval_samples_per_second': 128.436, 'eval_steps_per_second': 12.867, 'epoch': 0.06}\n",
      "{'loss': 0.6388, 'grad_norm': 1.6945589780807495, 'learning_rate': 7.6e-05, 'epoch': 0.06}\n"
     ]
    },
    {
     "data": {
      "application/vnd.jupyter.widget-view+json": {
       "model_id": "48f21b9f8d8e41efb3b1e99447de9fac",
       "version_major": 2,
       "version_minor": 0
      },
      "text/plain": [
       "  0%|          | 0/279 [00:00<?, ?it/s]"
      ]
     },
     "metadata": {},
     "output_type": "display_data"
    },
    {
     "name": "stdout",
     "output_type": "stream",
     "text": [
      "{'eval_loss': 0.6235431432723999, 'eval_runtime': 17.2176, 'eval_samples_per_second': 161.753, 'eval_steps_per_second': 16.204, 'epoch': 0.06}\n",
      "{'loss': 0.642, 'grad_norm': 1.5877244472503662, 'learning_rate': 7.55e-05, 'epoch': 0.06}\n"
     ]
    },
    {
     "data": {
      "application/vnd.jupyter.widget-view+json": {
       "model_id": "37b45030e051443ba93bdd2957ceb0bb",
       "version_major": 2,
       "version_minor": 0
      },
      "text/plain": [
       "  0%|          | 0/279 [00:00<?, ?it/s]"
      ]
     },
     "metadata": {},
     "output_type": "display_data"
    },
    {
     "name": "stdout",
     "output_type": "stream",
     "text": [
      "{'eval_loss': 0.6224969625473022, 'eval_runtime': 19.6657, 'eval_samples_per_second': 141.617, 'eval_steps_per_second': 14.187, 'epoch': 0.06}\n",
      "{'loss': 0.7317, 'grad_norm': 1.640670895576477, 'learning_rate': 7.500000000000001e-05, 'epoch': 0.06}\n"
     ]
    },
    {
     "data": {
      "application/vnd.jupyter.widget-view+json": {
       "model_id": "b25f6c3cb5e743b0a0131cbcca96171c",
       "version_major": 2,
       "version_minor": 0
      },
      "text/plain": [
       "  0%|          | 0/279 [00:00<?, ?it/s]"
      ]
     },
     "metadata": {},
     "output_type": "display_data"
    },
    {
     "name": "stdout",
     "output_type": "stream",
     "text": [
      "{'eval_loss': 0.6222743988037109, 'eval_runtime': 15.7985, 'eval_samples_per_second': 176.282, 'eval_steps_per_second': 17.66, 'epoch': 0.06}\n",
      "{'loss': 0.6778, 'grad_norm': 1.6114736795425415, 'learning_rate': 7.450000000000001e-05, 'epoch': 0.06}\n"
     ]
    },
    {
     "data": {
      "application/vnd.jupyter.widget-view+json": {
       "model_id": "f1a0b539b3ab45dc88176cf7cf0299c7",
       "version_major": 2,
       "version_minor": 0
      },
      "text/plain": [
       "  0%|          | 0/279 [00:00<?, ?it/s]"
      ]
     },
     "metadata": {},
     "output_type": "display_data"
    },
    {
     "name": "stdout",
     "output_type": "stream",
     "text": [
      "{'eval_loss': 0.6238296627998352, 'eval_runtime': 20.1059, 'eval_samples_per_second': 138.516, 'eval_steps_per_second': 13.876, 'epoch': 0.06}\n",
      "{'loss': 0.8419, 'grad_norm': 2.0221221446990967, 'learning_rate': 7.4e-05, 'epoch': 0.06}\n"
     ]
    },
    {
     "data": {
      "application/vnd.jupyter.widget-view+json": {
       "model_id": "749e6c1369b041108464f1e78c2ef69e",
       "version_major": 2,
       "version_minor": 0
      },
      "text/plain": [
       "  0%|          | 0/279 [00:00<?, ?it/s]"
      ]
     },
     "metadata": {},
     "output_type": "display_data"
    },
    {
     "name": "stdout",
     "output_type": "stream",
     "text": [
      "{'eval_loss': 0.6252517104148865, 'eval_runtime': 24.6639, 'eval_samples_per_second': 112.918, 'eval_steps_per_second': 11.312, 'epoch': 0.06}\n",
      "{'loss': 0.7185, 'grad_norm': 1.7596839666366577, 'learning_rate': 7.35e-05, 'epoch': 0.07}\n"
     ]
    },
    {
     "data": {
      "application/vnd.jupyter.widget-view+json": {
       "model_id": "ee372d5b7ebe40b4b1453e26ebaf3827",
       "version_major": 2,
       "version_minor": 0
      },
      "text/plain": [
       "  0%|          | 0/279 [00:00<?, ?it/s]"
      ]
     },
     "metadata": {},
     "output_type": "display_data"
    },
    {
     "name": "stdout",
     "output_type": "stream",
     "text": [
      "{'eval_loss': 0.6263050436973572, 'eval_runtime': 19.9567, 'eval_samples_per_second': 139.552, 'eval_steps_per_second': 13.98, 'epoch': 0.07}\n",
      "{'loss': 0.6476, 'grad_norm': 1.789554238319397, 'learning_rate': 7.3e-05, 'epoch': 0.07}\n"
     ]
    },
    {
     "data": {
      "application/vnd.jupyter.widget-view+json": {
       "model_id": "6e4779915c5944bdb4e2da81544791ae",
       "version_major": 2,
       "version_minor": 0
      },
      "text/plain": [
       "  0%|          | 0/279 [00:00<?, ?it/s]"
      ]
     },
     "metadata": {},
     "output_type": "display_data"
    },
    {
     "name": "stdout",
     "output_type": "stream",
     "text": [
      "{'eval_loss': 0.6258611679077148, 'eval_runtime': 17.5535, 'eval_samples_per_second': 158.658, 'eval_steps_per_second': 15.894, 'epoch': 0.07}\n",
      "{'loss': 0.9297, 'grad_norm': 1.85493004322052, 'learning_rate': 7.25e-05, 'epoch': 0.07}\n"
     ]
    },
    {
     "data": {
      "application/vnd.jupyter.widget-view+json": {
       "model_id": "8a001860abca4c86bca5c15d82c89c17",
       "version_major": 2,
       "version_minor": 0
      },
      "text/plain": [
       "  0%|          | 0/279 [00:00<?, ?it/s]"
      ]
     },
     "metadata": {},
     "output_type": "display_data"
    },
    {
     "name": "stdout",
     "output_type": "stream",
     "text": [
      "{'eval_loss': 0.62535160779953, 'eval_runtime': 17.3954, 'eval_samples_per_second': 160.1, 'eval_steps_per_second': 16.039, 'epoch': 0.07}\n",
      "{'loss': 0.9074, 'grad_norm': 1.7028961181640625, 'learning_rate': 7.2e-05, 'epoch': 0.07}\n"
     ]
    },
    {
     "data": {
      "application/vnd.jupyter.widget-view+json": {
       "model_id": "febf2e6c073840a7827830eeb117ecaa",
       "version_major": 2,
       "version_minor": 0
      },
      "text/plain": [
       "  0%|          | 0/279 [00:00<?, ?it/s]"
      ]
     },
     "metadata": {},
     "output_type": "display_data"
    },
    {
     "name": "stdout",
     "output_type": "stream",
     "text": [
      "{'eval_loss': 0.6252819299697876, 'eval_runtime': 16.9513, 'eval_samples_per_second': 164.294, 'eval_steps_per_second': 16.459, 'epoch': 0.07}\n",
      "{'loss': 0.8112, 'grad_norm': 1.8108000755310059, 'learning_rate': 7.15e-05, 'epoch': 0.07}\n"
     ]
    },
    {
     "data": {
      "application/vnd.jupyter.widget-view+json": {
       "model_id": "cb071a4e9a7849fe9b033f9f84edafd8",
       "version_major": 2,
       "version_minor": 0
      },
      "text/plain": [
       "  0%|          | 0/279 [00:00<?, ?it/s]"
      ]
     },
     "metadata": {},
     "output_type": "display_data"
    },
    {
     "name": "stdout",
     "output_type": "stream",
     "text": [
      "{'eval_loss': 0.625129222869873, 'eval_runtime': 22.7912, 'eval_samples_per_second': 122.196, 'eval_steps_per_second': 12.242, 'epoch': 0.07}\n",
      "{'loss': 0.7948, 'grad_norm': 1.9391603469848633, 'learning_rate': 7.1e-05, 'epoch': 0.07}\n"
     ]
    },
    {
     "data": {
      "application/vnd.jupyter.widget-view+json": {
       "model_id": "6962ba9fd88c4eaa9168f26e039bf0d2",
       "version_major": 2,
       "version_minor": 0
      },
      "text/plain": [
       "  0%|          | 0/279 [00:00<?, ?it/s]"
      ]
     },
     "metadata": {},
     "output_type": "display_data"
    },
    {
     "name": "stdout",
     "output_type": "stream",
     "text": [
      "{'eval_loss': 0.6229616403579712, 'eval_runtime': 20.2297, 'eval_samples_per_second': 137.669, 'eval_steps_per_second': 13.792, 'epoch': 0.07}\n",
      "{'loss': 0.6165, 'grad_norm': 1.6407979726791382, 'learning_rate': 7.05e-05, 'epoch': 0.07}\n"
     ]
    },
    {
     "data": {
      "application/vnd.jupyter.widget-view+json": {
       "model_id": "05b4be6b48414abf9afc7cbcbfd57e69",
       "version_major": 2,
       "version_minor": 0
      },
      "text/plain": [
       "  0%|          | 0/279 [00:00<?, ?it/s]"
      ]
     },
     "metadata": {},
     "output_type": "display_data"
    },
    {
     "name": "stdout",
     "output_type": "stream",
     "text": [
      "{'eval_loss': 0.6196973919868469, 'eval_runtime': 13.9307, 'eval_samples_per_second': 199.919, 'eval_steps_per_second': 20.028, 'epoch': 0.07}\n",
      "{'loss': 0.7766, 'grad_norm': 1.7169671058654785, 'learning_rate': 7e-05, 'epoch': 0.07}\n"
     ]
    },
    {
     "data": {
      "application/vnd.jupyter.widget-view+json": {
       "model_id": "7f17852210784a7bb704bd09be9e0684",
       "version_major": 2,
       "version_minor": 0
      },
      "text/plain": [
       "  0%|          | 0/279 [00:00<?, ?it/s]"
      ]
     },
     "metadata": {},
     "output_type": "display_data"
    },
    {
     "name": "stdout",
     "output_type": "stream",
     "text": [
      "{'eval_loss': 0.6182217597961426, 'eval_runtime': 19.246, 'eval_samples_per_second': 144.705, 'eval_steps_per_second': 14.496, 'epoch': 0.07}\n",
      "{'loss': 0.7753, 'grad_norm': 1.4511038064956665, 'learning_rate': 6.95e-05, 'epoch': 0.08}\n"
     ]
    },
    {
     "data": {
      "application/vnd.jupyter.widget-view+json": {
       "model_id": "99201b37165b48aea39ccfe8a8c2c792",
       "version_major": 2,
       "version_minor": 0
      },
      "text/plain": [
       "  0%|          | 0/279 [00:00<?, ?it/s]"
      ]
     },
     "metadata": {},
     "output_type": "display_data"
    },
    {
     "name": "stdout",
     "output_type": "stream",
     "text": [
      "{'eval_loss': 0.6166025400161743, 'eval_runtime': 14.468, 'eval_samples_per_second': 192.493, 'eval_steps_per_second': 19.284, 'epoch': 0.08}\n",
      "{'loss': 0.7663, 'grad_norm': 1.9400206804275513, 'learning_rate': 6.9e-05, 'epoch': 0.08}\n"
     ]
    },
    {
     "data": {
      "application/vnd.jupyter.widget-view+json": {
       "model_id": "d4b242203688478f88dfce49f3776090",
       "version_major": 2,
       "version_minor": 0
      },
      "text/plain": [
       "  0%|          | 0/279 [00:00<?, ?it/s]"
      ]
     },
     "metadata": {},
     "output_type": "display_data"
    },
    {
     "name": "stdout",
     "output_type": "stream",
     "text": [
      "{'eval_loss': 0.6153066754341125, 'eval_runtime': 21.1626, 'eval_samples_per_second': 131.6, 'eval_steps_per_second': 13.184, 'epoch': 0.08}\n",
      "{'loss': 0.659, 'grad_norm': 1.8985393047332764, 'learning_rate': 6.850000000000001e-05, 'epoch': 0.08}\n"
     ]
    },
    {
     "data": {
      "application/vnd.jupyter.widget-view+json": {
       "model_id": "8d41a3ee716643f69691eeb10f68c302",
       "version_major": 2,
       "version_minor": 0
      },
      "text/plain": [
       "  0%|          | 0/279 [00:00<?, ?it/s]"
      ]
     },
     "metadata": {},
     "output_type": "display_data"
    },
    {
     "name": "stdout",
     "output_type": "stream",
     "text": [
      "{'eval_loss': 0.6121575236320496, 'eval_runtime': 18.9764, 'eval_samples_per_second': 146.761, 'eval_steps_per_second': 14.702, 'epoch': 0.08}\n",
      "{'loss': 0.5934, 'grad_norm': 1.5300694704055786, 'learning_rate': 6.800000000000001e-05, 'epoch': 0.08}\n"
     ]
    },
    {
     "data": {
      "application/vnd.jupyter.widget-view+json": {
       "model_id": "f10af4c13124440494c41a54f0716a52",
       "version_major": 2,
       "version_minor": 0
      },
      "text/plain": [
       "  0%|          | 0/279 [00:00<?, ?it/s]"
      ]
     },
     "metadata": {},
     "output_type": "display_data"
    },
    {
     "name": "stdout",
     "output_type": "stream",
     "text": [
      "{'eval_loss': 0.6089303493499756, 'eval_runtime': 21.9952, 'eval_samples_per_second': 126.618, 'eval_steps_per_second': 12.685, 'epoch': 0.08}\n",
      "{'loss': 0.7668, 'grad_norm': 1.7559036016464233, 'learning_rate': 6.750000000000001e-05, 'epoch': 0.08}\n"
     ]
    },
    {
     "data": {
      "application/vnd.jupyter.widget-view+json": {
       "model_id": "990031917b0f499a88344084683b9375",
       "version_major": 2,
       "version_minor": 0
      },
      "text/plain": [
       "  0%|          | 0/279 [00:00<?, ?it/s]"
      ]
     },
     "metadata": {},
     "output_type": "display_data"
    },
    {
     "name": "stdout",
     "output_type": "stream",
     "text": [
      "{'eval_loss': 0.605469822883606, 'eval_runtime': 14.472, 'eval_samples_per_second': 192.441, 'eval_steps_per_second': 19.279, 'epoch': 0.08}\n",
      "{'loss': 0.777, 'grad_norm': 1.8704259395599365, 'learning_rate': 6.7e-05, 'epoch': 0.08}\n"
     ]
    },
    {
     "data": {
      "application/vnd.jupyter.widget-view+json": {
       "model_id": "cb500355eb7a44858cc288b739ccb789",
       "version_major": 2,
       "version_minor": 0
      },
      "text/plain": [
       "  0%|          | 0/279 [00:00<?, ?it/s]"
      ]
     },
     "metadata": {},
     "output_type": "display_data"
    },
    {
     "name": "stdout",
     "output_type": "stream",
     "text": [
      "{'eval_loss': 0.6003857851028442, 'eval_runtime': 13.2798, 'eval_samples_per_second': 209.717, 'eval_steps_per_second': 21.009, 'epoch': 0.08}\n",
      "{'loss': 0.6558, 'grad_norm': 1.2258787155151367, 'learning_rate': 6.65e-05, 'epoch': 0.08}\n"
     ]
    },
    {
     "data": {
      "application/vnd.jupyter.widget-view+json": {
       "model_id": "55685222155240a19a44be8d86d66bf9",
       "version_major": 2,
       "version_minor": 0
      },
      "text/plain": [
       "  0%|          | 0/279 [00:00<?, ?it/s]"
      ]
     },
     "metadata": {},
     "output_type": "display_data"
    },
    {
     "name": "stdout",
     "output_type": "stream",
     "text": [
      "{'eval_loss': 0.5969748497009277, 'eval_runtime': 18.2175, 'eval_samples_per_second': 152.875, 'eval_steps_per_second': 15.315, 'epoch': 0.08}\n",
      "{'loss': 0.6818, 'grad_norm': 1.7250014543533325, 'learning_rate': 6.6e-05, 'epoch': 0.08}\n"
     ]
    },
    {
     "data": {
      "application/vnd.jupyter.widget-view+json": {
       "model_id": "7196a5739b624b49b7dfd45c6e832ab4",
       "version_major": 2,
       "version_minor": 0
      },
      "text/plain": [
       "  0%|          | 0/279 [00:00<?, ?it/s]"
      ]
     },
     "metadata": {},
     "output_type": "display_data"
    },
    {
     "name": "stdout",
     "output_type": "stream",
     "text": [
      "{'eval_loss': 0.5930539965629578, 'eval_runtime': 21.9105, 'eval_samples_per_second': 127.108, 'eval_steps_per_second': 12.734, 'epoch': 0.08}\n",
      "{'loss': 0.6382, 'grad_norm': 1.7089920043945312, 'learning_rate': 6.55e-05, 'epoch': 0.09}\n"
     ]
    },
    {
     "data": {
      "application/vnd.jupyter.widget-view+json": {
       "model_id": "f09d603145264c0389ad27c4763c9f3b",
       "version_major": 2,
       "version_minor": 0
      },
      "text/plain": [
       "  0%|          | 0/279 [00:00<?, ?it/s]"
      ]
     },
     "metadata": {},
     "output_type": "display_data"
    },
    {
     "name": "stdout",
     "output_type": "stream",
     "text": [
      "{'eval_loss': 0.5896604657173157, 'eval_runtime': 14.851, 'eval_samples_per_second': 187.53, 'eval_steps_per_second': 18.787, 'epoch': 0.09}\n",
      "{'loss': 0.6755, 'grad_norm': 1.5143076181411743, 'learning_rate': 6.500000000000001e-05, 'epoch': 0.09}\n"
     ]
    },
    {
     "data": {
      "application/vnd.jupyter.widget-view+json": {
       "model_id": "e5996275a55f46d5903c3b61d0b420b6",
       "version_major": 2,
       "version_minor": 0
      },
      "text/plain": [
       "  0%|          | 0/279 [00:00<?, ?it/s]"
      ]
     },
     "metadata": {},
     "output_type": "display_data"
    },
    {
     "name": "stdout",
     "output_type": "stream",
     "text": [
      "{'eval_loss': 0.5868321061134338, 'eval_runtime': 12.8802, 'eval_samples_per_second': 216.223, 'eval_steps_per_second': 21.661, 'epoch': 0.09}\n",
      "{'loss': 0.6344, 'grad_norm': 1.355013370513916, 'learning_rate': 6.450000000000001e-05, 'epoch': 0.09}\n"
     ]
    },
    {
     "data": {
      "application/vnd.jupyter.widget-view+json": {
       "model_id": "3e36acb23b874d67861eabe31aefe8fb",
       "version_major": 2,
       "version_minor": 0
      },
      "text/plain": [
       "  0%|          | 0/279 [00:00<?, ?it/s]"
      ]
     },
     "metadata": {},
     "output_type": "display_data"
    },
    {
     "name": "stdout",
     "output_type": "stream",
     "text": [
      "{'eval_loss': 0.5841982960700989, 'eval_runtime': 13.7403, 'eval_samples_per_second': 202.689, 'eval_steps_per_second': 20.305, 'epoch': 0.09}\n",
      "{'loss': 0.9038, 'grad_norm': 2.0964670181274414, 'learning_rate': 6.400000000000001e-05, 'epoch': 0.09}\n"
     ]
    },
    {
     "data": {
      "application/vnd.jupyter.widget-view+json": {
       "model_id": "54ae3443c706481787e105ee674c3e7e",
       "version_major": 2,
       "version_minor": 0
      },
      "text/plain": [
       "  0%|          | 0/279 [00:00<?, ?it/s]"
      ]
     },
     "metadata": {},
     "output_type": "display_data"
    },
    {
     "name": "stdout",
     "output_type": "stream",
     "text": [
      "{'eval_loss': 0.5824336409568787, 'eval_runtime': 13.1713, 'eval_samples_per_second': 211.445, 'eval_steps_per_second': 21.182, 'epoch': 0.09}\n",
      "{'loss': 0.6623, 'grad_norm': 1.9836039543151855, 'learning_rate': 6.35e-05, 'epoch': 0.09}\n"
     ]
    },
    {
     "data": {
      "application/vnd.jupyter.widget-view+json": {
       "model_id": "def4f182917947f58e04b6f2ca1becc9",
       "version_major": 2,
       "version_minor": 0
      },
      "text/plain": [
       "  0%|          | 0/279 [00:00<?, ?it/s]"
      ]
     },
     "metadata": {},
     "output_type": "display_data"
    },
    {
     "name": "stdout",
     "output_type": "stream",
     "text": [
      "{'eval_loss': 0.5810835361480713, 'eval_runtime': 15.2795, 'eval_samples_per_second': 182.27, 'eval_steps_per_second': 18.26, 'epoch': 0.09}\n",
      "{'loss': 0.6714, 'grad_norm': 1.8433059453964233, 'learning_rate': 6.3e-05, 'epoch': 0.09}\n"
     ]
    },
    {
     "data": {
      "application/vnd.jupyter.widget-view+json": {
       "model_id": "7223dc08e8db470ea0379b4309f0988e",
       "version_major": 2,
       "version_minor": 0
      },
      "text/plain": [
       "  0%|          | 0/279 [00:00<?, ?it/s]"
      ]
     },
     "metadata": {},
     "output_type": "display_data"
    },
    {
     "name": "stdout",
     "output_type": "stream",
     "text": [
      "{'eval_loss': 0.5797852277755737, 'eval_runtime': 22.1797, 'eval_samples_per_second': 125.565, 'eval_steps_per_second': 12.579, 'epoch': 0.09}\n",
      "{'loss': 0.6672, 'grad_norm': 1.6841570138931274, 'learning_rate': 6.25e-05, 'epoch': 0.09}\n"
     ]
    },
    {
     "data": {
      "application/vnd.jupyter.widget-view+json": {
       "model_id": "41737881ca6045a184c513c5bea71ab0",
       "version_major": 2,
       "version_minor": 0
      },
      "text/plain": [
       "  0%|          | 0/279 [00:00<?, ?it/s]"
      ]
     },
     "metadata": {},
     "output_type": "display_data"
    },
    {
     "name": "stdout",
     "output_type": "stream",
     "text": [
      "{'eval_loss': 0.5782339572906494, 'eval_runtime': 17.4373, 'eval_samples_per_second': 159.716, 'eval_steps_per_second': 16.0, 'epoch': 0.09}\n",
      "{'loss': 0.7245, 'grad_norm': 1.7824122905731201, 'learning_rate': 6.2e-05, 'epoch': 0.09}\n"
     ]
    },
    {
     "data": {
      "application/vnd.jupyter.widget-view+json": {
       "model_id": "7bd338cee61843ae88a2a1984e758f25",
       "version_major": 2,
       "version_minor": 0
      },
      "text/plain": [
       "  0%|          | 0/279 [00:00<?, ?it/s]"
      ]
     },
     "metadata": {},
     "output_type": "display_data"
    },
    {
     "name": "stdout",
     "output_type": "stream",
     "text": [
      "{'eval_loss': 0.5762900710105896, 'eval_runtime': 13.5654, 'eval_samples_per_second': 205.301, 'eval_steps_per_second': 20.567, 'epoch': 0.09}\n",
      "{'loss': 0.6798, 'grad_norm': 1.657588243484497, 'learning_rate': 6.15e-05, 'epoch': 0.1}\n"
     ]
    },
    {
     "data": {
      "application/vnd.jupyter.widget-view+json": {
       "model_id": "e11ee90259654f9ea6206537f1bae1c0",
       "version_major": 2,
       "version_minor": 0
      },
      "text/plain": [
       "  0%|          | 0/279 [00:00<?, ?it/s]"
      ]
     },
     "metadata": {},
     "output_type": "display_data"
    },
    {
     "name": "stdout",
     "output_type": "stream",
     "text": [
      "{'eval_loss': 0.5742844343185425, 'eval_runtime': 14.3657, 'eval_samples_per_second': 193.865, 'eval_steps_per_second': 19.421, 'epoch': 0.1}\n",
      "{'loss': 0.701, 'grad_norm': 1.630065679550171, 'learning_rate': 6.1e-05, 'epoch': 0.1}\n"
     ]
    },
    {
     "data": {
      "application/vnd.jupyter.widget-view+json": {
       "model_id": "7abb91464ac942c19662d6c0775942b0",
       "version_major": 2,
       "version_minor": 0
      },
      "text/plain": [
       "  0%|          | 0/279 [00:00<?, ?it/s]"
      ]
     },
     "metadata": {},
     "output_type": "display_data"
    },
    {
     "name": "stdout",
     "output_type": "stream",
     "text": [
      "{'eval_loss': 0.5724282264709473, 'eval_runtime': 15.2744, 'eval_samples_per_second': 182.331, 'eval_steps_per_second': 18.266, 'epoch': 0.1}\n",
      "{'loss': 0.6853, 'grad_norm': 1.8007293939590454, 'learning_rate': 6.05e-05, 'epoch': 0.1}\n"
     ]
    },
    {
     "data": {
      "application/vnd.jupyter.widget-view+json": {
       "model_id": "4fb7e8903b50417286e2a3d90c27e5b7",
       "version_major": 2,
       "version_minor": 0
      },
      "text/plain": [
       "  0%|          | 0/279 [00:00<?, ?it/s]"
      ]
     },
     "metadata": {},
     "output_type": "display_data"
    },
    {
     "name": "stdout",
     "output_type": "stream",
     "text": [
      "{'eval_loss': 0.5707835555076599, 'eval_runtime': 13.4911, 'eval_samples_per_second': 206.432, 'eval_steps_per_second': 20.68, 'epoch': 0.1}\n",
      "{'loss': 0.6808, 'grad_norm': 1.4295599460601807, 'learning_rate': 6e-05, 'epoch': 0.1}\n"
     ]
    },
    {
     "data": {
      "application/vnd.jupyter.widget-view+json": {
       "model_id": "2ef8e3fe7fe046ff8c869519f2342905",
       "version_major": 2,
       "version_minor": 0
      },
      "text/plain": [
       "  0%|          | 0/279 [00:00<?, ?it/s]"
      ]
     },
     "metadata": {},
     "output_type": "display_data"
    },
    {
     "name": "stdout",
     "output_type": "stream",
     "text": [
      "{'eval_loss': 0.5697216391563416, 'eval_runtime': 15.2022, 'eval_samples_per_second': 183.198, 'eval_steps_per_second': 18.353, 'epoch': 0.1}\n",
      "{'loss': 0.658, 'grad_norm': 1.4560422897338867, 'learning_rate': 5.95e-05, 'epoch': 0.1}\n"
     ]
    },
    {
     "data": {
      "application/vnd.jupyter.widget-view+json": {
       "model_id": "df08741770894877a8bf209462258e16",
       "version_major": 2,
       "version_minor": 0
      },
      "text/plain": [
       "  0%|          | 0/279 [00:00<?, ?it/s]"
      ]
     },
     "metadata": {},
     "output_type": "display_data"
    },
    {
     "name": "stdout",
     "output_type": "stream",
     "text": [
      "{'eval_loss': 0.56908118724823, 'eval_runtime': 13.6999, 'eval_samples_per_second': 203.287, 'eval_steps_per_second': 20.365, 'epoch': 0.1}\n",
      "{'loss': 0.9009, 'grad_norm': 1.6588668823242188, 'learning_rate': 5.9e-05, 'epoch': 0.1}\n"
     ]
    },
    {
     "data": {
      "application/vnd.jupyter.widget-view+json": {
       "model_id": "aacd4335751044a6b3d576f738ee336f",
       "version_major": 2,
       "version_minor": 0
      },
      "text/plain": [
       "  0%|          | 0/279 [00:00<?, ?it/s]"
      ]
     },
     "metadata": {},
     "output_type": "display_data"
    },
    {
     "name": "stdout",
     "output_type": "stream",
     "text": [
      "{'eval_loss': 0.5682172775268555, 'eval_runtime': 12.4467, 'eval_samples_per_second': 223.754, 'eval_steps_per_second': 22.416, 'epoch': 0.1}\n",
      "{'loss': 0.7173, 'grad_norm': 1.7349097728729248, 'learning_rate': 5.85e-05, 'epoch': 0.1}\n"
     ]
    },
    {
     "data": {
      "application/vnd.jupyter.widget-view+json": {
       "model_id": "20b0312c62f841528f1a86b42618b2f4",
       "version_major": 2,
       "version_minor": 0
      },
      "text/plain": [
       "  0%|          | 0/279 [00:00<?, ?it/s]"
      ]
     },
     "metadata": {},
     "output_type": "display_data"
    },
    {
     "name": "stdout",
     "output_type": "stream",
     "text": [
      "{'eval_loss': 0.5684437155723572, 'eval_runtime': 23.2114, 'eval_samples_per_second': 119.984, 'eval_steps_per_second': 12.02, 'epoch': 0.1}\n",
      "{'loss': 0.743, 'grad_norm': 1.5615774393081665, 'learning_rate': 5.8e-05, 'epoch': 0.1}\n"
     ]
    },
    {
     "data": {
      "application/vnd.jupyter.widget-view+json": {
       "model_id": "5c2ae3a064e7409c863d8ce7c00755ed",
       "version_major": 2,
       "version_minor": 0
      },
      "text/plain": [
       "  0%|          | 0/279 [00:00<?, ?it/s]"
      ]
     },
     "metadata": {},
     "output_type": "display_data"
    },
    {
     "name": "stdout",
     "output_type": "stream",
     "text": [
      "{'eval_loss': 0.5694815516471863, 'eval_runtime': 12.6629, 'eval_samples_per_second': 219.934, 'eval_steps_per_second': 22.033, 'epoch': 0.1}\n",
      "{'loss': 0.7575, 'grad_norm': 2.0948400497436523, 'learning_rate': 5.7499999999999995e-05, 'epoch': 0.11}\n"
     ]
    },
    {
     "data": {
      "application/vnd.jupyter.widget-view+json": {
       "model_id": "4118de2e217c4b7aa31b4c44a991e5e0",
       "version_major": 2,
       "version_minor": 0
      },
      "text/plain": [
       "  0%|          | 0/279 [00:00<?, ?it/s]"
      ]
     },
     "metadata": {},
     "output_type": "display_data"
    },
    {
     "name": "stdout",
     "output_type": "stream",
     "text": [
      "{'eval_loss': 0.5705386400222778, 'eval_runtime': 12.2388, 'eval_samples_per_second': 227.555, 'eval_steps_per_second': 22.796, 'epoch': 0.11}\n",
      "{'loss': 0.6526, 'grad_norm': 1.8712512254714966, 'learning_rate': 5.6999999999999996e-05, 'epoch': 0.11}\n"
     ]
    },
    {
     "data": {
      "application/vnd.jupyter.widget-view+json": {
       "model_id": "0eb14ed364314dbe80124bb0ea8d5576",
       "version_major": 2,
       "version_minor": 0
      },
      "text/plain": [
       "  0%|          | 0/279 [00:00<?, ?it/s]"
      ]
     },
     "metadata": {},
     "output_type": "display_data"
    },
    {
     "name": "stdout",
     "output_type": "stream",
     "text": [
      "{'eval_loss': 0.5715968608856201, 'eval_runtime': 12.4608, 'eval_samples_per_second': 223.5, 'eval_steps_per_second': 22.39, 'epoch': 0.11}\n",
      "{'loss': 0.6954, 'grad_norm': 1.5647177696228027, 'learning_rate': 5.65e-05, 'epoch': 0.11}\n"
     ]
    },
    {
     "data": {
      "application/vnd.jupyter.widget-view+json": {
       "model_id": "b198f1e2d3d64cf687642d0cea40a60a",
       "version_major": 2,
       "version_minor": 0
      },
      "text/plain": [
       "  0%|          | 0/279 [00:00<?, ?it/s]"
      ]
     },
     "metadata": {},
     "output_type": "display_data"
    },
    {
     "name": "stdout",
     "output_type": "stream",
     "text": [
      "{'eval_loss': 0.5737383961677551, 'eval_runtime': 12.4482, 'eval_samples_per_second': 223.727, 'eval_steps_per_second': 22.413, 'epoch': 0.11}\n",
      "{'loss': 0.6982, 'grad_norm': 1.8727302551269531, 'learning_rate': 5.6000000000000006e-05, 'epoch': 0.11}\n"
     ]
    },
    {
     "data": {
      "application/vnd.jupyter.widget-view+json": {
       "model_id": "2cac61a385c846b291b94f5b7ad9a60c",
       "version_major": 2,
       "version_minor": 0
      },
      "text/plain": [
       "  0%|          | 0/279 [00:00<?, ?it/s]"
      ]
     },
     "metadata": {},
     "output_type": "display_data"
    },
    {
     "name": "stdout",
     "output_type": "stream",
     "text": [
      "{'eval_loss': 0.573963463306427, 'eval_runtime': 12.182, 'eval_samples_per_second': 228.615, 'eval_steps_per_second': 22.903, 'epoch': 0.11}\n",
      "{'loss': 0.7591, 'grad_norm': 1.8358768224716187, 'learning_rate': 5.550000000000001e-05, 'epoch': 0.11}\n"
     ]
    },
    {
     "data": {
      "application/vnd.jupyter.widget-view+json": {
       "model_id": "c500d7320652426d877aac9800c5f51a",
       "version_major": 2,
       "version_minor": 0
      },
      "text/plain": [
       "  0%|          | 0/279 [00:00<?, ?it/s]"
      ]
     },
     "metadata": {},
     "output_type": "display_data"
    },
    {
     "name": "stdout",
     "output_type": "stream",
     "text": [
      "{'eval_loss': 0.5732495784759521, 'eval_runtime': 12.2226, 'eval_samples_per_second': 227.856, 'eval_steps_per_second': 22.826, 'epoch': 0.11}\n",
      "{'loss': 0.6567, 'grad_norm': 2.058584451675415, 'learning_rate': 5.500000000000001e-05, 'epoch': 0.11}\n"
     ]
    },
    {
     "data": {
      "application/vnd.jupyter.widget-view+json": {
       "model_id": "957485cd10f24d9195ae74eec899c78c",
       "version_major": 2,
       "version_minor": 0
      },
      "text/plain": [
       "  0%|          | 0/279 [00:00<?, ?it/s]"
      ]
     },
     "metadata": {},
     "output_type": "display_data"
    },
    {
     "name": "stdout",
     "output_type": "stream",
     "text": [
      "{'eval_loss': 0.5722103118896484, 'eval_runtime': 12.1298, 'eval_samples_per_second': 229.6, 'eval_steps_per_second': 23.001, 'epoch': 0.11}\n",
      "{'loss': 0.5445, 'grad_norm': 1.3102307319641113, 'learning_rate': 5.45e-05, 'epoch': 0.11}\n"
     ]
    },
    {
     "data": {
      "application/vnd.jupyter.widget-view+json": {
       "model_id": "f3caea2b2f1941f189f062f08d96c703",
       "version_major": 2,
       "version_minor": 0
      },
      "text/plain": [
       "  0%|          | 0/279 [00:00<?, ?it/s]"
      ]
     },
     "metadata": {},
     "output_type": "display_data"
    },
    {
     "name": "stdout",
     "output_type": "stream",
     "text": [
      "{'eval_loss': 0.5703549385070801, 'eval_runtime': 12.1826, 'eval_samples_per_second': 228.604, 'eval_steps_per_second': 22.901, 'epoch': 0.11}\n",
      "{'loss': 0.8118, 'grad_norm': 2.001948833465576, 'learning_rate': 5.4000000000000005e-05, 'epoch': 0.11}\n"
     ]
    },
    {
     "data": {
      "application/vnd.jupyter.widget-view+json": {
       "model_id": "49bfd07b2830475285b2541e1232396d",
       "version_major": 2,
       "version_minor": 0
      },
      "text/plain": [
       "  0%|          | 0/279 [00:00<?, ?it/s]"
      ]
     },
     "metadata": {},
     "output_type": "display_data"
    },
    {
     "name": "stdout",
     "output_type": "stream",
     "text": [
      "{'eval_loss': 0.5689282417297363, 'eval_runtime': 12.2535, 'eval_samples_per_second': 227.283, 'eval_steps_per_second': 22.769, 'epoch': 0.11}\n",
      "{'loss': 0.6321, 'grad_norm': 1.5404586791992188, 'learning_rate': 5.3500000000000006e-05, 'epoch': 0.12}\n"
     ]
    },
    {
     "data": {
      "application/vnd.jupyter.widget-view+json": {
       "model_id": "a0c341900f69466187bf49479bf3ad70",
       "version_major": 2,
       "version_minor": 0
      },
      "text/plain": [
       "  0%|          | 0/279 [00:00<?, ?it/s]"
      ]
     },
     "metadata": {},
     "output_type": "display_data"
    },
    {
     "name": "stdout",
     "output_type": "stream",
     "text": [
      "{'eval_loss': 0.5679359436035156, 'eval_runtime': 12.1934, 'eval_samples_per_second': 228.402, 'eval_steps_per_second': 22.881, 'epoch': 0.12}\n",
      "{'loss': 0.7188, 'grad_norm': 1.6202837228775024, 'learning_rate': 5.300000000000001e-05, 'epoch': 0.12}\n"
     ]
    },
    {
     "data": {
      "application/vnd.jupyter.widget-view+json": {
       "model_id": "a693419495e542babf9ecf3b84837afe",
       "version_major": 2,
       "version_minor": 0
      },
      "text/plain": [
       "  0%|          | 0/279 [00:00<?, ?it/s]"
      ]
     },
     "metadata": {},
     "output_type": "display_data"
    },
    {
     "name": "stdout",
     "output_type": "stream",
     "text": [
      "{'eval_loss': 0.566504716873169, 'eval_runtime': 12.4568, 'eval_samples_per_second': 223.573, 'eval_steps_per_second': 22.397, 'epoch': 0.12}\n",
      "{'loss': 0.6603, 'grad_norm': 1.5652037858963013, 'learning_rate': 5.25e-05, 'epoch': 0.12}\n"
     ]
    },
    {
     "data": {
      "application/vnd.jupyter.widget-view+json": {
       "model_id": "3801cc5a728f4b79825b668f32423ac9",
       "version_major": 2,
       "version_minor": 0
      },
      "text/plain": [
       "  0%|          | 0/279 [00:00<?, ?it/s]"
      ]
     },
     "metadata": {},
     "output_type": "display_data"
    },
    {
     "name": "stdout",
     "output_type": "stream",
     "text": [
      "{'eval_loss': 0.5659753680229187, 'eval_runtime': 23.0479, 'eval_samples_per_second': 120.835, 'eval_steps_per_second': 12.105, 'epoch': 0.12}\n",
      "{'loss': 0.7121, 'grad_norm': 1.9472382068634033, 'learning_rate': 5.2000000000000004e-05, 'epoch': 0.12}\n"
     ]
    },
    {
     "data": {
      "application/vnd.jupyter.widget-view+json": {
       "model_id": "2042df5e9b87493fa3fdb664ed75bda7",
       "version_major": 2,
       "version_minor": 0
      },
      "text/plain": [
       "  0%|          | 0/279 [00:00<?, ?it/s]"
      ]
     },
     "metadata": {},
     "output_type": "display_data"
    },
    {
     "name": "stdout",
     "output_type": "stream",
     "text": [
      "{'eval_loss': 0.5665712356567383, 'eval_runtime': 20.9573, 'eval_samples_per_second': 132.889, 'eval_steps_per_second': 13.313, 'epoch': 0.12}\n",
      "{'loss': 0.694, 'grad_norm': 1.4772673845291138, 'learning_rate': 5.1500000000000005e-05, 'epoch': 0.12}\n"
     ]
    },
    {
     "data": {
      "application/vnd.jupyter.widget-view+json": {
       "model_id": "0b66b4a61f344a4d9c20dca6b1fca80f",
       "version_major": 2,
       "version_minor": 0
      },
      "text/plain": [
       "  0%|          | 0/279 [00:00<?, ?it/s]"
      ]
     },
     "metadata": {},
     "output_type": "display_data"
    },
    {
     "name": "stdout",
     "output_type": "stream",
     "text": [
      "{'eval_loss': 0.5659028887748718, 'eval_runtime': 20.7823, 'eval_samples_per_second': 134.008, 'eval_steps_per_second': 13.425, 'epoch': 0.12}\n",
      "{'loss': 0.7669, 'grad_norm': 2.1975479125976562, 'learning_rate': 5.1000000000000006e-05, 'epoch': 0.12}\n"
     ]
    },
    {
     "data": {
      "application/vnd.jupyter.widget-view+json": {
       "model_id": "bc4aa8968acd4ae4a4c74f7e10b9baef",
       "version_major": 2,
       "version_minor": 0
      },
      "text/plain": [
       "  0%|          | 0/279 [00:00<?, ?it/s]"
      ]
     },
     "metadata": {},
     "output_type": "display_data"
    },
    {
     "name": "stdout",
     "output_type": "stream",
     "text": [
      "{'eval_loss': 0.5659472346305847, 'eval_runtime': 15.0865, 'eval_samples_per_second': 184.602, 'eval_steps_per_second': 18.493, 'epoch': 0.12}\n",
      "{'loss': 0.6915, 'grad_norm': 1.6111462116241455, 'learning_rate': 5.05e-05, 'epoch': 0.12}\n"
     ]
    },
    {
     "data": {
      "application/vnd.jupyter.widget-view+json": {
       "model_id": "09958d5bdadd473f81ade8c3949ea58d",
       "version_major": 2,
       "version_minor": 0
      },
      "text/plain": [
       "  0%|          | 0/279 [00:00<?, ?it/s]"
      ]
     },
     "metadata": {},
     "output_type": "display_data"
    },
    {
     "name": "stdout",
     "output_type": "stream",
     "text": [
      "{'eval_loss': 0.5651167035102844, 'eval_runtime': 12.9665, 'eval_samples_per_second': 214.784, 'eval_steps_per_second': 21.517, 'epoch': 0.12}\n",
      "{'loss': 0.5761, 'grad_norm': 1.6174280643463135, 'learning_rate': 5e-05, 'epoch': 0.12}\n"
     ]
    },
    {
     "data": {
      "application/vnd.jupyter.widget-view+json": {
       "model_id": "36d2c854dd2147b28a51f9999b98f3b0",
       "version_major": 2,
       "version_minor": 0
      },
      "text/plain": [
       "  0%|          | 0/279 [00:00<?, ?it/s]"
      ]
     },
     "metadata": {},
     "output_type": "display_data"
    },
    {
     "name": "stdout",
     "output_type": "stream",
     "text": [
      "{'eval_loss': 0.563275933265686, 'eval_runtime': 13.6947, 'eval_samples_per_second': 203.363, 'eval_steps_per_second': 20.373, 'epoch': 0.12}\n",
      "{'loss': 0.6209, 'grad_norm': 1.4149484634399414, 'learning_rate': 4.9500000000000004e-05, 'epoch': 0.13}\n"
     ]
    },
    {
     "data": {
      "application/vnd.jupyter.widget-view+json": {
       "model_id": "94dcd9f637b54666b7df1f6dd95de0e7",
       "version_major": 2,
       "version_minor": 0
      },
      "text/plain": [
       "  0%|          | 0/279 [00:00<?, ?it/s]"
      ]
     },
     "metadata": {},
     "output_type": "display_data"
    },
    {
     "name": "stdout",
     "output_type": "stream",
     "text": [
      "{'eval_loss': 0.5615459084510803, 'eval_runtime': 12.6272, 'eval_samples_per_second': 220.556, 'eval_steps_per_second': 22.095, 'epoch': 0.13}\n",
      "{'loss': 0.9241, 'grad_norm': 2.0765280723571777, 'learning_rate': 4.9e-05, 'epoch': 0.13}\n"
     ]
    },
    {
     "data": {
      "application/vnd.jupyter.widget-view+json": {
       "model_id": "165ad8fcc8ce409aaa7a0637d9e53da6",
       "version_major": 2,
       "version_minor": 0
      },
      "text/plain": [
       "  0%|          | 0/279 [00:00<?, ?it/s]"
      ]
     },
     "metadata": {},
     "output_type": "display_data"
    },
    {
     "name": "stdout",
     "output_type": "stream",
     "text": [
      "{'eval_loss': 0.5598450303077698, 'eval_runtime': 13.0976, 'eval_samples_per_second': 212.634, 'eval_steps_per_second': 21.302, 'epoch': 0.13}\n",
      "{'loss': 0.8799, 'grad_norm': 2.220933675765991, 'learning_rate': 4.85e-05, 'epoch': 0.13}\n"
     ]
    },
    {
     "data": {
      "application/vnd.jupyter.widget-view+json": {
       "model_id": "88824c26e1724449829c7299621f7279",
       "version_major": 2,
       "version_minor": 0
      },
      "text/plain": [
       "  0%|          | 0/279 [00:00<?, ?it/s]"
      ]
     },
     "metadata": {},
     "output_type": "display_data"
    },
    {
     "name": "stdout",
     "output_type": "stream",
     "text": [
      "{'eval_loss': 0.5592681169509888, 'eval_runtime': 12.3924, 'eval_samples_per_second': 224.734, 'eval_steps_per_second': 22.514, 'epoch': 0.13}\n",
      "{'loss': 0.605, 'grad_norm': 1.347348928451538, 'learning_rate': 4.8e-05, 'epoch': 0.13}\n"
     ]
    },
    {
     "data": {
      "application/vnd.jupyter.widget-view+json": {
       "model_id": "9c627cffd1084f6fa3edc8ce907152c6",
       "version_major": 2,
       "version_minor": 0
      },
      "text/plain": [
       "  0%|          | 0/279 [00:00<?, ?it/s]"
      ]
     },
     "metadata": {},
     "output_type": "display_data"
    },
    {
     "name": "stdout",
     "output_type": "stream",
     "text": [
      "{'eval_loss': 0.5583553314208984, 'eval_runtime': 12.8499, 'eval_samples_per_second': 216.734, 'eval_steps_per_second': 21.712, 'epoch': 0.13}\n",
      "{'loss': 0.6815, 'grad_norm': 1.6251602172851562, 'learning_rate': 4.75e-05, 'epoch': 0.13}\n"
     ]
    },
    {
     "data": {
      "application/vnd.jupyter.widget-view+json": {
       "model_id": "a26d9a32906c4122ae3c5044b614520d",
       "version_major": 2,
       "version_minor": 0
      },
      "text/plain": [
       "  0%|          | 0/279 [00:00<?, ?it/s]"
      ]
     },
     "metadata": {},
     "output_type": "display_data"
    },
    {
     "name": "stdout",
     "output_type": "stream",
     "text": [
      "{'eval_loss': 0.558383584022522, 'eval_runtime': 13.059, 'eval_samples_per_second': 213.262, 'eval_steps_per_second': 21.365, 'epoch': 0.13}\n",
      "{'loss': 0.7239, 'grad_norm': 1.4461580514907837, 'learning_rate': 4.7e-05, 'epoch': 0.13}\n"
     ]
    },
    {
     "data": {
      "application/vnd.jupyter.widget-view+json": {
       "model_id": "7aeddc709c0a43fb91d14cd4c6a17f5d",
       "version_major": 2,
       "version_minor": 0
      },
      "text/plain": [
       "  0%|          | 0/279 [00:00<?, ?it/s]"
      ]
     },
     "metadata": {},
     "output_type": "display_data"
    },
    {
     "name": "stdout",
     "output_type": "stream",
     "text": [
      "{'eval_loss': 0.5579475164413452, 'eval_runtime': 13.2365, 'eval_samples_per_second': 210.402, 'eval_steps_per_second': 21.078, 'epoch': 0.13}\n",
      "{'loss': 0.7714, 'grad_norm': 1.7601290941238403, 'learning_rate': 4.6500000000000005e-05, 'epoch': 0.13}\n"
     ]
    },
    {
     "data": {
      "application/vnd.jupyter.widget-view+json": {
       "model_id": "629e97ef45714011b1e1f8ae2f5248f2",
       "version_major": 2,
       "version_minor": 0
      },
      "text/plain": [
       "  0%|          | 0/279 [00:00<?, ?it/s]"
      ]
     },
     "metadata": {},
     "output_type": "display_data"
    },
    {
     "name": "stdout",
     "output_type": "stream",
     "text": [
      "{'eval_loss': 0.5576735138893127, 'eval_runtime': 13.3929, 'eval_samples_per_second': 207.945, 'eval_steps_per_second': 20.832, 'epoch': 0.13}\n",
      "{'loss': 0.6604, 'grad_norm': 1.5650584697723389, 'learning_rate': 4.600000000000001e-05, 'epoch': 0.13}\n"
     ]
    },
    {
     "data": {
      "application/vnd.jupyter.widget-view+json": {
       "model_id": "1f8ac6b654784f9e8696247de2876137",
       "version_major": 2,
       "version_minor": 0
      },
      "text/plain": [
       "  0%|          | 0/279 [00:00<?, ?it/s]"
      ]
     },
     "metadata": {},
     "output_type": "display_data"
    },
    {
     "name": "stdout",
     "output_type": "stream",
     "text": [
      "{'eval_loss': 0.5576792359352112, 'eval_runtime': 13.7928, 'eval_samples_per_second': 201.917, 'eval_steps_per_second': 20.228, 'epoch': 0.13}\n",
      "{'loss': 0.6144, 'grad_norm': 1.1597437858581543, 'learning_rate': 4.55e-05, 'epoch': 0.14}\n"
     ]
    },
    {
     "data": {
      "application/vnd.jupyter.widget-view+json": {
       "model_id": "be0f1df40dba4199a2283a714b4f7b83",
       "version_major": 2,
       "version_minor": 0
      },
      "text/plain": [
       "  0%|          | 0/279 [00:00<?, ?it/s]"
      ]
     },
     "metadata": {},
     "output_type": "display_data"
    },
    {
     "name": "stdout",
     "output_type": "stream",
     "text": [
      "{'eval_loss': 0.557960569858551, 'eval_runtime': 12.9668, 'eval_samples_per_second': 214.78, 'eval_steps_per_second': 21.517, 'epoch': 0.14}\n",
      "{'loss': 0.7049, 'grad_norm': 1.8543527126312256, 'learning_rate': 4.5e-05, 'epoch': 0.14}\n"
     ]
    },
    {
     "data": {
      "application/vnd.jupyter.widget-view+json": {
       "model_id": "77ac2f9e4cc44e20b6caee8f0289e661",
       "version_major": 2,
       "version_minor": 0
      },
      "text/plain": [
       "  0%|          | 0/279 [00:00<?, ?it/s]"
      ]
     },
     "metadata": {},
     "output_type": "display_data"
    },
    {
     "name": "stdout",
     "output_type": "stream",
     "text": [
      "{'eval_loss': 0.5569501519203186, 'eval_runtime': 14.1866, 'eval_samples_per_second': 196.312, 'eval_steps_per_second': 19.666, 'epoch': 0.14}\n",
      "{'loss': 0.8067, 'grad_norm': 2.127140760421753, 'learning_rate': 4.4500000000000004e-05, 'epoch': 0.14}\n"
     ]
    },
    {
     "data": {
      "application/vnd.jupyter.widget-view+json": {
       "model_id": "2dc0e4af11e443d7a10a5626e461f952",
       "version_major": 2,
       "version_minor": 0
      },
      "text/plain": [
       "  0%|          | 0/279 [00:00<?, ?it/s]"
      ]
     },
     "metadata": {},
     "output_type": "display_data"
    },
    {
     "name": "stdout",
     "output_type": "stream",
     "text": [
      "{'eval_loss': 0.5554860830307007, 'eval_runtime': 15.701, 'eval_samples_per_second': 177.377, 'eval_steps_per_second': 17.77, 'epoch': 0.14}\n",
      "{'loss': 0.7722, 'grad_norm': 1.968812346458435, 'learning_rate': 4.4000000000000006e-05, 'epoch': 0.14}\n"
     ]
    },
    {
     "data": {
      "application/vnd.jupyter.widget-view+json": {
       "model_id": "c659fe02142544af882b88b0fa9f74c2",
       "version_major": 2,
       "version_minor": 0
      },
      "text/plain": [
       "  0%|          | 0/279 [00:00<?, ?it/s]"
      ]
     },
     "metadata": {},
     "output_type": "display_data"
    },
    {
     "name": "stdout",
     "output_type": "stream",
     "text": [
      "{'eval_loss': 0.554149866104126, 'eval_runtime': 16.5201, 'eval_samples_per_second': 168.583, 'eval_steps_per_second': 16.889, 'epoch': 0.14}\n",
      "{'loss': 0.6388, 'grad_norm': 1.6399065256118774, 'learning_rate': 4.35e-05, 'epoch': 0.14}\n"
     ]
    },
    {
     "data": {
      "application/vnd.jupyter.widget-view+json": {
       "model_id": "735b1ce78a7249129afffcec7ee7ff66",
       "version_major": 2,
       "version_minor": 0
      },
      "text/plain": [
       "  0%|          | 0/279 [00:00<?, ?it/s]"
      ]
     },
     "metadata": {},
     "output_type": "display_data"
    },
    {
     "name": "stdout",
     "output_type": "stream",
     "text": [
      "{'eval_loss': 0.5535171031951904, 'eval_runtime': 17.3309, 'eval_samples_per_second': 160.696, 'eval_steps_per_second': 16.098, 'epoch': 0.14}\n",
      "{'loss': 0.7088, 'grad_norm': 1.6848498582839966, 'learning_rate': 4.3e-05, 'epoch': 0.14}\n"
     ]
    },
    {
     "data": {
      "application/vnd.jupyter.widget-view+json": {
       "model_id": "4fc3852aae504f1fb1f7ba556fd7db34",
       "version_major": 2,
       "version_minor": 0
      },
      "text/plain": [
       "  0%|          | 0/279 [00:00<?, ?it/s]"
      ]
     },
     "metadata": {},
     "output_type": "display_data"
    },
    {
     "name": "stdout",
     "output_type": "stream",
     "text": [
      "{'eval_loss': 0.5528499484062195, 'eval_runtime': 15.98, 'eval_samples_per_second': 174.281, 'eval_steps_per_second': 17.459, 'epoch': 0.14}\n",
      "{'loss': 0.7331, 'grad_norm': 2.0423800945281982, 'learning_rate': 4.25e-05, 'epoch': 0.14}\n"
     ]
    },
    {
     "data": {
      "application/vnd.jupyter.widget-view+json": {
       "model_id": "5efa4a62098a4b19899384f6518353b4",
       "version_major": 2,
       "version_minor": 0
      },
      "text/plain": [
       "  0%|          | 0/279 [00:00<?, ?it/s]"
      ]
     },
     "metadata": {},
     "output_type": "display_data"
    },
    {
     "name": "stdout",
     "output_type": "stream",
     "text": [
      "{'eval_loss': 0.5537774562835693, 'eval_runtime': 14.0666, 'eval_samples_per_second': 197.987, 'eval_steps_per_second': 19.834, 'epoch': 0.14}\n",
      "{'loss': 0.6837, 'grad_norm': 1.5136648416519165, 'learning_rate': 4.2e-05, 'epoch': 0.14}\n"
     ]
    },
    {
     "data": {
      "application/vnd.jupyter.widget-view+json": {
       "model_id": "f873a3cd406b4a729fe3d3672af5999b",
       "version_major": 2,
       "version_minor": 0
      },
      "text/plain": [
       "  0%|          | 0/279 [00:00<?, ?it/s]"
      ]
     },
     "metadata": {},
     "output_type": "display_data"
    },
    {
     "name": "stdout",
     "output_type": "stream",
     "text": [
      "{'eval_loss': 0.5549222230911255, 'eval_runtime': 13.5612, 'eval_samples_per_second': 205.366, 'eval_steps_per_second': 20.573, 'epoch': 0.14}\n",
      "{'loss': 0.7012, 'grad_norm': 1.554426670074463, 'learning_rate': 4.15e-05, 'epoch': 0.15}\n"
     ]
    },
    {
     "data": {
      "application/vnd.jupyter.widget-view+json": {
       "model_id": "56acc0367f064dbca2f29878a8fb53d9",
       "version_major": 2,
       "version_minor": 0
      },
      "text/plain": [
       "  0%|          | 0/279 [00:00<?, ?it/s]"
      ]
     },
     "metadata": {},
     "output_type": "display_data"
    },
    {
     "name": "stdout",
     "output_type": "stream",
     "text": [
      "{'eval_loss': 0.5553197264671326, 'eval_runtime': 12.4842, 'eval_samples_per_second': 223.081, 'eval_steps_per_second': 22.348, 'epoch': 0.15}\n",
      "{'loss': 0.7502, 'grad_norm': 1.4580152034759521, 'learning_rate': 4.1e-05, 'epoch': 0.15}\n"
     ]
    },
    {
     "data": {
      "application/vnd.jupyter.widget-view+json": {
       "model_id": "6a0b5c40553c42ad81ebb4252753a0b0",
       "version_major": 2,
       "version_minor": 0
      },
      "text/plain": [
       "  0%|          | 0/279 [00:00<?, ?it/s]"
      ]
     },
     "metadata": {},
     "output_type": "display_data"
    },
    {
     "name": "stdout",
     "output_type": "stream",
     "text": [
      "{'eval_loss': 0.5564005374908447, 'eval_runtime': 12.7316, 'eval_samples_per_second': 218.747, 'eval_steps_per_second': 21.914, 'epoch': 0.15}\n",
      "{'loss': 0.6445, 'grad_norm': 1.4816391468048096, 'learning_rate': 4.05e-05, 'epoch': 0.15}\n"
     ]
    },
    {
     "data": {
      "application/vnd.jupyter.widget-view+json": {
       "model_id": "97eec57c49b34a579fe6bc447a418efb",
       "version_major": 2,
       "version_minor": 0
      },
      "text/plain": [
       "  0%|          | 0/279 [00:00<?, ?it/s]"
      ]
     },
     "metadata": {},
     "output_type": "display_data"
    },
    {
     "name": "stdout",
     "output_type": "stream",
     "text": [
      "{'eval_loss': 0.5563676953315735, 'eval_runtime': 12.2705, 'eval_samples_per_second': 226.967, 'eval_steps_per_second': 22.737, 'epoch': 0.15}\n",
      "{'loss': 0.7926, 'grad_norm': 1.6861342191696167, 'learning_rate': 4e-05, 'epoch': 0.15}\n"
     ]
    },
    {
     "data": {
      "application/vnd.jupyter.widget-view+json": {
       "model_id": "bd443633e2504cc282cf0d3850a65eb5",
       "version_major": 2,
       "version_minor": 0
      },
      "text/plain": [
       "  0%|          | 0/279 [00:00<?, ?it/s]"
      ]
     },
     "metadata": {},
     "output_type": "display_data"
    },
    {
     "name": "stdout",
     "output_type": "stream",
     "text": [
      "{'eval_loss': 0.5559736490249634, 'eval_runtime': 12.1212, 'eval_samples_per_second': 229.763, 'eval_steps_per_second': 23.018, 'epoch': 0.15}\n",
      "{'loss': 0.6931, 'grad_norm': 1.5395028591156006, 'learning_rate': 3.9500000000000005e-05, 'epoch': 0.15}\n"
     ]
    },
    {
     "data": {
      "application/vnd.jupyter.widget-view+json": {
       "model_id": "99b8477bd9004433bfe49ac1ab8cfc0f",
       "version_major": 2,
       "version_minor": 0
      },
      "text/plain": [
       "  0%|          | 0/279 [00:00<?, ?it/s]"
      ]
     },
     "metadata": {},
     "output_type": "display_data"
    },
    {
     "name": "stdout",
     "output_type": "stream",
     "text": [
      "{'eval_loss': 0.5553233027458191, 'eval_runtime': 12.326, 'eval_samples_per_second': 225.945, 'eval_steps_per_second': 22.635, 'epoch': 0.15}\n",
      "{'loss': 0.6486, 'grad_norm': 1.6911847591400146, 'learning_rate': 3.9000000000000006e-05, 'epoch': 0.15}\n"
     ]
    },
    {
     "data": {
      "application/vnd.jupyter.widget-view+json": {
       "model_id": "fcd5e8a7742542018aae4098724ed6fb",
       "version_major": 2,
       "version_minor": 0
      },
      "text/plain": [
       "  0%|          | 0/279 [00:00<?, ?it/s]"
      ]
     },
     "metadata": {},
     "output_type": "display_data"
    },
    {
     "name": "stdout",
     "output_type": "stream",
     "text": [
      "{'eval_loss': 0.5544948577880859, 'eval_runtime': 12.5813, 'eval_samples_per_second': 221.361, 'eval_steps_per_second': 22.176, 'epoch': 0.15}\n",
      "{'loss': 0.7155, 'grad_norm': 1.7433277368545532, 'learning_rate': 3.85e-05, 'epoch': 0.15}\n"
     ]
    },
    {
     "data": {
      "application/vnd.jupyter.widget-view+json": {
       "model_id": "4b977d5fd1db4d94950a177a07aad4be",
       "version_major": 2,
       "version_minor": 0
      },
      "text/plain": [
       "  0%|          | 0/279 [00:00<?, ?it/s]"
      ]
     },
     "metadata": {},
     "output_type": "display_data"
    },
    {
     "name": "stdout",
     "output_type": "stream",
     "text": [
      "{'eval_loss': 0.5526735782623291, 'eval_runtime': 12.3165, 'eval_samples_per_second': 226.119, 'eval_steps_per_second': 22.652, 'epoch': 0.15}\n",
      "{'loss': 0.5764, 'grad_norm': 1.7290575504302979, 'learning_rate': 3.8e-05, 'epoch': 0.15}\n"
     ]
    },
    {
     "data": {
      "application/vnd.jupyter.widget-view+json": {
       "model_id": "0f157a26d52240fb9fbb138d08f31a28",
       "version_major": 2,
       "version_minor": 0
      },
      "text/plain": [
       "  0%|          | 0/279 [00:00<?, ?it/s]"
      ]
     },
     "metadata": {},
     "output_type": "display_data"
    },
    {
     "name": "stdout",
     "output_type": "stream",
     "text": [
      "{'eval_loss': 0.5514786839485168, 'eval_runtime': 12.0081, 'eval_samples_per_second': 231.927, 'eval_steps_per_second': 23.234, 'epoch': 0.15}\n",
      "{'loss': 0.7744, 'grad_norm': 1.9286189079284668, 'learning_rate': 3.7500000000000003e-05, 'epoch': 0.16}\n"
     ]
    },
    {
     "data": {
      "application/vnd.jupyter.widget-view+json": {
       "model_id": "faf3dab5b2574da1a0273a5596495c37",
       "version_major": 2,
       "version_minor": 0
      },
      "text/plain": [
       "  0%|          | 0/279 [00:00<?, ?it/s]"
      ]
     },
     "metadata": {},
     "output_type": "display_data"
    },
    {
     "name": "stdout",
     "output_type": "stream",
     "text": [
      "{'eval_loss': 0.5498279333114624, 'eval_runtime': 12.4606, 'eval_samples_per_second': 223.505, 'eval_steps_per_second': 22.391, 'epoch': 0.16}\n",
      "{'loss': 0.6247, 'grad_norm': 1.6408281326293945, 'learning_rate': 3.7e-05, 'epoch': 0.16}\n"
     ]
    },
    {
     "data": {
      "application/vnd.jupyter.widget-view+json": {
       "model_id": "7445e3f13811484890421e65fbaf71a9",
       "version_major": 2,
       "version_minor": 0
      },
      "text/plain": [
       "  0%|          | 0/279 [00:00<?, ?it/s]"
      ]
     },
     "metadata": {},
     "output_type": "display_data"
    },
    {
     "name": "stdout",
     "output_type": "stream",
     "text": [
      "{'eval_loss': 0.548819899559021, 'eval_runtime': 12.2988, 'eval_samples_per_second': 226.445, 'eval_steps_per_second': 22.685, 'epoch': 0.16}\n",
      "{'loss': 0.6525, 'grad_norm': 1.513285756111145, 'learning_rate': 3.65e-05, 'epoch': 0.16}\n"
     ]
    },
    {
     "data": {
      "application/vnd.jupyter.widget-view+json": {
       "model_id": "690d3fe43eb5458481c489a7676065a8",
       "version_major": 2,
       "version_minor": 0
      },
      "text/plain": [
       "  0%|          | 0/279 [00:00<?, ?it/s]"
      ]
     },
     "metadata": {},
     "output_type": "display_data"
    },
    {
     "name": "stdout",
     "output_type": "stream",
     "text": [
      "{'eval_loss': 0.5476184487342834, 'eval_runtime': 12.1688, 'eval_samples_per_second': 228.864, 'eval_steps_per_second': 22.928, 'epoch': 0.16}\n",
      "{'loss': 0.7012, 'grad_norm': 1.4775071144104004, 'learning_rate': 3.6e-05, 'epoch': 0.16}\n"
     ]
    },
    {
     "data": {
      "application/vnd.jupyter.widget-view+json": {
       "model_id": "1cb7e8a0963c4e449e333b27cac179e1",
       "version_major": 2,
       "version_minor": 0
      },
      "text/plain": [
       "  0%|          | 0/279 [00:00<?, ?it/s]"
      ]
     },
     "metadata": {},
     "output_type": "display_data"
    },
    {
     "name": "stdout",
     "output_type": "stream",
     "text": [
      "{'eval_loss': 0.5471243262290955, 'eval_runtime': 12.1368, 'eval_samples_per_second': 229.468, 'eval_steps_per_second': 22.988, 'epoch': 0.16}\n",
      "{'loss': 0.6028, 'grad_norm': 1.4653894901275635, 'learning_rate': 3.55e-05, 'epoch': 0.16}\n"
     ]
    },
    {
     "data": {
      "application/vnd.jupyter.widget-view+json": {
       "model_id": "7b9e8a37419742ce8be66a8dc403bc1a",
       "version_major": 2,
       "version_minor": 0
      },
      "text/plain": [
       "  0%|          | 0/279 [00:00<?, ?it/s]"
      ]
     },
     "metadata": {},
     "output_type": "display_data"
    },
    {
     "name": "stdout",
     "output_type": "stream",
     "text": [
      "{'eval_loss': 0.5463509559631348, 'eval_runtime': 12.1994, 'eval_samples_per_second': 228.289, 'eval_steps_per_second': 22.87, 'epoch': 0.16}\n",
      "{'loss': 0.6427, 'grad_norm': 1.5056918859481812, 'learning_rate': 3.5e-05, 'epoch': 0.16}\n"
     ]
    },
    {
     "data": {
      "application/vnd.jupyter.widget-view+json": {
       "model_id": "6104d530f1b2479e8a7181d9a6544a26",
       "version_major": 2,
       "version_minor": 0
      },
      "text/plain": [
       "  0%|          | 0/279 [00:00<?, ?it/s]"
      ]
     },
     "metadata": {},
     "output_type": "display_data"
    },
    {
     "name": "stdout",
     "output_type": "stream",
     "text": [
      "{'eval_loss': 0.5455015897750854, 'eval_runtime': 12.3741, 'eval_samples_per_second': 225.067, 'eval_steps_per_second': 22.547, 'epoch': 0.16}\n",
      "{'loss': 0.605, 'grad_norm': 1.5010862350463867, 'learning_rate': 3.45e-05, 'epoch': 0.16}\n"
     ]
    },
    {
     "data": {
      "application/vnd.jupyter.widget-view+json": {
       "model_id": "04d2ffa2359a4524ab1df747e0de7934",
       "version_major": 2,
       "version_minor": 0
      },
      "text/plain": [
       "  0%|          | 0/279 [00:00<?, ?it/s]"
      ]
     },
     "metadata": {},
     "output_type": "display_data"
    },
    {
     "name": "stdout",
     "output_type": "stream",
     "text": [
      "{'eval_loss': 0.5446032881736755, 'eval_runtime': 13.2005, 'eval_samples_per_second': 210.977, 'eval_steps_per_second': 21.136, 'epoch': 0.16}\n",
      "{'loss': 0.8417, 'grad_norm': 1.936002492904663, 'learning_rate': 3.4000000000000007e-05, 'epoch': 0.16}\n"
     ]
    },
    {
     "data": {
      "application/vnd.jupyter.widget-view+json": {
       "model_id": "feefdc4f974140159b0b41440d6290d8",
       "version_major": 2,
       "version_minor": 0
      },
      "text/plain": [
       "  0%|          | 0/279 [00:00<?, ?it/s]"
      ]
     },
     "metadata": {},
     "output_type": "display_data"
    },
    {
     "name": "stdout",
     "output_type": "stream",
     "text": [
      "{'eval_loss': 0.5440365076065063, 'eval_runtime': 12.3204, 'eval_samples_per_second': 226.048, 'eval_steps_per_second': 22.645, 'epoch': 0.16}\n",
      "{'loss': 0.607, 'grad_norm': 1.800447940826416, 'learning_rate': 3.35e-05, 'epoch': 0.17}\n"
     ]
    },
    {
     "data": {
      "application/vnd.jupyter.widget-view+json": {
       "model_id": "0ea947128edc47279cfabeee391c4ffb",
       "version_major": 2,
       "version_minor": 0
      },
      "text/plain": [
       "  0%|          | 0/279 [00:00<?, ?it/s]"
      ]
     },
     "metadata": {},
     "output_type": "display_data"
    },
    {
     "name": "stdout",
     "output_type": "stream",
     "text": [
      "{'eval_loss': 0.5445457696914673, 'eval_runtime': 11.9185, 'eval_samples_per_second': 233.669, 'eval_steps_per_second': 23.409, 'epoch': 0.17}\n",
      "{'loss': 0.6964, 'grad_norm': 1.7804754972457886, 'learning_rate': 3.3e-05, 'epoch': 0.17}\n"
     ]
    },
    {
     "data": {
      "application/vnd.jupyter.widget-view+json": {
       "model_id": "3ad3d10a11b74229b97edad11d07d4ce",
       "version_major": 2,
       "version_minor": 0
      },
      "text/plain": [
       "  0%|          | 0/279 [00:00<?, ?it/s]"
      ]
     },
     "metadata": {},
     "output_type": "display_data"
    },
    {
     "name": "stdout",
     "output_type": "stream",
     "text": [
      "{'eval_loss': 0.5447695851325989, 'eval_runtime': 12.2052, 'eval_samples_per_second': 228.181, 'eval_steps_per_second': 22.859, 'epoch': 0.17}\n",
      "{'loss': 0.536, 'grad_norm': 1.6370898485183716, 'learning_rate': 3.2500000000000004e-05, 'epoch': 0.17}\n"
     ]
    },
    {
     "data": {
      "application/vnd.jupyter.widget-view+json": {
       "model_id": "22f4f9295bc4443e99ae96026bcbca43",
       "version_major": 2,
       "version_minor": 0
      },
      "text/plain": [
       "  0%|          | 0/279 [00:00<?, ?it/s]"
      ]
     },
     "metadata": {},
     "output_type": "display_data"
    },
    {
     "name": "stdout",
     "output_type": "stream",
     "text": [
      "{'eval_loss': 0.545932948589325, 'eval_runtime': 12.5687, 'eval_samples_per_second': 221.582, 'eval_steps_per_second': 22.198, 'epoch': 0.17}\n",
      "{'loss': 0.7262, 'grad_norm': 1.5812853574752808, 'learning_rate': 3.2000000000000005e-05, 'epoch': 0.17}\n"
     ]
    },
    {
     "data": {
      "application/vnd.jupyter.widget-view+json": {
       "model_id": "fc8ce45353dc4820aaff6a17b83b8535",
       "version_major": 2,
       "version_minor": 0
      },
      "text/plain": [
       "  0%|          | 0/279 [00:00<?, ?it/s]"
      ]
     },
     "metadata": {},
     "output_type": "display_data"
    },
    {
     "name": "stdout",
     "output_type": "stream",
     "text": [
      "{'eval_loss': 0.5466992855072021, 'eval_runtime': 12.1213, 'eval_samples_per_second': 229.76, 'eval_steps_per_second': 23.017, 'epoch': 0.17}\n",
      "{'loss': 0.6561, 'grad_norm': 1.548669457435608, 'learning_rate': 3.15e-05, 'epoch': 0.17}\n"
     ]
    },
    {
     "data": {
      "application/vnd.jupyter.widget-view+json": {
       "model_id": "f703af395aa546eab5ea1e8f1477b3f4",
       "version_major": 2,
       "version_minor": 0
      },
      "text/plain": [
       "  0%|          | 0/279 [00:00<?, ?it/s]"
      ]
     },
     "metadata": {},
     "output_type": "display_data"
    },
    {
     "name": "stdout",
     "output_type": "stream",
     "text": [
      "{'eval_loss': 0.5466105937957764, 'eval_runtime': 12.1249, 'eval_samples_per_second': 229.692, 'eval_steps_per_second': 23.01, 'epoch': 0.17}\n",
      "{'loss': 0.8171, 'grad_norm': 1.8322139978408813, 'learning_rate': 3.1e-05, 'epoch': 0.17}\n"
     ]
    },
    {
     "data": {
      "application/vnd.jupyter.widget-view+json": {
       "model_id": "5e4a449bba814e698a72330c439cdeb5",
       "version_major": 2,
       "version_minor": 0
      },
      "text/plain": [
       "  0%|          | 0/279 [00:00<?, ?it/s]"
      ]
     },
     "metadata": {},
     "output_type": "display_data"
    },
    {
     "name": "stdout",
     "output_type": "stream",
     "text": [
      "{'eval_loss': 0.5462417006492615, 'eval_runtime': 12.1008, 'eval_samples_per_second': 230.15, 'eval_steps_per_second': 23.056, 'epoch': 0.17}\n",
      "{'loss': 0.6521, 'grad_norm': 1.5780137777328491, 'learning_rate': 3.05e-05, 'epoch': 0.17}\n"
     ]
    },
    {
     "data": {
      "application/vnd.jupyter.widget-view+json": {
       "model_id": "f43803ce0a584fc8a050f0fe63bd23e8",
       "version_major": 2,
       "version_minor": 0
      },
      "text/plain": [
       "  0%|          | 0/279 [00:00<?, ?it/s]"
      ]
     },
     "metadata": {},
     "output_type": "display_data"
    },
    {
     "name": "stdout",
     "output_type": "stream",
     "text": [
      "{'eval_loss': 0.5458855628967285, 'eval_runtime': 13.2489, 'eval_samples_per_second': 210.205, 'eval_steps_per_second': 21.058, 'epoch': 0.17}\n",
      "{'loss': 0.6367, 'grad_norm': 1.4451229572296143, 'learning_rate': 3e-05, 'epoch': 0.17}\n"
     ]
    },
    {
     "data": {
      "application/vnd.jupyter.widget-view+json": {
       "model_id": "e235b5f6e69b4b1c8d47cc70c3079c91",
       "version_major": 2,
       "version_minor": 0
      },
      "text/plain": [
       "  0%|          | 0/279 [00:00<?, ?it/s]"
      ]
     },
     "metadata": {},
     "output_type": "display_data"
    },
    {
     "name": "stdout",
     "output_type": "stream",
     "text": [
      "{'eval_loss': 0.5450788736343384, 'eval_runtime': 22.4915, 'eval_samples_per_second': 123.825, 'eval_steps_per_second': 12.405, 'epoch': 0.17}\n",
      "{'loss': 0.7092, 'grad_norm': 1.8418043851852417, 'learning_rate': 2.95e-05, 'epoch': 0.18}\n"
     ]
    },
    {
     "data": {
      "application/vnd.jupyter.widget-view+json": {
       "model_id": "a60155a123c0407ebd42132f0bf97c6f",
       "version_major": 2,
       "version_minor": 0
      },
      "text/plain": [
       "  0%|          | 0/279 [00:00<?, ?it/s]"
      ]
     },
     "metadata": {},
     "output_type": "display_data"
    },
    {
     "name": "stdout",
     "output_type": "stream",
     "text": [
      "{'eval_loss': 0.5458484888076782, 'eval_runtime': 16.2055, 'eval_samples_per_second': 171.856, 'eval_steps_per_second': 17.216, 'epoch': 0.18}\n",
      "{'loss': 0.5814, 'grad_norm': 1.3955429792404175, 'learning_rate': 2.9e-05, 'epoch': 0.18}\n"
     ]
    },
    {
     "data": {
      "application/vnd.jupyter.widget-view+json": {
       "model_id": "860785e20c50487e9320221b4c923f17",
       "version_major": 2,
       "version_minor": 0
      },
      "text/plain": [
       "  0%|          | 0/279 [00:00<?, ?it/s]"
      ]
     },
     "metadata": {},
     "output_type": "display_data"
    },
    {
     "name": "stdout",
     "output_type": "stream",
     "text": [
      "{'eval_loss': 0.5463997721672058, 'eval_runtime': 13.4318, 'eval_samples_per_second': 207.344, 'eval_steps_per_second': 20.772, 'epoch': 0.18}\n",
      "{'loss': 0.6554, 'grad_norm': 1.5485846996307373, 'learning_rate': 2.8499999999999998e-05, 'epoch': 0.18}\n"
     ]
    },
    {
     "data": {
      "application/vnd.jupyter.widget-view+json": {
       "model_id": "d38b3e99038e40dabdfc84e1da044ddd",
       "version_major": 2,
       "version_minor": 0
      },
      "text/plain": [
       "  0%|          | 0/279 [00:00<?, ?it/s]"
      ]
     },
     "metadata": {},
     "output_type": "display_data"
    },
    {
     "name": "stdout",
     "output_type": "stream",
     "text": [
      "{'eval_loss': 0.5473912954330444, 'eval_runtime': 13.3651, 'eval_samples_per_second': 208.378, 'eval_steps_per_second': 20.875, 'epoch': 0.18}\n",
      "{'loss': 0.64, 'grad_norm': 1.6787248849868774, 'learning_rate': 2.8000000000000003e-05, 'epoch': 0.18}\n"
     ]
    },
    {
     "data": {
      "application/vnd.jupyter.widget-view+json": {
       "model_id": "d0bee868754d46e18500a32f8ac5bfb9",
       "version_major": 2,
       "version_minor": 0
      },
      "text/plain": [
       "  0%|          | 0/279 [00:00<?, ?it/s]"
      ]
     },
     "metadata": {},
     "output_type": "display_data"
    },
    {
     "name": "stdout",
     "output_type": "stream",
     "text": [
      "{'eval_loss': 0.5478713512420654, 'eval_runtime': 13.2306, 'eval_samples_per_second': 210.496, 'eval_steps_per_second': 21.087, 'epoch': 0.18}\n",
      "{'loss': 0.6398, 'grad_norm': 1.5225932598114014, 'learning_rate': 2.7500000000000004e-05, 'epoch': 0.18}\n"
     ]
    },
    {
     "data": {
      "application/vnd.jupyter.widget-view+json": {
       "model_id": "4c5f5a1b6cbb4b3aab10aba1c519c5fd",
       "version_major": 2,
       "version_minor": 0
      },
      "text/plain": [
       "  0%|          | 0/279 [00:00<?, ?it/s]"
      ]
     },
     "metadata": {},
     "output_type": "display_data"
    },
    {
     "name": "stdout",
     "output_type": "stream",
     "text": [
      "{'eval_loss': 0.547752320766449, 'eval_runtime': 14.3765, 'eval_samples_per_second': 193.719, 'eval_steps_per_second': 19.407, 'epoch': 0.18}\n",
      "{'loss': 0.6284, 'grad_norm': 1.956007719039917, 'learning_rate': 2.7000000000000002e-05, 'epoch': 0.18}\n"
     ]
    },
    {
     "data": {
      "application/vnd.jupyter.widget-view+json": {
       "model_id": "e8ebe82bd6bb4906957ec6224b30c9fe",
       "version_major": 2,
       "version_minor": 0
      },
      "text/plain": [
       "  0%|          | 0/279 [00:00<?, ?it/s]"
      ]
     },
     "metadata": {},
     "output_type": "display_data"
    },
    {
     "name": "stdout",
     "output_type": "stream",
     "text": [
      "{'eval_loss': 0.5467544794082642, 'eval_runtime': 21.8613, 'eval_samples_per_second': 127.394, 'eval_steps_per_second': 12.762, 'epoch': 0.18}\n",
      "{'loss': 0.6208, 'grad_norm': 1.2649116516113281, 'learning_rate': 2.6500000000000004e-05, 'epoch': 0.18}\n"
     ]
    },
    {
     "data": {
      "application/vnd.jupyter.widget-view+json": {
       "model_id": "6a91582b0238414392575b614b92741f",
       "version_major": 2,
       "version_minor": 0
      },
      "text/plain": [
       "  0%|          | 0/279 [00:00<?, ?it/s]"
      ]
     },
     "metadata": {},
     "output_type": "display_data"
    },
    {
     "name": "stdout",
     "output_type": "stream",
     "text": [
      "{'eval_loss': 0.5472265481948853, 'eval_runtime': 21.6783, 'eval_samples_per_second': 128.47, 'eval_steps_per_second': 12.87, 'epoch': 0.18}\n",
      "{'loss': 0.6769, 'grad_norm': 1.804410696029663, 'learning_rate': 2.6000000000000002e-05, 'epoch': 0.18}\n"
     ]
    },
    {
     "data": {
      "application/vnd.jupyter.widget-view+json": {
       "model_id": "23a983f030db4cba8829e5c6e6535c73",
       "version_major": 2,
       "version_minor": 0
      },
      "text/plain": [
       "  0%|          | 0/279 [00:00<?, ?it/s]"
      ]
     },
     "metadata": {},
     "output_type": "display_data"
    },
    {
     "name": "stdout",
     "output_type": "stream",
     "text": [
      "{'eval_loss': 0.5463798642158508, 'eval_runtime': 20.9312, 'eval_samples_per_second': 133.055, 'eval_steps_per_second': 13.329, 'epoch': 0.18}\n",
      "{'loss': 0.5115, 'grad_norm': 1.2387770414352417, 'learning_rate': 2.5500000000000003e-05, 'epoch': 0.19}\n"
     ]
    },
    {
     "data": {
      "application/vnd.jupyter.widget-view+json": {
       "model_id": "335d4d9d94364514bb4b502aa593eb2f",
       "version_major": 2,
       "version_minor": 0
      },
      "text/plain": [
       "  0%|          | 0/279 [00:00<?, ?it/s]"
      ]
     },
     "metadata": {},
     "output_type": "display_data"
    },
    {
     "name": "stdout",
     "output_type": "stream",
     "text": [
      "{'eval_loss': 0.5446130633354187, 'eval_runtime': 20.6532, 'eval_samples_per_second': 134.846, 'eval_steps_per_second': 13.509, 'epoch': 0.19}\n",
      "{'loss': 0.6268, 'grad_norm': 1.2899013757705688, 'learning_rate': 2.5e-05, 'epoch': 0.19}\n"
     ]
    },
    {
     "data": {
      "application/vnd.jupyter.widget-view+json": {
       "model_id": "c69bc6d9e5164c86899e1b30a143b08f",
       "version_major": 2,
       "version_minor": 0
      },
      "text/plain": [
       "  0%|          | 0/279 [00:00<?, ?it/s]"
      ]
     },
     "metadata": {},
     "output_type": "display_data"
    },
    {
     "name": "stdout",
     "output_type": "stream",
     "text": [
      "{'eval_loss': 0.5428313612937927, 'eval_runtime': 21.4081, 'eval_samples_per_second': 130.091, 'eval_steps_per_second': 13.032, 'epoch': 0.19}\n",
      "{'loss': 0.5782, 'grad_norm': 1.2354971170425415, 'learning_rate': 2.45e-05, 'epoch': 0.19}\n"
     ]
    },
    {
     "data": {
      "application/vnd.jupyter.widget-view+json": {
       "model_id": "848b183114624b6ab24990cb09a30370",
       "version_major": 2,
       "version_minor": 0
      },
      "text/plain": [
       "  0%|          | 0/279 [00:00<?, ?it/s]"
      ]
     },
     "metadata": {},
     "output_type": "display_data"
    },
    {
     "name": "stdout",
     "output_type": "stream",
     "text": [
      "{'eval_loss': 0.5424527525901794, 'eval_runtime': 19.829, 'eval_samples_per_second': 140.451, 'eval_steps_per_second': 14.07, 'epoch': 0.19}\n",
      "{'loss': 0.7053, 'grad_norm': 1.3151615858078003, 'learning_rate': 2.4e-05, 'epoch': 0.19}\n"
     ]
    },
    {
     "data": {
      "application/vnd.jupyter.widget-view+json": {
       "model_id": "062dc3f0f82f430d95305ee6aab3b228",
       "version_major": 2,
       "version_minor": 0
      },
      "text/plain": [
       "  0%|          | 0/279 [00:00<?, ?it/s]"
      ]
     },
     "metadata": {},
     "output_type": "display_data"
    },
    {
     "name": "stdout",
     "output_type": "stream",
     "text": [
      "{'eval_loss': 0.5416966080665588, 'eval_runtime': 20.2316, 'eval_samples_per_second': 137.656, 'eval_steps_per_second': 13.79, 'epoch': 0.19}\n",
      "{'loss': 0.7891, 'grad_norm': 1.7811373472213745, 'learning_rate': 2.35e-05, 'epoch': 0.19}\n"
     ]
    },
    {
     "data": {
      "application/vnd.jupyter.widget-view+json": {
       "model_id": "a45ecb1f4bb04b0dbdea9b9a5bebc511",
       "version_major": 2,
       "version_minor": 0
      },
      "text/plain": [
       "  0%|          | 0/279 [00:00<?, ?it/s]"
      ]
     },
     "metadata": {},
     "output_type": "display_data"
    },
    {
     "name": "stdout",
     "output_type": "stream",
     "text": [
      "{'eval_loss': 0.542095959186554, 'eval_runtime': 20.1562, 'eval_samples_per_second': 138.171, 'eval_steps_per_second': 13.842, 'epoch': 0.19}\n",
      "{'loss': 0.7548, 'grad_norm': 1.6664915084838867, 'learning_rate': 2.3000000000000003e-05, 'epoch': 0.19}\n"
     ]
    },
    {
     "data": {
      "application/vnd.jupyter.widget-view+json": {
       "model_id": "25ea2615598747a48de039f5768d58cf",
       "version_major": 2,
       "version_minor": 0
      },
      "text/plain": [
       "  0%|          | 0/279 [00:00<?, ?it/s]"
      ]
     },
     "metadata": {},
     "output_type": "display_data"
    },
    {
     "name": "stdout",
     "output_type": "stream",
     "text": [
      "{'eval_loss': 0.5411327481269836, 'eval_runtime': 21.9189, 'eval_samples_per_second': 127.06, 'eval_steps_per_second': 12.729, 'epoch': 0.19}\n",
      "{'loss': 0.7377, 'grad_norm': 1.5957770347595215, 'learning_rate': 2.25e-05, 'epoch': 0.19}\n"
     ]
    },
    {
     "data": {
      "application/vnd.jupyter.widget-view+json": {
       "model_id": "36790a432d0c4449a47fae86a4ef2164",
       "version_major": 2,
       "version_minor": 0
      },
      "text/plain": [
       "  0%|          | 0/279 [00:00<?, ?it/s]"
      ]
     },
     "metadata": {},
     "output_type": "display_data"
    },
    {
     "name": "stdout",
     "output_type": "stream",
     "text": [
      "{'eval_loss': 0.5407599806785583, 'eval_runtime': 24.3364, 'eval_samples_per_second': 114.438, 'eval_steps_per_second': 11.464, 'epoch': 0.19}\n",
      "{'loss': 0.666, 'grad_norm': 1.7650872468948364, 'learning_rate': 2.2000000000000003e-05, 'epoch': 0.19}\n"
     ]
    },
    {
     "data": {
      "application/vnd.jupyter.widget-view+json": {
       "model_id": "61f3469316744a8f9792fa45488793e8",
       "version_major": 2,
       "version_minor": 0
      },
      "text/plain": [
       "  0%|          | 0/279 [00:00<?, ?it/s]"
      ]
     },
     "metadata": {},
     "output_type": "display_data"
    },
    {
     "name": "stdout",
     "output_type": "stream",
     "text": [
      "{'eval_loss': 0.5403271317481995, 'eval_runtime': 19.9312, 'eval_samples_per_second': 139.73, 'eval_steps_per_second': 13.998, 'epoch': 0.19}\n",
      "{'loss': 0.7052, 'grad_norm': 1.346930742263794, 'learning_rate': 2.15e-05, 'epoch': 0.2}\n"
     ]
    },
    {
     "data": {
      "application/vnd.jupyter.widget-view+json": {
       "model_id": "aafeebe7e61a4f89bc1e154a0f144240",
       "version_major": 2,
       "version_minor": 0
      },
      "text/plain": [
       "  0%|          | 0/279 [00:00<?, ?it/s]"
      ]
     },
     "metadata": {},
     "output_type": "display_data"
    },
    {
     "name": "stdout",
     "output_type": "stream",
     "text": [
      "{'eval_loss': 0.5392822623252869, 'eval_runtime': 14.9856, 'eval_samples_per_second': 185.845, 'eval_steps_per_second': 18.618, 'epoch': 0.2}\n",
      "{'loss': 0.5701, 'grad_norm': 1.3789215087890625, 'learning_rate': 2.1e-05, 'epoch': 0.2}\n"
     ]
    },
    {
     "data": {
      "application/vnd.jupyter.widget-view+json": {
       "model_id": "4562f787289d4c84ac17c9cfec9c6dbb",
       "version_major": 2,
       "version_minor": 0
      },
      "text/plain": [
       "  0%|          | 0/279 [00:00<?, ?it/s]"
      ]
     },
     "metadata": {},
     "output_type": "display_data"
    },
    {
     "name": "stdout",
     "output_type": "stream",
     "text": [
      "{'eval_loss': 0.5380026698112488, 'eval_runtime': 15.5784, 'eval_samples_per_second': 178.773, 'eval_steps_per_second': 17.909, 'epoch': 0.2}\n",
      "{'loss': 0.5808, 'grad_norm': 1.4749406576156616, 'learning_rate': 2.05e-05, 'epoch': 0.2}\n"
     ]
    },
    {
     "data": {
      "application/vnd.jupyter.widget-view+json": {
       "model_id": "0979038989e640bab519e2de13956b52",
       "version_major": 2,
       "version_minor": 0
      },
      "text/plain": [
       "  0%|          | 0/279 [00:00<?, ?it/s]"
      ]
     },
     "metadata": {},
     "output_type": "display_data"
    },
    {
     "name": "stdout",
     "output_type": "stream",
     "text": [
      "{'eval_loss': 0.5377140641212463, 'eval_runtime': 21.9164, 'eval_samples_per_second': 127.074, 'eval_steps_per_second': 12.73, 'epoch': 0.2}\n",
      "{'loss': 0.6362, 'grad_norm': 1.660429835319519, 'learning_rate': 2e-05, 'epoch': 0.2}\n"
     ]
    },
    {
     "data": {
      "application/vnd.jupyter.widget-view+json": {
       "model_id": "75c9fa9aaa96476a9be4f0bcd5583f2c",
       "version_major": 2,
       "version_minor": 0
      },
      "text/plain": [
       "  0%|          | 0/279 [00:00<?, ?it/s]"
      ]
     },
     "metadata": {},
     "output_type": "display_data"
    },
    {
     "name": "stdout",
     "output_type": "stream",
     "text": [
      "{'eval_loss': 0.536182701587677, 'eval_runtime': 21.4582, 'eval_samples_per_second': 129.787, 'eval_steps_per_second': 13.002, 'epoch': 0.2}\n",
      "{'loss': 0.5726, 'grad_norm': 1.459836721420288, 'learning_rate': 1.9500000000000003e-05, 'epoch': 0.2}\n"
     ]
    },
    {
     "data": {
      "application/vnd.jupyter.widget-view+json": {
       "model_id": "45028a3c33dd4cf981618256e304bb3b",
       "version_major": 2,
       "version_minor": 0
      },
      "text/plain": [
       "  0%|          | 0/279 [00:00<?, ?it/s]"
      ]
     },
     "metadata": {},
     "output_type": "display_data"
    },
    {
     "name": "stdout",
     "output_type": "stream",
     "text": [
      "{'eval_loss': 0.5356904864311218, 'eval_runtime': 21.0369, 'eval_samples_per_second': 132.387, 'eval_steps_per_second': 13.262, 'epoch': 0.2}\n",
      "{'loss': 0.6762, 'grad_norm': 1.9138052463531494, 'learning_rate': 1.9e-05, 'epoch': 0.2}\n"
     ]
    },
    {
     "data": {
      "application/vnd.jupyter.widget-view+json": {
       "model_id": "5801f10c2f8a4e698caa27f37f5aaaec",
       "version_major": 2,
       "version_minor": 0
      },
      "text/plain": [
       "  0%|          | 0/279 [00:00<?, ?it/s]"
      ]
     },
     "metadata": {},
     "output_type": "display_data"
    },
    {
     "name": "stdout",
     "output_type": "stream",
     "text": [
      "{'eval_loss': 0.5344865322113037, 'eval_runtime': 21.3878, 'eval_samples_per_second': 130.215, 'eval_steps_per_second': 13.045, 'epoch': 0.2}\n",
      "{'loss': 0.5585, 'grad_norm': 1.5684120655059814, 'learning_rate': 1.85e-05, 'epoch': 0.2}\n"
     ]
    },
    {
     "data": {
      "application/vnd.jupyter.widget-view+json": {
       "model_id": "f6e6ce4cfb0847ba99a03ccccd37d225",
       "version_major": 2,
       "version_minor": 0
      },
      "text/plain": [
       "  0%|          | 0/279 [00:00<?, ?it/s]"
      ]
     },
     "metadata": {},
     "output_type": "display_data"
    },
    {
     "name": "stdout",
     "output_type": "stream",
     "text": [
      "{'eval_loss': 0.5343432426452637, 'eval_runtime': 20.5856, 'eval_samples_per_second': 135.289, 'eval_steps_per_second': 13.553, 'epoch': 0.2}\n",
      "{'loss': 0.6889, 'grad_norm': 1.4486392736434937, 'learning_rate': 1.8e-05, 'epoch': 0.2}\n"
     ]
    },
    {
     "data": {
      "application/vnd.jupyter.widget-view+json": {
       "model_id": "bb24662dd5194294974bf6039f4487bc",
       "version_major": 2,
       "version_minor": 0
      },
      "text/plain": [
       "  0%|          | 0/279 [00:00<?, ?it/s]"
      ]
     },
     "metadata": {},
     "output_type": "display_data"
    },
    {
     "name": "stdout",
     "output_type": "stream",
     "text": [
      "{'eval_loss': 0.5343374609947205, 'eval_runtime': 20.5721, 'eval_samples_per_second': 135.378, 'eval_steps_per_second': 13.562, 'epoch': 0.2}\n",
      "{'loss': 0.5808, 'grad_norm': 1.5583736896514893, 'learning_rate': 1.75e-05, 'epoch': 0.21}\n"
     ]
    },
    {
     "data": {
      "application/vnd.jupyter.widget-view+json": {
       "model_id": "905d97092088439ea35e46203d01ad1a",
       "version_major": 2,
       "version_minor": 0
      },
      "text/plain": [
       "  0%|          | 0/279 [00:00<?, ?it/s]"
      ]
     },
     "metadata": {},
     "output_type": "display_data"
    },
    {
     "name": "stdout",
     "output_type": "stream",
     "text": [
      "{'eval_loss': 0.5348631739616394, 'eval_runtime': 22.5093, 'eval_samples_per_second': 123.727, 'eval_steps_per_second': 12.395, 'epoch': 0.21}\n",
      "{'loss': 0.7483, 'grad_norm': 1.653637409210205, 'learning_rate': 1.7000000000000003e-05, 'epoch': 0.21}\n"
     ]
    },
    {
     "data": {
      "application/vnd.jupyter.widget-view+json": {
       "model_id": "53e2f24198074cd3a234190f60674148",
       "version_major": 2,
       "version_minor": 0
      },
      "text/plain": [
       "  0%|          | 0/279 [00:00<?, ?it/s]"
      ]
     },
     "metadata": {},
     "output_type": "display_data"
    },
    {
     "name": "stdout",
     "output_type": "stream",
     "text": [
      "{'eval_loss': 0.5342536568641663, 'eval_runtime': 17.7694, 'eval_samples_per_second': 156.73, 'eval_steps_per_second': 15.701, 'epoch': 0.21}\n",
      "{'loss': 0.5896, 'grad_norm': 1.4737333059310913, 'learning_rate': 1.65e-05, 'epoch': 0.21}\n"
     ]
    },
    {
     "data": {
      "application/vnd.jupyter.widget-view+json": {
       "model_id": "fe5a61be14a14773910fb3f91d786d3e",
       "version_major": 2,
       "version_minor": 0
      },
      "text/plain": [
       "  0%|          | 0/279 [00:00<?, ?it/s]"
      ]
     },
     "metadata": {},
     "output_type": "display_data"
    },
    {
     "name": "stdout",
     "output_type": "stream",
     "text": [
      "{'eval_loss': 0.5340431928634644, 'eval_runtime': 18.3451, 'eval_samples_per_second': 151.811, 'eval_steps_per_second': 15.208, 'epoch': 0.21}\n",
      "{'loss': 0.7703, 'grad_norm': 1.9869074821472168, 'learning_rate': 1.6000000000000003e-05, 'epoch': 0.21}\n"
     ]
    },
    {
     "data": {
      "application/vnd.jupyter.widget-view+json": {
       "model_id": "d2746b1c954d4c0bb280c8184d537237",
       "version_major": 2,
       "version_minor": 0
      },
      "text/plain": [
       "  0%|          | 0/279 [00:00<?, ?it/s]"
      ]
     },
     "metadata": {},
     "output_type": "display_data"
    },
    {
     "name": "stdout",
     "output_type": "stream",
     "text": [
      "{'eval_loss': 0.5343901515007019, 'eval_runtime': 17.1174, 'eval_samples_per_second': 162.699, 'eval_steps_per_second': 16.299, 'epoch': 0.21}\n",
      "{'loss': 0.6347, 'grad_norm': 1.4384758472442627, 'learning_rate': 1.55e-05, 'epoch': 0.21}\n"
     ]
    },
    {
     "data": {
      "application/vnd.jupyter.widget-view+json": {
       "model_id": "85c6efe3dc37475d87bda736a9ef43ed",
       "version_major": 2,
       "version_minor": 0
      },
      "text/plain": [
       "  0%|          | 0/279 [00:00<?, ?it/s]"
      ]
     },
     "metadata": {},
     "output_type": "display_data"
    },
    {
     "name": "stdout",
     "output_type": "stream",
     "text": [
      "{'eval_loss': 0.5337935090065002, 'eval_runtime': 18.2376, 'eval_samples_per_second': 152.707, 'eval_steps_per_second': 15.298, 'epoch': 0.21}\n",
      "{'loss': 0.6397, 'grad_norm': 1.6138712167739868, 'learning_rate': 1.5e-05, 'epoch': 0.21}\n"
     ]
    },
    {
     "data": {
      "application/vnd.jupyter.widget-view+json": {
       "model_id": "c3210b1fc9134df58e26814678b99f56",
       "version_major": 2,
       "version_minor": 0
      },
      "text/plain": [
       "  0%|          | 0/279 [00:00<?, ?it/s]"
      ]
     },
     "metadata": {},
     "output_type": "display_data"
    },
    {
     "name": "stdout",
     "output_type": "stream",
     "text": [
      "{'eval_loss': 0.5327961444854736, 'eval_runtime': 17.8914, 'eval_samples_per_second': 155.662, 'eval_steps_per_second': 15.594, 'epoch': 0.21}\n",
      "{'loss': 0.5851, 'grad_norm': 1.4488650560379028, 'learning_rate': 1.45e-05, 'epoch': 0.21}\n"
     ]
    },
    {
     "data": {
      "application/vnd.jupyter.widget-view+json": {
       "model_id": "17387adb696e40858facfc3dc33487aa",
       "version_major": 2,
       "version_minor": 0
      },
      "text/plain": [
       "  0%|          | 0/279 [00:00<?, ?it/s]"
      ]
     },
     "metadata": {},
     "output_type": "display_data"
    },
    {
     "name": "stdout",
     "output_type": "stream",
     "text": [
      "{'eval_loss': 0.5324659943580627, 'eval_runtime': 14.8605, 'eval_samples_per_second': 187.409, 'eval_steps_per_second': 18.775, 'epoch': 0.21}\n",
      "{'loss': 0.7155, 'grad_norm': 2.1293582916259766, 'learning_rate': 1.4000000000000001e-05, 'epoch': 0.21}\n"
     ]
    },
    {
     "data": {
      "application/vnd.jupyter.widget-view+json": {
       "model_id": "89774b7741a24e0f912f5b23462b20f9",
       "version_major": 2,
       "version_minor": 0
      },
      "text/plain": [
       "  0%|          | 0/279 [00:00<?, ?it/s]"
      ]
     },
     "metadata": {},
     "output_type": "display_data"
    },
    {
     "name": "stdout",
     "output_type": "stream",
     "text": [
      "{'eval_loss': 0.5321222543716431, 'eval_runtime': 14.2284, 'eval_samples_per_second': 195.736, 'eval_steps_per_second': 19.609, 'epoch': 0.21}\n",
      "{'loss': 0.7792, 'grad_norm': 1.871437430381775, 'learning_rate': 1.3500000000000001e-05, 'epoch': 0.22}\n"
     ]
    },
    {
     "data": {
      "application/vnd.jupyter.widget-view+json": {
       "model_id": "96f44c80a6c5458690b97de077e6baa6",
       "version_major": 2,
       "version_minor": 0
      },
      "text/plain": [
       "  0%|          | 0/279 [00:00<?, ?it/s]"
      ]
     },
     "metadata": {},
     "output_type": "display_data"
    },
    {
     "name": "stdout",
     "output_type": "stream",
     "text": [
      "{'eval_loss': 0.532491147518158, 'eval_runtime': 18.7324, 'eval_samples_per_second': 148.673, 'eval_steps_per_second': 14.894, 'epoch': 0.22}\n",
      "{'loss': 0.7328, 'grad_norm': 1.8186744451522827, 'learning_rate': 1.3000000000000001e-05, 'epoch': 0.22}\n"
     ]
    },
    {
     "data": {
      "application/vnd.jupyter.widget-view+json": {
       "model_id": "4bc76bede7614fe8a037898022a1ebef",
       "version_major": 2,
       "version_minor": 0
      },
      "text/plain": [
       "  0%|          | 0/279 [00:00<?, ?it/s]"
      ]
     },
     "metadata": {},
     "output_type": "display_data"
    },
    {
     "name": "stdout",
     "output_type": "stream",
     "text": [
      "{'eval_loss': 0.5329000949859619, 'eval_runtime': 27.1397, 'eval_samples_per_second': 102.617, 'eval_steps_per_second': 10.28, 'epoch': 0.22}\n",
      "{'loss': 0.6089, 'grad_norm': 1.6015866994857788, 'learning_rate': 1.25e-05, 'epoch': 0.22}\n"
     ]
    },
    {
     "data": {
      "application/vnd.jupyter.widget-view+json": {
       "model_id": "92877f11ce43453a91fdfb93a8300274",
       "version_major": 2,
       "version_minor": 0
      },
      "text/plain": [
       "  0%|          | 0/279 [00:00<?, ?it/s]"
      ]
     },
     "metadata": {},
     "output_type": "display_data"
    },
    {
     "name": "stdout",
     "output_type": "stream",
     "text": [
      "{'eval_loss': 0.5332124829292297, 'eval_runtime': 26.983, 'eval_samples_per_second': 103.213, 'eval_steps_per_second': 10.34, 'epoch': 0.22}\n",
      "{'loss': 0.5849, 'grad_norm': 1.5623114109039307, 'learning_rate': 1.2e-05, 'epoch': 0.22}\n"
     ]
    },
    {
     "data": {
      "application/vnd.jupyter.widget-view+json": {
       "model_id": "d87d3ad852f94416bc9a039a1a79713e",
       "version_major": 2,
       "version_minor": 0
      },
      "text/plain": [
       "  0%|          | 0/279 [00:00<?, ?it/s]"
      ]
     },
     "metadata": {},
     "output_type": "display_data"
    },
    {
     "name": "stdout",
     "output_type": "stream",
     "text": [
      "{'eval_loss': 0.534317672252655, 'eval_runtime': 24.0463, 'eval_samples_per_second': 115.818, 'eval_steps_per_second': 11.603, 'epoch': 0.22}\n",
      "{'loss': 0.657, 'grad_norm': 2.092060089111328, 'learning_rate': 1.1500000000000002e-05, 'epoch': 0.22}\n"
     ]
    },
    {
     "data": {
      "application/vnd.jupyter.widget-view+json": {
       "model_id": "58561e3768b24083ba600e23af2f7c01",
       "version_major": 2,
       "version_minor": 0
      },
      "text/plain": [
       "  0%|          | 0/279 [00:00<?, ?it/s]"
      ]
     },
     "metadata": {},
     "output_type": "display_data"
    },
    {
     "name": "stdout",
     "output_type": "stream",
     "text": [
      "{'eval_loss': 0.5352119207382202, 'eval_runtime': 22.2193, 'eval_samples_per_second': 125.342, 'eval_steps_per_second': 12.557, 'epoch': 0.22}\n",
      "{'loss': 0.5632, 'grad_norm': 1.1954907178878784, 'learning_rate': 1.1000000000000001e-05, 'epoch': 0.22}\n"
     ]
    },
    {
     "data": {
      "application/vnd.jupyter.widget-view+json": {
       "model_id": "2b0f9d4d6b1e41a0ba95d280718452ce",
       "version_major": 2,
       "version_minor": 0
      },
      "text/plain": [
       "  0%|          | 0/279 [00:00<?, ?it/s]"
      ]
     },
     "metadata": {},
     "output_type": "display_data"
    },
    {
     "name": "stdout",
     "output_type": "stream",
     "text": [
      "{'eval_loss': 0.534841001033783, 'eval_runtime': 22.7196, 'eval_samples_per_second': 122.581, 'eval_steps_per_second': 12.28, 'epoch': 0.22}\n",
      "{'loss': 0.6489, 'grad_norm': 1.314626693725586, 'learning_rate': 1.05e-05, 'epoch': 0.22}\n"
     ]
    },
    {
     "data": {
      "application/vnd.jupyter.widget-view+json": {
       "model_id": "561b7783c8c54457bd0fc176c45173cc",
       "version_major": 2,
       "version_minor": 0
      },
      "text/plain": [
       "  0%|          | 0/279 [00:00<?, ?it/s]"
      ]
     },
     "metadata": {},
     "output_type": "display_data"
    },
    {
     "name": "stdout",
     "output_type": "stream",
     "text": [
      "{'eval_loss': 0.5351337790489197, 'eval_runtime': 24.3894, 'eval_samples_per_second': 114.189, 'eval_steps_per_second': 11.439, 'epoch': 0.22}\n",
      "{'loss': 0.7073, 'grad_norm': 1.7793360948562622, 'learning_rate': 1e-05, 'epoch': 0.22}\n"
     ]
    },
    {
     "data": {
      "application/vnd.jupyter.widget-view+json": {
       "model_id": "1fd3811104184cc38dd2f713ff2b42f2",
       "version_major": 2,
       "version_minor": 0
      },
      "text/plain": [
       "  0%|          | 0/279 [00:00<?, ?it/s]"
      ]
     },
     "metadata": {},
     "output_type": "display_data"
    },
    {
     "name": "stdout",
     "output_type": "stream",
     "text": [
      "{'eval_loss': 0.5348128080368042, 'eval_runtime': 21.3444, 'eval_samples_per_second': 130.479, 'eval_steps_per_second': 13.071, 'epoch': 0.22}\n",
      "{'loss': 0.548, 'grad_norm': 1.2846449613571167, 'learning_rate': 9.5e-06, 'epoch': 0.23}\n"
     ]
    },
    {
     "data": {
      "application/vnd.jupyter.widget-view+json": {
       "model_id": "a357a4d94b984088a9fec7dccd87cec6",
       "version_major": 2,
       "version_minor": 0
      },
      "text/plain": [
       "  0%|          | 0/279 [00:00<?, ?it/s]"
      ]
     },
     "metadata": {},
     "output_type": "display_data"
    },
    {
     "name": "stdout",
     "output_type": "stream",
     "text": [
      "{'eval_loss': 0.5341229438781738, 'eval_runtime': 21.1108, 'eval_samples_per_second': 131.923, 'eval_steps_per_second': 13.216, 'epoch': 0.23}\n",
      "{'loss': 0.6368, 'grad_norm': 1.4586780071258545, 'learning_rate': 9e-06, 'epoch': 0.23}\n"
     ]
    },
    {
     "data": {
      "application/vnd.jupyter.widget-view+json": {
       "model_id": "4205535b56044e5883eaca7e77f63446",
       "version_major": 2,
       "version_minor": 0
      },
      "text/plain": [
       "  0%|          | 0/279 [00:00<?, ?it/s]"
      ]
     },
     "metadata": {},
     "output_type": "display_data"
    },
    {
     "name": "stdout",
     "output_type": "stream",
     "text": [
      "{'eval_loss': 0.5341733694076538, 'eval_runtime': 20.4136, 'eval_samples_per_second': 136.429, 'eval_steps_per_second': 13.667, 'epoch': 0.23}\n",
      "{'loss': 0.5866, 'grad_norm': 1.4598946571350098, 'learning_rate': 8.500000000000002e-06, 'epoch': 0.23}\n"
     ]
    },
    {
     "data": {
      "application/vnd.jupyter.widget-view+json": {
       "model_id": "a372b5fa8f0b4fc58f54576718b69da8",
       "version_major": 2,
       "version_minor": 0
      },
      "text/plain": [
       "  0%|          | 0/279 [00:00<?, ?it/s]"
      ]
     },
     "metadata": {},
     "output_type": "display_data"
    },
    {
     "name": "stdout",
     "output_type": "stream",
     "text": [
      "{'eval_loss': 0.5343791246414185, 'eval_runtime': 21.5755, 'eval_samples_per_second': 129.082, 'eval_steps_per_second': 12.931, 'epoch': 0.23}\n",
      "{'loss': 0.5555, 'grad_norm': 1.4934961795806885, 'learning_rate': 8.000000000000001e-06, 'epoch': 0.23}\n"
     ]
    },
    {
     "data": {
      "application/vnd.jupyter.widget-view+json": {
       "model_id": "17d886e9b0d8471b8259edb7b9e48036",
       "version_major": 2,
       "version_minor": 0
      },
      "text/plain": [
       "  0%|          | 0/279 [00:00<?, ?it/s]"
      ]
     },
     "metadata": {},
     "output_type": "display_data"
    },
    {
     "name": "stdout",
     "output_type": "stream",
     "text": [
      "{'eval_loss': 0.53511643409729, 'eval_runtime': 17.8867, 'eval_samples_per_second': 155.702, 'eval_steps_per_second': 15.598, 'epoch': 0.23}\n",
      "{'loss': 0.5299, 'grad_norm': 1.451295256614685, 'learning_rate': 7.5e-06, 'epoch': 0.23}\n"
     ]
    },
    {
     "data": {
      "application/vnd.jupyter.widget-view+json": {
       "model_id": "baca6b4c7e3d498c88f216276476c49b",
       "version_major": 2,
       "version_minor": 0
      },
      "text/plain": [
       "  0%|          | 0/279 [00:00<?, ?it/s]"
      ]
     },
     "metadata": {},
     "output_type": "display_data"
    },
    {
     "name": "stdout",
     "output_type": "stream",
     "text": [
      "{'eval_loss': 0.5358287692070007, 'eval_runtime': 17.2049, 'eval_samples_per_second': 161.872, 'eval_steps_per_second': 16.216, 'epoch': 0.23}\n",
      "{'loss': 0.7495, 'grad_norm': 1.4716964960098267, 'learning_rate': 7.000000000000001e-06, 'epoch': 0.23}\n"
     ]
    },
    {
     "data": {
      "application/vnd.jupyter.widget-view+json": {
       "model_id": "e91adfdbffe14586ab900a18421e8749",
       "version_major": 2,
       "version_minor": 0
      },
      "text/plain": [
       "  0%|          | 0/279 [00:00<?, ?it/s]"
      ]
     },
     "metadata": {},
     "output_type": "display_data"
    },
    {
     "name": "stdout",
     "output_type": "stream",
     "text": [
      "{'eval_loss': 0.5356104969978333, 'eval_runtime': 18.6778, 'eval_samples_per_second': 149.108, 'eval_steps_per_second': 14.938, 'epoch': 0.23}\n",
      "{'loss': 0.6369, 'grad_norm': 1.3538953065872192, 'learning_rate': 6.5000000000000004e-06, 'epoch': 0.23}\n"
     ]
    },
    {
     "data": {
      "application/vnd.jupyter.widget-view+json": {
       "model_id": "0b5baa4bf07f4680aad1172f493cb606",
       "version_major": 2,
       "version_minor": 0
      },
      "text/plain": [
       "  0%|          | 0/279 [00:00<?, ?it/s]"
      ]
     },
     "metadata": {},
     "output_type": "display_data"
    },
    {
     "name": "stdout",
     "output_type": "stream",
     "text": [
      "{'eval_loss': 0.5353147387504578, 'eval_runtime': 17.2907, 'eval_samples_per_second': 161.069, 'eval_steps_per_second': 16.136, 'epoch': 0.23}\n",
      "{'loss': 0.8275, 'grad_norm': 1.671203374862671, 'learning_rate': 6e-06, 'epoch': 0.23}\n"
     ]
    },
    {
     "data": {
      "application/vnd.jupyter.widget-view+json": {
       "model_id": "a9e1e166f5414707bb9280a68c974ea0",
       "version_major": 2,
       "version_minor": 0
      },
      "text/plain": [
       "  0%|          | 0/279 [00:00<?, ?it/s]"
      ]
     },
     "metadata": {},
     "output_type": "display_data"
    },
    {
     "name": "stdout",
     "output_type": "stream",
     "text": [
      "{'eval_loss': 0.5353061556816101, 'eval_runtime': 18.9502, 'eval_samples_per_second': 146.964, 'eval_steps_per_second': 14.723, 'epoch': 0.23}\n",
      "{'loss': 0.5861, 'grad_norm': 1.3849132061004639, 'learning_rate': 5.500000000000001e-06, 'epoch': 0.24}\n"
     ]
    },
    {
     "data": {
      "application/vnd.jupyter.widget-view+json": {
       "model_id": "3e124c24732041aa9801ca45e7babd60",
       "version_major": 2,
       "version_minor": 0
      },
      "text/plain": [
       "  0%|          | 0/279 [00:00<?, ?it/s]"
      ]
     },
     "metadata": {},
     "output_type": "display_data"
    },
    {
     "name": "stdout",
     "output_type": "stream",
     "text": [
      "{'eval_loss': 0.5348619222640991, 'eval_runtime': 18.2524, 'eval_samples_per_second': 152.583, 'eval_steps_per_second': 15.286, 'epoch': 0.24}\n",
      "{'loss': 0.7343, 'grad_norm': 1.7360172271728516, 'learning_rate': 5e-06, 'epoch': 0.24}\n"
     ]
    },
    {
     "data": {
      "application/vnd.jupyter.widget-view+json": {
       "model_id": "4969616ff6334416a56c8c58bb682454",
       "version_major": 2,
       "version_minor": 0
      },
      "text/plain": [
       "  0%|          | 0/279 [00:00<?, ?it/s]"
      ]
     },
     "metadata": {},
     "output_type": "display_data"
    },
    {
     "name": "stdout",
     "output_type": "stream",
     "text": [
      "{'eval_loss': 0.5337761044502258, 'eval_runtime': 17.6757, 'eval_samples_per_second': 157.561, 'eval_steps_per_second': 15.784, 'epoch': 0.24}\n",
      "{'loss': 0.6194, 'grad_norm': 1.3745862245559692, 'learning_rate': 4.5e-06, 'epoch': 0.24}\n"
     ]
    },
    {
     "data": {
      "application/vnd.jupyter.widget-view+json": {
       "model_id": "37ce11cddac345498911744a1baf3f74",
       "version_major": 2,
       "version_minor": 0
      },
      "text/plain": [
       "  0%|          | 0/279 [00:00<?, ?it/s]"
      ]
     },
     "metadata": {},
     "output_type": "display_data"
    },
    {
     "name": "stdout",
     "output_type": "stream",
     "text": [
      "{'eval_loss': 0.5337317585945129, 'eval_runtime': 15.4472, 'eval_samples_per_second': 180.291, 'eval_steps_per_second': 18.061, 'epoch': 0.24}\n",
      "{'loss': 0.6296, 'grad_norm': 1.5797868967056274, 'learning_rate': 4.000000000000001e-06, 'epoch': 0.24}\n"
     ]
    },
    {
     "data": {
      "application/vnd.jupyter.widget-view+json": {
       "model_id": "c2da45661c314280ad7c01ed29068ca2",
       "version_major": 2,
       "version_minor": 0
      },
      "text/plain": [
       "  0%|          | 0/279 [00:00<?, ?it/s]"
      ]
     },
     "metadata": {},
     "output_type": "display_data"
    },
    {
     "name": "stdout",
     "output_type": "stream",
     "text": [
      "{'eval_loss': 0.5340949892997742, 'eval_runtime': 22.5115, 'eval_samples_per_second': 123.715, 'eval_steps_per_second': 12.394, 'epoch': 0.24}\n",
      "{'loss': 0.5779, 'grad_norm': 1.595638632774353, 'learning_rate': 3.5000000000000004e-06, 'epoch': 0.24}\n"
     ]
    },
    {
     "data": {
      "application/vnd.jupyter.widget-view+json": {
       "model_id": "7edee2df00ee4f9e915b5842bb757168",
       "version_major": 2,
       "version_minor": 0
      },
      "text/plain": [
       "  0%|          | 0/279 [00:00<?, ?it/s]"
      ]
     },
     "metadata": {},
     "output_type": "display_data"
    },
    {
     "name": "stdout",
     "output_type": "stream",
     "text": [
      "{'eval_loss': 0.5341569185256958, 'eval_runtime': 19.9081, 'eval_samples_per_second': 139.893, 'eval_steps_per_second': 14.014, 'epoch': 0.24}\n",
      "{'loss': 0.7442, 'grad_norm': 1.4224494695663452, 'learning_rate': 3e-06, 'epoch': 0.24}\n"
     ]
    },
    {
     "data": {
      "application/vnd.jupyter.widget-view+json": {
       "model_id": "61ef71f9a4fe48bda8b47c2c270d1acc",
       "version_major": 2,
       "version_minor": 0
      },
      "text/plain": [
       "  0%|          | 0/279 [00:00<?, ?it/s]"
      ]
     },
     "metadata": {},
     "output_type": "display_data"
    },
    {
     "name": "stdout",
     "output_type": "stream",
     "text": [
      "{'eval_loss': 0.5340445637702942, 'eval_runtime': 19.6546, 'eval_samples_per_second': 141.697, 'eval_steps_per_second': 14.195, 'epoch': 0.24}\n",
      "{'loss': 0.7479, 'grad_norm': 1.7259169816970825, 'learning_rate': 2.5e-06, 'epoch': 0.24}\n"
     ]
    },
    {
     "data": {
      "application/vnd.jupyter.widget-view+json": {
       "model_id": "ca2352344aab48e588b9b7c096d23bfb",
       "version_major": 2,
       "version_minor": 0
      },
      "text/plain": [
       "  0%|          | 0/279 [00:00<?, ?it/s]"
      ]
     },
     "metadata": {},
     "output_type": "display_data"
    },
    {
     "name": "stdout",
     "output_type": "stream",
     "text": [
      "{'eval_loss': 0.5338525176048279, 'eval_runtime': 18.8621, 'eval_samples_per_second': 147.651, 'eval_steps_per_second': 14.792, 'epoch': 0.24}\n",
      "{'loss': 0.7113, 'grad_norm': 1.7832869291305542, 'learning_rate': 2.0000000000000003e-06, 'epoch': 0.24}\n"
     ]
    },
    {
     "data": {
      "application/vnd.jupyter.widget-view+json": {
       "model_id": "c5e8639bb6ba4c47acd9a9ba6e696750",
       "version_major": 2,
       "version_minor": 0
      },
      "text/plain": [
       "  0%|          | 0/279 [00:00<?, ?it/s]"
      ]
     },
     "metadata": {},
     "output_type": "display_data"
    },
    {
     "name": "stdout",
     "output_type": "stream",
     "text": [
      "{'eval_loss': 0.5332269072532654, 'eval_runtime': 20.4075, 'eval_samples_per_second': 136.469, 'eval_steps_per_second': 13.671, 'epoch': 0.24}\n",
      "{'loss': 0.6066, 'grad_norm': 1.6119431257247925, 'learning_rate': 1.5e-06, 'epoch': 0.25}\n"
     ]
    },
    {
     "data": {
      "application/vnd.jupyter.widget-view+json": {
       "model_id": "16bf254a9b7b4e1090cc4b8139061b49",
       "version_major": 2,
       "version_minor": 0
      },
      "text/plain": [
       "  0%|          | 0/279 [00:00<?, ?it/s]"
      ]
     },
     "metadata": {},
     "output_type": "display_data"
    },
    {
     "name": "stdout",
     "output_type": "stream",
     "text": [
      "{'eval_loss': 0.533518373966217, 'eval_runtime': 15.1333, 'eval_samples_per_second': 184.031, 'eval_steps_per_second': 18.436, 'epoch': 0.25}\n",
      "{'loss': 0.6123, 'grad_norm': 1.3323665857315063, 'learning_rate': 1.0000000000000002e-06, 'epoch': 0.25}\n"
     ]
    },
    {
     "data": {
      "application/vnd.jupyter.widget-view+json": {
       "model_id": "8e3abc884515424c948c7de1d54af882",
       "version_major": 2,
       "version_minor": 0
      },
      "text/plain": [
       "  0%|          | 0/279 [00:00<?, ?it/s]"
      ]
     },
     "metadata": {},
     "output_type": "display_data"
    },
    {
     "name": "stdout",
     "output_type": "stream",
     "text": [
      "{'eval_loss': 0.5339117050170898, 'eval_runtime': 11.883, 'eval_samples_per_second': 234.368, 'eval_steps_per_second': 23.479, 'epoch': 0.25}\n",
      "{'loss': 0.739, 'grad_norm': 1.7843968868255615, 'learning_rate': 5.000000000000001e-07, 'epoch': 0.25}\n"
     ]
    },
    {
     "data": {
      "application/vnd.jupyter.widget-view+json": {
       "model_id": "caaf43b77d79469499b405ff9af9a372",
       "version_major": 2,
       "version_minor": 0
      },
      "text/plain": [
       "  0%|          | 0/279 [00:00<?, ?it/s]"
      ]
     },
     "metadata": {},
     "output_type": "display_data"
    },
    {
     "name": "stdout",
     "output_type": "stream",
     "text": [
      "{'eval_loss': 0.533547043800354, 'eval_runtime': 11.408, 'eval_samples_per_second': 244.127, 'eval_steps_per_second': 24.457, 'epoch': 0.25}\n",
      "{'loss': 0.6493, 'grad_norm': 1.5918866395950317, 'learning_rate': 0.0, 'epoch': 0.25}\n"
     ]
    },
    {
     "data": {
      "application/vnd.jupyter.widget-view+json": {
       "model_id": "bbe0ed7ab4e4458ca6c7f8d3d5da06cb",
       "version_major": 2,
       "version_minor": 0
      },
      "text/plain": [
       "  0%|          | 0/279 [00:00<?, ?it/s]"
      ]
     },
     "metadata": {},
     "output_type": "display_data"
    },
    {
     "name": "stdout",
     "output_type": "stream",
     "text": [
      "{'eval_loss': 0.5332947373390198, 'eval_runtime': 11.1541, 'eval_samples_per_second': 249.685, 'eval_steps_per_second': 25.013, 'epoch': 0.25}\n",
      "{'train_runtime': 3094.2755, 'train_samples_per_second': 0.646, 'train_steps_per_second': 0.065, 'train_loss': 0.7286773881316185, 'epoch': 0.25}\n"
     ]
    },
    {
     "data": {
      "text/plain": [
       "TrainOutput(global_step=200, training_loss=0.7286773881316185, metrics={'train_runtime': 3094.2755, 'train_samples_per_second': 0.646, 'train_steps_per_second': 0.065, 'total_flos': 20375470080000.0, 'train_loss': 0.7286773881316185, 'epoch': 0.24875621890547264})"
      ]
     },
     "execution_count": 11,
     "metadata": {},
     "output_type": "execute_result"
    }
   ],
   "source": [
    "print(\"\\n\\nDoing forecasting training\")\n",
    "trainer_jepa.train()"
   ]
  },
  {
   "cell_type": "code",
   "execution_count": 13,
   "metadata": {},
   "outputs": [
    {
     "data": {
      "application/vnd.jupyter.widget-view+json": {
       "model_id": "5ecbdaf2a8ed4cfca50d7b4d5330ef1d",
       "version_major": 2,
       "version_minor": 0
      },
      "text/plain": [
       "  0%|          | 0/279 [00:00<?, ?it/s]"
      ]
     },
     "metadata": {},
     "output_type": "display_data"
    },
    {
     "ename": "Error",
     "evalue": "You must call wandb.init() before wandb.log()",
     "output_type": "error",
     "traceback": [
      "\u001b[1;31m---------------------------------------------------------------------------\u001b[0m",
      "\u001b[1;31mError\u001b[0m                                     Traceback (most recent call last)",
      "Cell \u001b[1;32mIn[13], line 1\u001b[0m\n\u001b[1;32m----> 1\u001b[0m \u001b[43mtrainer_jepa\u001b[49m\u001b[38;5;241;43m.\u001b[39;49m\u001b[43mevaluate\u001b[49m\u001b[43m(\u001b[49m\u001b[43mvalwindowds\u001b[49m\u001b[43m)\u001b[49m\n\u001b[0;32m      2\u001b[0m wandb\u001b[38;5;241m.\u001b[39mfinish()\n",
      "File \u001b[1;32mc:\\Users\\Omen\\anaconda3\\envs\\mts\\Lib\\site-packages\\transformers\\trainer.py:3999\u001b[0m, in \u001b[0;36mTrainer.evaluate\u001b[1;34m(self, eval_dataset, ignore_keys, metric_key_prefix)\u001b[0m\n\u001b[0;32m   3989\u001b[0m     start_time \u001b[38;5;241m+\u001b[39m\u001b[38;5;241m=\u001b[39m output\u001b[38;5;241m.\u001b[39mmetrics[\u001b[38;5;124mf\u001b[39m\u001b[38;5;124m\"\u001b[39m\u001b[38;5;132;01m{\u001b[39;00mmetric_key_prefix\u001b[38;5;132;01m}\u001b[39;00m\u001b[38;5;124m_model_preparation_time\u001b[39m\u001b[38;5;124m\"\u001b[39m]\n\u001b[0;32m   3990\u001b[0m output\u001b[38;5;241m.\u001b[39mmetrics\u001b[38;5;241m.\u001b[39mupdate(\n\u001b[0;32m   3991\u001b[0m     speed_metrics(\n\u001b[0;32m   3992\u001b[0m         metric_key_prefix,\n\u001b[1;32m   (...)\u001b[0m\n\u001b[0;32m   3996\u001b[0m     )\n\u001b[0;32m   3997\u001b[0m )\n\u001b[1;32m-> 3999\u001b[0m \u001b[38;5;28;43mself\u001b[39;49m\u001b[38;5;241;43m.\u001b[39;49m\u001b[43mlog\u001b[49m\u001b[43m(\u001b[49m\u001b[43moutput\u001b[49m\u001b[38;5;241;43m.\u001b[39;49m\u001b[43mmetrics\u001b[49m\u001b[43m)\u001b[49m\n\u001b[0;32m   4001\u001b[0m \u001b[38;5;28;01mif\u001b[39;00m DebugOption\u001b[38;5;241m.\u001b[39mTPU_METRICS_DEBUG \u001b[38;5;129;01min\u001b[39;00m \u001b[38;5;28mself\u001b[39m\u001b[38;5;241m.\u001b[39margs\u001b[38;5;241m.\u001b[39mdebug:\n\u001b[0;32m   4002\u001b[0m     \u001b[38;5;66;03m# tpu-comment: Logging debug metrics for PyTorch/XLA (compile, execute times, ops, etc.)\u001b[39;00m\n\u001b[0;32m   4003\u001b[0m     xm\u001b[38;5;241m.\u001b[39mmaster_print(met\u001b[38;5;241m.\u001b[39mmetrics_report())\n",
      "File \u001b[1;32mc:\\Users\\Omen\\anaconda3\\envs\\mts\\Lib\\site-packages\\transformers\\trainer.py:3495\u001b[0m, in \u001b[0;36mTrainer.log\u001b[1;34m(self, logs)\u001b[0m\n\u001b[0;32m   3493\u001b[0m output \u001b[38;5;241m=\u001b[39m {\u001b[38;5;241m*\u001b[39m\u001b[38;5;241m*\u001b[39mlogs, \u001b[38;5;241m*\u001b[39m\u001b[38;5;241m*\u001b[39m{\u001b[38;5;124m\"\u001b[39m\u001b[38;5;124mstep\u001b[39m\u001b[38;5;124m\"\u001b[39m: \u001b[38;5;28mself\u001b[39m\u001b[38;5;241m.\u001b[39mstate\u001b[38;5;241m.\u001b[39mglobal_step}}\n\u001b[0;32m   3494\u001b[0m \u001b[38;5;28mself\u001b[39m\u001b[38;5;241m.\u001b[39mstate\u001b[38;5;241m.\u001b[39mlog_history\u001b[38;5;241m.\u001b[39mappend(output)\n\u001b[1;32m-> 3495\u001b[0m \u001b[38;5;28mself\u001b[39m\u001b[38;5;241m.\u001b[39mcontrol \u001b[38;5;241m=\u001b[39m \u001b[38;5;28;43mself\u001b[39;49m\u001b[38;5;241;43m.\u001b[39;49m\u001b[43mcallback_handler\u001b[49m\u001b[38;5;241;43m.\u001b[39;49m\u001b[43mon_log\u001b[49m\u001b[43m(\u001b[49m\u001b[38;5;28;43mself\u001b[39;49m\u001b[38;5;241;43m.\u001b[39;49m\u001b[43margs\u001b[49m\u001b[43m,\u001b[49m\u001b[43m \u001b[49m\u001b[38;5;28;43mself\u001b[39;49m\u001b[38;5;241;43m.\u001b[39;49m\u001b[43mstate\u001b[49m\u001b[43m,\u001b[49m\u001b[43m \u001b[49m\u001b[38;5;28;43mself\u001b[39;49m\u001b[38;5;241;43m.\u001b[39;49m\u001b[43mcontrol\u001b[49m\u001b[43m,\u001b[49m\u001b[43m \u001b[49m\u001b[43mlogs\u001b[49m\u001b[43m)\u001b[49m\n",
      "File \u001b[1;32mc:\\Users\\Omen\\anaconda3\\envs\\mts\\Lib\\site-packages\\transformers\\trainer_callback.py:511\u001b[0m, in \u001b[0;36mCallbackHandler.on_log\u001b[1;34m(self, args, state, control, logs)\u001b[0m\n\u001b[0;32m    509\u001b[0m \u001b[38;5;28;01mdef\u001b[39;00m \u001b[38;5;21mon_log\u001b[39m(\u001b[38;5;28mself\u001b[39m, args: TrainingArguments, state: TrainerState, control: TrainerControl, logs):\n\u001b[0;32m    510\u001b[0m     control\u001b[38;5;241m.\u001b[39mshould_log \u001b[38;5;241m=\u001b[39m \u001b[38;5;28;01mFalse\u001b[39;00m\n\u001b[1;32m--> 511\u001b[0m     \u001b[38;5;28;01mreturn\u001b[39;00m \u001b[38;5;28;43mself\u001b[39;49m\u001b[38;5;241;43m.\u001b[39;49m\u001b[43mcall_event\u001b[49m\u001b[43m(\u001b[49m\u001b[38;5;124;43m\"\u001b[39;49m\u001b[38;5;124;43mon_log\u001b[39;49m\u001b[38;5;124;43m\"\u001b[39;49m\u001b[43m,\u001b[49m\u001b[43m \u001b[49m\u001b[43margs\u001b[49m\u001b[43m,\u001b[49m\u001b[43m \u001b[49m\u001b[43mstate\u001b[49m\u001b[43m,\u001b[49m\u001b[43m \u001b[49m\u001b[43mcontrol\u001b[49m\u001b[43m,\u001b[49m\u001b[43m \u001b[49m\u001b[43mlogs\u001b[49m\u001b[38;5;241;43m=\u001b[39;49m\u001b[43mlogs\u001b[49m\u001b[43m)\u001b[49m\n",
      "File \u001b[1;32mc:\\Users\\Omen\\anaconda3\\envs\\mts\\Lib\\site-packages\\transformers\\trainer_callback.py:518\u001b[0m, in \u001b[0;36mCallbackHandler.call_event\u001b[1;34m(self, event, args, state, control, **kwargs)\u001b[0m\n\u001b[0;32m    516\u001b[0m \u001b[38;5;28;01mdef\u001b[39;00m \u001b[38;5;21mcall_event\u001b[39m(\u001b[38;5;28mself\u001b[39m, event, args, state, control, \u001b[38;5;241m*\u001b[39m\u001b[38;5;241m*\u001b[39mkwargs):\n\u001b[0;32m    517\u001b[0m     \u001b[38;5;28;01mfor\u001b[39;00m callback \u001b[38;5;129;01min\u001b[39;00m \u001b[38;5;28mself\u001b[39m\u001b[38;5;241m.\u001b[39mcallbacks:\n\u001b[1;32m--> 518\u001b[0m         result \u001b[38;5;241m=\u001b[39m \u001b[38;5;28;43mgetattr\u001b[39;49m\u001b[43m(\u001b[49m\u001b[43mcallback\u001b[49m\u001b[43m,\u001b[49m\u001b[43m \u001b[49m\u001b[43mevent\u001b[49m\u001b[43m)\u001b[49m\u001b[43m(\u001b[49m\n\u001b[0;32m    519\u001b[0m \u001b[43m            \u001b[49m\u001b[43margs\u001b[49m\u001b[43m,\u001b[49m\n\u001b[0;32m    520\u001b[0m \u001b[43m            \u001b[49m\u001b[43mstate\u001b[49m\u001b[43m,\u001b[49m\n\u001b[0;32m    521\u001b[0m \u001b[43m            \u001b[49m\u001b[43mcontrol\u001b[49m\u001b[43m,\u001b[49m\n\u001b[0;32m    522\u001b[0m \u001b[43m            \u001b[49m\u001b[43mmodel\u001b[49m\u001b[38;5;241;43m=\u001b[39;49m\u001b[38;5;28;43mself\u001b[39;49m\u001b[38;5;241;43m.\u001b[39;49m\u001b[43mmodel\u001b[49m\u001b[43m,\u001b[49m\n\u001b[0;32m    523\u001b[0m \u001b[43m            \u001b[49m\u001b[43mprocessing_class\u001b[49m\u001b[38;5;241;43m=\u001b[39;49m\u001b[38;5;28;43mself\u001b[39;49m\u001b[38;5;241;43m.\u001b[39;49m\u001b[43mprocessing_class\u001b[49m\u001b[43m,\u001b[49m\n\u001b[0;32m    524\u001b[0m \u001b[43m            \u001b[49m\u001b[43moptimizer\u001b[49m\u001b[38;5;241;43m=\u001b[39;49m\u001b[38;5;28;43mself\u001b[39;49m\u001b[38;5;241;43m.\u001b[39;49m\u001b[43moptimizer\u001b[49m\u001b[43m,\u001b[49m\n\u001b[0;32m    525\u001b[0m \u001b[43m            \u001b[49m\u001b[43mlr_scheduler\u001b[49m\u001b[38;5;241;43m=\u001b[39;49m\u001b[38;5;28;43mself\u001b[39;49m\u001b[38;5;241;43m.\u001b[39;49m\u001b[43mlr_scheduler\u001b[49m\u001b[43m,\u001b[49m\n\u001b[0;32m    526\u001b[0m \u001b[43m            \u001b[49m\u001b[43mtrain_dataloader\u001b[49m\u001b[38;5;241;43m=\u001b[39;49m\u001b[38;5;28;43mself\u001b[39;49m\u001b[38;5;241;43m.\u001b[39;49m\u001b[43mtrain_dataloader\u001b[49m\u001b[43m,\u001b[49m\n\u001b[0;32m    527\u001b[0m \u001b[43m            \u001b[49m\u001b[43meval_dataloader\u001b[49m\u001b[38;5;241;43m=\u001b[39;49m\u001b[38;5;28;43mself\u001b[39;49m\u001b[38;5;241;43m.\u001b[39;49m\u001b[43meval_dataloader\u001b[49m\u001b[43m,\u001b[49m\n\u001b[0;32m    528\u001b[0m \u001b[43m            \u001b[49m\u001b[38;5;241;43m*\u001b[39;49m\u001b[38;5;241;43m*\u001b[39;49m\u001b[43mkwargs\u001b[49m\u001b[43m,\u001b[49m\n\u001b[0;32m    529\u001b[0m \u001b[43m        \u001b[49m\u001b[43m)\u001b[49m\n\u001b[0;32m    530\u001b[0m         \u001b[38;5;66;03m# A Callback can skip the return of `control` if it doesn't change it.\u001b[39;00m\n\u001b[0;32m    531\u001b[0m         \u001b[38;5;28;01mif\u001b[39;00m result \u001b[38;5;129;01mis\u001b[39;00m \u001b[38;5;129;01mnot\u001b[39;00m \u001b[38;5;28;01mNone\u001b[39;00m:\n",
      "File \u001b[1;32mc:\\Users\\Omen\\anaconda3\\envs\\mts\\Lib\\site-packages\\transformers\\integrations\\integration_utils.py:971\u001b[0m, in \u001b[0;36mWandbCallback.on_log\u001b[1;34m(self, args, state, control, model, logs, **kwargs)\u001b[0m\n\u001b[0;32m    969\u001b[0m non_scalar_logs \u001b[38;5;241m=\u001b[39m {k: v \u001b[38;5;28;01mfor\u001b[39;00m k, v \u001b[38;5;129;01min\u001b[39;00m logs\u001b[38;5;241m.\u001b[39mitems() \u001b[38;5;28;01mif\u001b[39;00m k \u001b[38;5;129;01mnot\u001b[39;00m \u001b[38;5;129;01min\u001b[39;00m single_value_scalars}\n\u001b[0;32m    970\u001b[0m non_scalar_logs \u001b[38;5;241m=\u001b[39m rewrite_logs(non_scalar_logs)\n\u001b[1;32m--> 971\u001b[0m \u001b[38;5;28;43mself\u001b[39;49m\u001b[38;5;241;43m.\u001b[39;49m\u001b[43m_wandb\u001b[49m\u001b[38;5;241;43m.\u001b[39;49m\u001b[43mlog\u001b[49m\u001b[43m(\u001b[49m\u001b[43m{\u001b[49m\u001b[38;5;241;43m*\u001b[39;49m\u001b[38;5;241;43m*\u001b[39;49m\u001b[43mnon_scalar_logs\u001b[49m\u001b[43m,\u001b[49m\u001b[43m \u001b[49m\u001b[38;5;124;43m\"\u001b[39;49m\u001b[38;5;124;43mtrain/global_step\u001b[39;49m\u001b[38;5;124;43m\"\u001b[39;49m\u001b[43m:\u001b[49m\u001b[43m \u001b[49m\u001b[43mstate\u001b[49m\u001b[38;5;241;43m.\u001b[39;49m\u001b[43mglobal_step\u001b[49m\u001b[43m}\u001b[49m\u001b[43m)\u001b[49m\n",
      "File \u001b[1;32mc:\\Users\\Omen\\anaconda3\\envs\\mts\\Lib\\site-packages\\wandb\\sdk\\lib\\preinit.py:36\u001b[0m, in \u001b[0;36mPreInitCallable.<locals>.preinit_wrapper\u001b[1;34m(*args, **kwargs)\u001b[0m\n\u001b[0;32m     35\u001b[0m \u001b[38;5;28;01mdef\u001b[39;00m \u001b[38;5;21mpreinit_wrapper\u001b[39m(\u001b[38;5;241m*\u001b[39margs: Any, \u001b[38;5;241m*\u001b[39m\u001b[38;5;241m*\u001b[39mkwargs: Any) \u001b[38;5;241m-\u001b[39m\u001b[38;5;241m>\u001b[39m Any:\n\u001b[1;32m---> 36\u001b[0m     \u001b[38;5;28;01mraise\u001b[39;00m wandb\u001b[38;5;241m.\u001b[39mError(\u001b[38;5;124mf\u001b[39m\u001b[38;5;124m\"\u001b[39m\u001b[38;5;124mYou must call wandb.init() before \u001b[39m\u001b[38;5;132;01m{\u001b[39;00mname\u001b[38;5;132;01m}\u001b[39;00m\u001b[38;5;124m()\u001b[39m\u001b[38;5;124m\"\u001b[39m)\n",
      "\u001b[1;31mError\u001b[0m: You must call wandb.init() before wandb.log()"
     ]
    }
   ],
   "source": [
    "trainer_jepa.evaluate(valwindowds)\n",
    "wandb.finish()"
   ]
  },
  {
   "cell_type": "code",
   "execution_count": null,
   "metadata": {},
   "outputs": [],
   "source": []
  }
 ],
 "metadata": {
  "kernelspec": {
   "display_name": "mts",
   "language": "python",
   "name": "python3"
  },
  "language_info": {
   "codemirror_mode": {
    "name": "ipython",
    "version": 3
   },
   "file_extension": ".py",
   "mimetype": "text/x-python",
   "name": "python",
   "nbconvert_exporter": "python",
   "pygments_lexer": "ipython3",
   "version": "3.11.9"
  }
 },
 "nbformat": 4,
 "nbformat_minor": 2
}
