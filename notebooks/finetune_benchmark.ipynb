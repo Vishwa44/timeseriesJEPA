{
 "cells": [
  {
   "cell_type": "code",
   "execution_count": 11,
   "metadata": {},
   "outputs": [],
   "source": [
    "import sys\n",
    "sys.path.append('..')\n",
    "\n",
    "import random\n",
    "\n",
    "import numpy as np\n",
    "import pandas as pd\n",
    "import torch\n",
    "import transformers\n",
    "\n",
    "from transformers import PatchTSTConfig, Trainer, TrainingArguments, EarlyStoppingCallback\n",
    "from transformers import PatchTSTForPrediction as PatchTSTForPredictionOG\n",
    "from TimeSeriesJEPA.models import PatchTSTModelJEPA, PatchTSTForPrediction\n",
    "from TimeSeriesJEPA.datasets.benchmark_dataset import BenchmarkDataset"
   ]
  },
  {
   "cell_type": "code",
   "execution_count": 12,
   "metadata": {},
   "outputs": [],
   "source": [
    "csv_path = r\"D:\\Coursework\\MTS\\dataset\\ETT-small\\ETTh2.csv\"\n",
    "dataset = \"ETTh2\"\n",
    "num_workers = 4  # Reduce this if you have low number of CPU cores\n",
    "batch_size = 32  # Reduce if not enough GPU memory available\n",
    "context_length = 512\n",
    "forecast_horizon = 96\n",
    "patch_length = 8\n",
    "num_input_channels=7"
   ]
  },
  {
   "cell_type": "code",
   "execution_count": 13,
   "metadata": {},
   "outputs": [
    {
     "name": "stdout",
     "output_type": "stream",
     "text": [
      "Total data size:  (17420, 7)\n",
      "Total data size:  (17420, 7)\n",
      "dataset loaded, total size:  8033 2785\n"
     ]
    }
   ],
   "source": [
    "\n",
    "trainwindowds = BenchmarkDataset(csv_path=csv_path, context_length=context_length, prediction_length=forecast_horizon, flag='train', returndict=True)\n",
    "valwindowds = BenchmarkDataset(csv_path=csv_path, context_length=context_length, prediction_length=forecast_horizon, flag='test', returndict=True)\n",
    "print(\"dataset loaded, total size: \", len(trainwindowds), len(valwindowds))"
   ]
  },
  {
   "cell_type": "code",
   "execution_count": 14,
   "metadata": {},
   "outputs": [
    {
     "name": "stdout",
     "output_type": "stream",
     "text": [
      "Loading prediction model\n"
     ]
    }
   ],
   "source": [
    "print(\"Loading prediction model\")\n",
    "\n",
    "config = PatchTSTConfig(\n",
    "    do_mask_input=False,\n",
    "    context_length=context_length,\n",
    "    patch_length=patch_length,\n",
    "    num_input_channels=num_input_channels,\n",
    "    patch_stride=8,\n",
    "    prediction_length=forecast_horizon,\n",
    "    d_model=64,\n",
    "    num_attention_heads=4,\n",
    "    num_hidden_layers=3,\n",
    "    ffn_dim=64,\n",
    "    dropout=0.05,\n",
    "    head_dropout=0.2,\n",
    "    pooling_type=None,\n",
    "    channel_attention=False,\n",
    "    scaling=\"std\",\n",
    "    loss=\"mse\",\n",
    "    pre_norm=True,\n",
    "    norm_type=\"batchnorm\",\n",
    "    positional_encoding_type = \"sincos\"\n",
    ")\n",
    "\n",
    "model = PatchTSTForPredictionOG(config=config)"
   ]
  },
  {
   "cell_type": "code",
   "execution_count": 15,
   "metadata": {},
   "outputs": [
    {
     "data": {
      "text/plain": [
       "PatchTSTForPrediction(\n",
       "  (model): PatchTSTModel(\n",
       "    (scaler): PatchTSTScaler(\n",
       "      (scaler): PatchTSTStdScaler()\n",
       "    )\n",
       "    (patchifier): PatchTSTPatchify()\n",
       "    (masking): Identity()\n",
       "    (encoder): PatchTSTEncoder(\n",
       "      (embedder): PatchTSTEmbedding(\n",
       "        (input_embedding): Linear(in_features=8, out_features=64, bias=True)\n",
       "      )\n",
       "      (positional_encoder): PatchTSTPositionalEncoding(\n",
       "        (positional_dropout): Identity()\n",
       "      )\n",
       "      (layers): ModuleList(\n",
       "        (0-2): 3 x PatchTSTEncoderLayer(\n",
       "          (self_attn): PatchTSTAttention(\n",
       "            (k_proj): Linear(in_features=64, out_features=64, bias=True)\n",
       "            (v_proj): Linear(in_features=64, out_features=64, bias=True)\n",
       "            (q_proj): Linear(in_features=64, out_features=64, bias=True)\n",
       "            (out_proj): Linear(in_features=64, out_features=64, bias=True)\n",
       "          )\n",
       "          (dropout_path1): Identity()\n",
       "          (norm_sublayer1): PatchTSTBatchNorm(\n",
       "            (batchnorm): BatchNorm1d(64, eps=1e-05, momentum=0.1, affine=True, track_running_stats=True)\n",
       "          )\n",
       "          (ff): Sequential(\n",
       "            (0): Linear(in_features=64, out_features=64, bias=True)\n",
       "            (1): GELUActivation()\n",
       "            (2): Identity()\n",
       "            (3): Linear(in_features=64, out_features=64, bias=True)\n",
       "          )\n",
       "          (dropout_path3): Identity()\n",
       "          (norm_sublayer3): PatchTSTBatchNorm(\n",
       "            (batchnorm): BatchNorm1d(64, eps=1e-05, momentum=0.1, affine=True, track_running_stats=True)\n",
       "          )\n",
       "        )\n",
       "      )\n",
       "    )\n",
       "  )\n",
       "  (head): PatchTSTPredictionHead(\n",
       "    (flatten): Flatten(start_dim=2, end_dim=-1)\n",
       "    (projection): Linear(in_features=4096, out_features=96, bias=True)\n",
       "    (dropout): Dropout(p=0.2, inplace=False)\n",
       "  )\n",
       ")"
      ]
     },
     "execution_count": 15,
     "metadata": {},
     "output_type": "execute_result"
    }
   ],
   "source": [
    "model.cuda()"
   ]
  },
  {
   "cell_type": "code",
   "execution_count": 16,
   "metadata": {},
   "outputs": [
    {
     "name": "stdout",
     "output_type": "stream",
     "text": [
      "encoder parameters:  473632\n"
     ]
    }
   ],
   "source": [
    "model_parameters = filter(lambda p: p.requires_grad, model.parameters())\n",
    "params = sum([np.prod(p.size()) for p in model.parameters()])\n",
    "print(\"encoder parameters: \", params)"
   ]
  },
  {
   "cell_type": "code",
   "execution_count": 17,
   "metadata": {},
   "outputs": [
    {
     "name": "stderr",
     "output_type": "stream",
     "text": [
      "c:\\Users\\Omen\\anaconda3\\envs\\mts\\Lib\\site-packages\\transformers\\training_args.py:1568: FutureWarning: `evaluation_strategy` is deprecated and will be removed in version 4.46 of 🤗 Transformers. Use `eval_strategy` instead\n",
      "  warnings.warn(\n"
     ]
    }
   ],
   "source": [
    "train_args = TrainingArguments(\n",
    "    output_dir=r\"checkpoints\\finetuned_og\",\n",
    "    overwrite_output_dir=True,\n",
    "    learning_rate=0.0001,\n",
    "    num_train_epochs=30,\n",
    "    do_eval=True,\n",
    "    evaluation_strategy=\"epoch\",\n",
    "    per_device_train_batch_size=batch_size,\n",
    "    per_device_eval_batch_size=batch_size,\n",
    "    dataloader_num_workers=1,  # num_workers,\n",
    "    save_strategy=\"epoch\",\n",
    "    logging_strategy=\"epoch\",\n",
    "    save_total_limit=3,\n",
    "    logging_dir=r\"checkpoints\\finetuned_og\\logs\",\n",
    "    load_best_model_at_end=True,  # Load the best model when training ends\n",
    "    metric_for_best_model=\"eval_loss\",  # Metric to monitor for early stopping\n",
    "    greater_is_better=False,  # For loss\n",
    "    label_names=[\"future_values\"],\n",
    ")\n",
    "\n",
    "# Create a new early stopping callback with faster convergence properties\n",
    "early_stopping_callback = EarlyStoppingCallback(\n",
    "    early_stopping_patience=15,  # Number of epochs with no improvement after which to stop\n",
    "    early_stopping_threshold=0.001,  # Minimum improvement required to consider as improvement\n",
    ")\n",
    "\n",
    "trainer = Trainer(\n",
    "    model=model,\n",
    "    args=train_args,\n",
    "    train_dataset=trainwindowds,\n",
    "    eval_dataset=valwindowds,\n",
    "    callbacks=[early_stopping_callback],\n",
    ")"
   ]
  },
  {
   "cell_type": "code",
   "execution_count": 18,
   "metadata": {},
   "outputs": [
    {
     "name": "stdout",
     "output_type": "stream",
     "text": [
      "\n",
      "\n",
      "Doing forecasting training\n"
     ]
    },
    {
     "data": {
      "application/vnd.jupyter.widget-view+json": {
       "model_id": "6a720cadb6aa41149e64521c54d0b05f",
       "version_major": 2,
       "version_minor": 0
      },
      "text/plain": [
       "  0%|          | 0/7560 [00:00<?, ?it/s]"
      ]
     },
     "metadata": {},
     "output_type": "display_data"
    },
    {
     "name": "stdout",
     "output_type": "stream",
     "text": [
      "{'loss': 0.4713, 'grad_norm': 0.5749430656433105, 'learning_rate': 9.666666666666667e-05, 'epoch': 1.0}\n"
     ]
    },
    {
     "data": {
      "application/vnd.jupyter.widget-view+json": {
       "model_id": "2faf7aa77643406c8e9c8bc416d90a10",
       "version_major": 2,
       "version_minor": 0
      },
      "text/plain": [
       "  0%|          | 0/88 [00:00<?, ?it/s]"
      ]
     },
     "metadata": {},
     "output_type": "display_data"
    },
    {
     "name": "stdout",
     "output_type": "stream",
     "text": [
      "{'eval_loss': 0.2816503643989563, 'eval_runtime': 5.5824, 'eval_samples_per_second': 498.889, 'eval_steps_per_second': 15.764, 'epoch': 1.0}\n",
      "{'loss': 0.4468, 'grad_norm': 32.79212951660156, 'learning_rate': 9.333333333333334e-05, 'epoch': 2.0}\n"
     ]
    },
    {
     "data": {
      "application/vnd.jupyter.widget-view+json": {
       "model_id": "4c2f9fdc8c604fd2a2e0f71837cd65d4",
       "version_major": 2,
       "version_minor": 0
      },
      "text/plain": [
       "  0%|          | 0/88 [00:00<?, ?it/s]"
      ]
     },
     "metadata": {},
     "output_type": "display_data"
    },
    {
     "name": "stdout",
     "output_type": "stream",
     "text": [
      "{'eval_loss': 0.27998584508895874, 'eval_runtime': 5.6071, 'eval_samples_per_second': 496.691, 'eval_steps_per_second': 15.694, 'epoch': 2.0}\n",
      "{'loss': 0.37, 'grad_norm': 0.45317402482032776, 'learning_rate': 9e-05, 'epoch': 3.0}\n"
     ]
    },
    {
     "data": {
      "application/vnd.jupyter.widget-view+json": {
       "model_id": "e9f46a3417e04cd09b63ce381abf8c35",
       "version_major": 2,
       "version_minor": 0
      },
      "text/plain": [
       "  0%|          | 0/88 [00:00<?, ?it/s]"
      ]
     },
     "metadata": {},
     "output_type": "display_data"
    },
    {
     "name": "stdout",
     "output_type": "stream",
     "text": [
      "{'eval_loss': 0.27863338589668274, 'eval_runtime': 5.6284, 'eval_samples_per_second': 494.81, 'eval_steps_per_second': 15.635, 'epoch': 3.0}\n",
      "{'loss': 0.3407, 'grad_norm': 1.025422215461731, 'learning_rate': 8.666666666666667e-05, 'epoch': 4.0}\n"
     ]
    },
    {
     "data": {
      "application/vnd.jupyter.widget-view+json": {
       "model_id": "b1621370f9e2452ca905699cf60c2280",
       "version_major": 2,
       "version_minor": 0
      },
      "text/plain": [
       "  0%|          | 0/88 [00:00<?, ?it/s]"
      ]
     },
     "metadata": {},
     "output_type": "display_data"
    },
    {
     "name": "stdout",
     "output_type": "stream",
     "text": [
      "{'eval_loss': 0.284548282623291, 'eval_runtime': 5.5568, 'eval_samples_per_second': 501.185, 'eval_steps_per_second': 15.836, 'epoch': 4.0}\n",
      "{'loss': 0.325, 'grad_norm': 0.7343245148658752, 'learning_rate': 8.333333333333334e-05, 'epoch': 5.0}\n"
     ]
    },
    {
     "data": {
      "application/vnd.jupyter.widget-view+json": {
       "model_id": "71710e4352204c7db8d993d78bc92110",
       "version_major": 2,
       "version_minor": 0
      },
      "text/plain": [
       "  0%|          | 0/88 [00:00<?, ?it/s]"
      ]
     },
     "metadata": {},
     "output_type": "display_data"
    },
    {
     "name": "stdout",
     "output_type": "stream",
     "text": [
      "{'eval_loss': 0.28048738837242126, 'eval_runtime': 5.5638, 'eval_samples_per_second': 500.559, 'eval_steps_per_second': 15.817, 'epoch': 5.0}\n",
      "{'loss': 0.3131, 'grad_norm': 4.370523452758789, 'learning_rate': 8e-05, 'epoch': 6.0}\n"
     ]
    },
    {
     "data": {
      "application/vnd.jupyter.widget-view+json": {
       "model_id": "82ed538dc62b46ba83145ef7d1cc6a8f",
       "version_major": 2,
       "version_minor": 0
      },
      "text/plain": [
       "  0%|          | 0/88 [00:00<?, ?it/s]"
      ]
     },
     "metadata": {},
     "output_type": "display_data"
    },
    {
     "name": "stdout",
     "output_type": "stream",
     "text": [
      "{'eval_loss': 0.2909912168979645, 'eval_runtime': 5.5623, 'eval_samples_per_second': 500.689, 'eval_steps_per_second': 15.821, 'epoch': 6.0}\n",
      "{'loss': 0.3001, 'grad_norm': 0.7435413002967834, 'learning_rate': 7.666666666666667e-05, 'epoch': 7.0}\n"
     ]
    },
    {
     "data": {
      "application/vnd.jupyter.widget-view+json": {
       "model_id": "380c251989714ee09e786efba2e1425a",
       "version_major": 2,
       "version_minor": 0
      },
      "text/plain": [
       "  0%|          | 0/88 [00:00<?, ?it/s]"
      ]
     },
     "metadata": {},
     "output_type": "display_data"
    },
    {
     "name": "stdout",
     "output_type": "stream",
     "text": [
      "{'eval_loss': 0.2877395749092102, 'eval_runtime': 5.5189, 'eval_samples_per_second': 504.626, 'eval_steps_per_second': 15.945, 'epoch': 7.0}\n",
      "{'loss': 0.2917, 'grad_norm': 1.6160026788711548, 'learning_rate': 7.333333333333333e-05, 'epoch': 8.0}\n"
     ]
    },
    {
     "data": {
      "application/vnd.jupyter.widget-view+json": {
       "model_id": "535244f31b1b418cb9c6a64733e87b9e",
       "version_major": 2,
       "version_minor": 0
      },
      "text/plain": [
       "  0%|          | 0/88 [00:00<?, ?it/s]"
      ]
     },
     "metadata": {},
     "output_type": "display_data"
    },
    {
     "name": "stdout",
     "output_type": "stream",
     "text": [
      "{'eval_loss': 0.29124587774276733, 'eval_runtime': 5.5208, 'eval_samples_per_second': 504.457, 'eval_steps_per_second': 15.94, 'epoch': 8.0}\n",
      "{'loss': 0.2839, 'grad_norm': 0.6064866781234741, 'learning_rate': 7e-05, 'epoch': 9.0}\n"
     ]
    },
    {
     "data": {
      "application/vnd.jupyter.widget-view+json": {
       "model_id": "24a0c468679e4600a62ceb9d639abb9a",
       "version_major": 2,
       "version_minor": 0
      },
      "text/plain": [
       "  0%|          | 0/88 [00:00<?, ?it/s]"
      ]
     },
     "metadata": {},
     "output_type": "display_data"
    },
    {
     "name": "stdout",
     "output_type": "stream",
     "text": [
      "{'eval_loss': 0.2951210141181946, 'eval_runtime': 5.6178, 'eval_samples_per_second': 495.741, 'eval_steps_per_second': 15.664, 'epoch': 9.0}\n",
      "{'loss': 0.2774, 'grad_norm': 1.4424302577972412, 'learning_rate': 6.666666666666667e-05, 'epoch': 10.0}\n"
     ]
    },
    {
     "data": {
      "application/vnd.jupyter.widget-view+json": {
       "model_id": "1ed0bb7a107943e8aebb7bb6b45129dd",
       "version_major": 2,
       "version_minor": 0
      },
      "text/plain": [
       "  0%|          | 0/88 [00:00<?, ?it/s]"
      ]
     },
     "metadata": {},
     "output_type": "display_data"
    },
    {
     "name": "stdout",
     "output_type": "stream",
     "text": [
      "{'eval_loss': 0.2934449315071106, 'eval_runtime': 5.5025, 'eval_samples_per_second': 506.133, 'eval_steps_per_second': 15.993, 'epoch': 10.0}\n",
      "{'loss': 0.273, 'grad_norm': 0.7836481928825378, 'learning_rate': 6.333333333333333e-05, 'epoch': 11.0}\n"
     ]
    },
    {
     "data": {
      "application/vnd.jupyter.widget-view+json": {
       "model_id": "2b9314eeac8b45d1bc9e4681a94b8343",
       "version_major": 2,
       "version_minor": 0
      },
      "text/plain": [
       "  0%|          | 0/88 [00:00<?, ?it/s]"
      ]
     },
     "metadata": {},
     "output_type": "display_data"
    },
    {
     "name": "stdout",
     "output_type": "stream",
     "text": [
      "{'eval_loss': 0.2899249792098999, 'eval_runtime': 5.5801, 'eval_samples_per_second': 499.099, 'eval_steps_per_second': 15.77, 'epoch': 11.0}\n",
      "{'loss': 0.27, 'grad_norm': 2.9216580390930176, 'learning_rate': 6e-05, 'epoch': 12.0}\n"
     ]
    },
    {
     "data": {
      "application/vnd.jupyter.widget-view+json": {
       "model_id": "c86e9aa709b14ef7bc4d229b3984a26c",
       "version_major": 2,
       "version_minor": 0
      },
      "text/plain": [
       "  0%|          | 0/88 [00:00<?, ?it/s]"
      ]
     },
     "metadata": {},
     "output_type": "display_data"
    },
    {
     "name": "stdout",
     "output_type": "stream",
     "text": [
      "{'eval_loss': 0.3024137616157532, 'eval_runtime': 5.4336, 'eval_samples_per_second': 512.556, 'eval_steps_per_second': 16.196, 'epoch': 12.0}\n",
      "{'loss': 0.265, 'grad_norm': 1.4880750179290771, 'learning_rate': 5.666666666666667e-05, 'epoch': 13.0}\n"
     ]
    },
    {
     "data": {
      "application/vnd.jupyter.widget-view+json": {
       "model_id": "fff9bdf77be247cfb8be92e852ab8661",
       "version_major": 2,
       "version_minor": 0
      },
      "text/plain": [
       "  0%|          | 0/88 [00:00<?, ?it/s]"
      ]
     },
     "metadata": {},
     "output_type": "display_data"
    },
    {
     "name": "stdout",
     "output_type": "stream",
     "text": [
      "{'eval_loss': 0.29816505312919617, 'eval_runtime': 5.4839, 'eval_samples_per_second': 507.85, 'eval_steps_per_second': 16.047, 'epoch': 13.0}\n",
      "{'loss': 0.2612, 'grad_norm': 1.1776795387268066, 'learning_rate': 5.333333333333333e-05, 'epoch': 14.0}\n"
     ]
    },
    {
     "data": {
      "application/vnd.jupyter.widget-view+json": {
       "model_id": "7b3a63ef228d43b1bee501bc82d0791b",
       "version_major": 2,
       "version_minor": 0
      },
      "text/plain": [
       "  0%|          | 0/88 [00:00<?, ?it/s]"
      ]
     },
     "metadata": {},
     "output_type": "display_data"
    },
    {
     "name": "stdout",
     "output_type": "stream",
     "text": [
      "{'eval_loss': 0.3091077208518982, 'eval_runtime': 5.4832, 'eval_samples_per_second': 507.918, 'eval_steps_per_second': 16.049, 'epoch': 14.0}\n",
      "{'loss': 0.257, 'grad_norm': 0.9793025255203247, 'learning_rate': 5e-05, 'epoch': 15.0}\n"
     ]
    },
    {
     "data": {
      "application/vnd.jupyter.widget-view+json": {
       "model_id": "794c222bc98c4435a1d917208ff9bace",
       "version_major": 2,
       "version_minor": 0
      },
      "text/plain": [
       "  0%|          | 0/88 [00:00<?, ?it/s]"
      ]
     },
     "metadata": {},
     "output_type": "display_data"
    },
    {
     "name": "stdout",
     "output_type": "stream",
     "text": [
      "{'eval_loss': 0.3193683326244354, 'eval_runtime': 5.4348, 'eval_samples_per_second': 512.443, 'eval_steps_per_second': 16.192, 'epoch': 15.0}\n",
      "{'loss': 0.2541, 'grad_norm': 1.699536681175232, 'learning_rate': 4.666666666666667e-05, 'epoch': 16.0}\n"
     ]
    },
    {
     "data": {
      "application/vnd.jupyter.widget-view+json": {
       "model_id": "b681ac50c3cb47e098012d571e0cbbda",
       "version_major": 2,
       "version_minor": 0
      },
      "text/plain": [
       "  0%|          | 0/88 [00:00<?, ?it/s]"
      ]
     },
     "metadata": {},
     "output_type": "display_data"
    },
    {
     "name": "stdout",
     "output_type": "stream",
     "text": [
      "{'eval_loss': 0.30794575810432434, 'eval_runtime': 5.4493, 'eval_samples_per_second': 511.078, 'eval_steps_per_second': 16.149, 'epoch': 16.0}\n",
      "{'loss': 0.2511, 'grad_norm': 3.5143752098083496, 'learning_rate': 4.3333333333333334e-05, 'epoch': 17.0}\n"
     ]
    },
    {
     "data": {
      "application/vnd.jupyter.widget-view+json": {
       "model_id": "044e1b2f78804af6a747c767be20a79a",
       "version_major": 2,
       "version_minor": 0
      },
      "text/plain": [
       "  0%|          | 0/88 [00:00<?, ?it/s]"
      ]
     },
     "metadata": {},
     "output_type": "display_data"
    },
    {
     "name": "stdout",
     "output_type": "stream",
     "text": [
      "{'eval_loss': 0.3022763729095459, 'eval_runtime': 5.5061, 'eval_samples_per_second': 505.806, 'eval_steps_per_second': 15.982, 'epoch': 17.0}\n",
      "{'loss': 0.2486, 'grad_norm': 4.148008823394775, 'learning_rate': 4e-05, 'epoch': 18.0}\n"
     ]
    },
    {
     "data": {
      "application/vnd.jupyter.widget-view+json": {
       "model_id": "1317c5c52a204fe6a4ec5c4454b4ae1c",
       "version_major": 2,
       "version_minor": 0
      },
      "text/plain": [
       "  0%|          | 0/88 [00:00<?, ?it/s]"
      ]
     },
     "metadata": {},
     "output_type": "display_data"
    },
    {
     "name": "stdout",
     "output_type": "stream",
     "text": [
      "{'eval_loss': 0.3059213161468506, 'eval_runtime': 5.6237, 'eval_samples_per_second': 495.224, 'eval_steps_per_second': 15.648, 'epoch': 18.0}\n",
      "{'train_runtime': 288.3963, 'train_samples_per_second': 835.621, 'train_steps_per_second': 26.214, 'train_loss': 0.30554847448170713, 'epoch': 18.0}\n"
     ]
    },
    {
     "data": {
      "text/plain": [
       "TrainOutput(global_step=4536, training_loss=0.30554847448170713, metrics={'train_runtime': 288.3963, 'train_samples_per_second': 835.621, 'train_steps_per_second': 26.214, 'total_flos': 1472687363653632.0, 'train_loss': 0.30554847448170713, 'epoch': 18.0})"
      ]
     },
     "execution_count": 18,
     "metadata": {},
     "output_type": "execute_result"
    }
   ],
   "source": [
    "print(\"\\n\\nDoing forecasting training\")\n",
    "trainer.train()"
   ]
  },
  {
   "cell_type": "code",
   "execution_count": 19,
   "metadata": {},
   "outputs": [
    {
     "data": {
      "application/vnd.jupyter.widget-view+json": {
       "model_id": "f06ffcf0d9f040e88b944a9e184d9648",
       "version_major": 2,
       "version_minor": 0
      },
      "text/plain": [
       "  0%|          | 0/88 [00:00<?, ?it/s]"
      ]
     },
     "metadata": {},
     "output_type": "display_data"
    },
    {
     "data": {
      "text/plain": [
       "{'eval_loss': 0.27863338589668274,\n",
       " 'eval_runtime': 5.3796,\n",
       " 'eval_samples_per_second': 517.695,\n",
       " 'eval_steps_per_second': 16.358,\n",
       " 'epoch': 18.0}"
      ]
     },
     "execution_count": 19,
     "metadata": {},
     "output_type": "execute_result"
    }
   ],
   "source": [
    "trainer.evaluate(valwindowds)"
   ]
  },
  {
   "cell_type": "code",
   "execution_count": 4,
   "metadata": {},
   "outputs": [
    {
     "name": "stdout",
     "output_type": "stream",
     "text": [
      "Loading pretrained encoder model\n",
      "Done\n"
     ]
    },
    {
     "data": {
      "text/plain": [
       "PatchTSTModelJEPA(\n",
       "  (scaler): PatchTSTScaler(\n",
       "    (scaler): PatchTSTStdScaler()\n",
       "  )\n",
       "  (patchifier): PatchTSTPatchify()\n",
       "  (encoder): PatchTSTEncoder(\n",
       "    (embedder): PatchTSTEmbedding(\n",
       "      (input_embedding): Linear(in_features=8, out_features=64, bias=True)\n",
       "    )\n",
       "    (positional_encoder): PatchTSTPositionalEncoding(\n",
       "      (positional_dropout): Identity()\n",
       "    )\n",
       "    (layers): ModuleList(\n",
       "      (0-2): 3 x PatchTSTEncoderLayer(\n",
       "        (self_attn): PatchTSTAttention(\n",
       "          (k_proj): Linear(in_features=64, out_features=64, bias=True)\n",
       "          (v_proj): Linear(in_features=64, out_features=64, bias=True)\n",
       "          (q_proj): Linear(in_features=64, out_features=64, bias=True)\n",
       "          (out_proj): Linear(in_features=64, out_features=64, bias=True)\n",
       "        )\n",
       "        (dropout_path1): Identity()\n",
       "        (norm_sublayer1): PatchTSTBatchNorm(\n",
       "          (batchnorm): BatchNorm1d(64, eps=1e-05, momentum=0.1, affine=True, track_running_stats=True)\n",
       "        )\n",
       "        (ff): Sequential(\n",
       "          (0): Linear(in_features=64, out_features=64, bias=True)\n",
       "          (1): GELUActivation()\n",
       "          (2): Identity()\n",
       "          (3): Linear(in_features=64, out_features=64, bias=True)\n",
       "        )\n",
       "        (dropout_path3): Identity()\n",
       "        (norm_sublayer3): PatchTSTBatchNorm(\n",
       "          (batchnorm): BatchNorm1d(64, eps=1e-05, momentum=0.1, affine=True, track_running_stats=True)\n",
       "        )\n",
       "      )\n",
       "    )\n",
       "    (norm): LayerNorm((64,), eps=1e-05, elementwise_affine=True)\n",
       "  )\n",
       ")"
      ]
     },
     "execution_count": 4,
     "metadata": {},
     "output_type": "execute_result"
    }
   ],
   "source": [
    "print(\"Loading pretrained encoder model\")\n",
    "encoder_model = PatchTSTModelJEPA.from_pretrained(r\"D:\\Coursework\\MTS\\timeseriesJEPA\\results\\PatchTST_etth2_sl512_enc_dm64_nh4_el3_fd64_pred_dm32_nh2_el1_fd32_bs256_lr0.0001_pe50_data_nenc1_npred4_clean_data\\checkpoint-1600\")\n",
    "print(\"Done\")\n",
    "encoder_model.cuda()"
   ]
  },
  {
   "cell_type": "code",
   "execution_count": 5,
   "metadata": {},
   "outputs": [
    {
     "name": "stdout",
     "output_type": "stream",
     "text": [
      "Loading prediction model\n"
     ]
    },
    {
     "data": {
      "text/plain": [
       "PatchTSTForPrediction(\n",
       "  (model): PatchTSTModelJEPA(\n",
       "    (scaler): PatchTSTScaler(\n",
       "      (scaler): PatchTSTStdScaler()\n",
       "    )\n",
       "    (patchifier): PatchTSTPatchify()\n",
       "    (encoder): PatchTSTEncoder(\n",
       "      (embedder): PatchTSTEmbedding(\n",
       "        (input_embedding): Linear(in_features=8, out_features=64, bias=True)\n",
       "      )\n",
       "      (positional_encoder): PatchTSTPositionalEncoding(\n",
       "        (positional_dropout): Identity()\n",
       "      )\n",
       "      (layers): ModuleList(\n",
       "        (0-2): 3 x PatchTSTEncoderLayer(\n",
       "          (self_attn): PatchTSTAttention(\n",
       "            (k_proj): Linear(in_features=64, out_features=64, bias=True)\n",
       "            (v_proj): Linear(in_features=64, out_features=64, bias=True)\n",
       "            (q_proj): Linear(in_features=64, out_features=64, bias=True)\n",
       "            (out_proj): Linear(in_features=64, out_features=64, bias=True)\n",
       "          )\n",
       "          (dropout_path1): Identity()\n",
       "          (norm_sublayer1): PatchTSTBatchNorm(\n",
       "            (batchnorm): BatchNorm1d(64, eps=1e-05, momentum=0.1, affine=True, track_running_stats=True)\n",
       "          )\n",
       "          (ff): Sequential(\n",
       "            (0): Linear(in_features=64, out_features=64, bias=True)\n",
       "            (1): GELUActivation()\n",
       "            (2): Identity()\n",
       "            (3): Linear(in_features=64, out_features=64, bias=True)\n",
       "          )\n",
       "          (dropout_path3): Identity()\n",
       "          (norm_sublayer3): PatchTSTBatchNorm(\n",
       "            (batchnorm): BatchNorm1d(64, eps=1e-05, momentum=0.1, affine=True, track_running_stats=True)\n",
       "          )\n",
       "        )\n",
       "      )\n",
       "      (norm): LayerNorm((64,), eps=1e-05, elementwise_affine=True)\n",
       "    )\n",
       "  )\n",
       "  (head): PatchTSTPredictionHead(\n",
       "    (flatten): Flatten(start_dim=2, end_dim=-1)\n",
       "    (projection): Linear(in_features=4096, out_features=96, bias=True)\n",
       "    (dropout): Dropout(p=0.2, inplace=False)\n",
       "  )\n",
       ")"
      ]
     },
     "execution_count": 5,
     "metadata": {},
     "output_type": "execute_result"
    }
   ],
   "source": [
    "print(\"Loading prediction model\")\n",
    "\n",
    "config = PatchTSTConfig(\n",
    "    do_mask_input=False,\n",
    "    context_length=context_length,\n",
    "    patch_length=patch_length,\n",
    "    num_input_channels=num_input_channels,\n",
    "    patch_stride=patch_length,\n",
    "    prediction_length=forecast_horizon,\n",
    "    d_model=64,\n",
    "    num_attention_heads=4,\n",
    "    # num_hidden_layers=4,\n",
    "    ffn_dim=128,\n",
    "    dropout=0.05,\n",
    "    head_dropout=0.2,\n",
    "    pooling_type=None,\n",
    "    channel_attention=False,\n",
    "    scaling=\"std\",\n",
    "    loss=\"mse\",\n",
    "    pre_norm=True,\n",
    "    norm_type=\"batchnorm\",\n",
    "    positional_encoding_type = \"sincos\"\n",
    ")\n",
    "\n",
    "model = PatchTSTForPrediction(config=config, encoder_model=encoder_model)\n",
    "model.cuda()"
   ]
  },
  {
   "cell_type": "code",
   "execution_count": 6,
   "metadata": {},
   "outputs": [
    {
     "name": "stdout",
     "output_type": "stream",
     "text": [
      "encoder parameters:  393312\n"
     ]
    }
   ],
   "source": [
    "model_parameters = filter(lambda p: p.requires_grad, model.parameters())\n",
    "params = sum([np.prod(p.size()) for p in model_parameters])\n",
    "print(\"encoder parameters: \", params)"
   ]
  },
  {
   "cell_type": "code",
   "execution_count": 7,
   "metadata": {},
   "outputs": [
    {
     "name": "stdout",
     "output_type": "stream",
     "text": [
      "encoder parameters:  80448\n"
     ]
    }
   ],
   "source": [
    "params = sum([np.prod(p.size()) for p in encoder_model.parameters()])\n",
    "print(\"encoder parameters: \", params)"
   ]
  },
  {
   "cell_type": "code",
   "execution_count": 8,
   "metadata": {},
   "outputs": [
    {
     "name": "stderr",
     "output_type": "stream",
     "text": [
      "c:\\Users\\Omen\\anaconda3\\envs\\mts\\Lib\\site-packages\\transformers\\training_args.py:1568: FutureWarning: `evaluation_strategy` is deprecated and will be removed in version 4.46 of 🤗 Transformers. Use `eval_strategy` instead\n",
      "  warnings.warn(\n"
     ]
    }
   ],
   "source": [
    "train_args = TrainingArguments(\n",
    "    output_dir=r\"checkpoints\\finetuned\",\n",
    "    overwrite_output_dir=True,\n",
    "    learning_rate=0.0001,\n",
    "    num_train_epochs=30,\n",
    "    do_eval=True,\n",
    "    evaluation_strategy=\"epoch\",\n",
    "    per_device_train_batch_size=batch_size,\n",
    "    per_device_eval_batch_size=batch_size,\n",
    "    dataloader_num_workers=1,  # num_workers,\n",
    "    save_strategy=\"epoch\",\n",
    "    logging_strategy=\"epoch\",\n",
    "    save_total_limit=3,\n",
    "    logging_dir=r\"checkpoints\\finetuned\\logs\",\n",
    "    load_best_model_at_end=True,  # Load the best model when training ends\n",
    "    metric_for_best_model=\"eval_loss\",  # Metric to monitor for early stopping\n",
    "    greater_is_better=False,  # For loss\n",
    "    label_names=[\"future_values\"],\n",
    ")\n",
    "\n",
    "# Create a new early stopping callback with faster convergence properties\n",
    "early_stopping_callback = EarlyStoppingCallback(\n",
    "    early_stopping_patience=5,  # Number of epochs with no improvement after which to stop\n",
    "    early_stopping_threshold=0.001,  # Minimum improvement required to consider as improvement\n",
    ")\n",
    "\n",
    "trainer = Trainer(\n",
    "    model=model,\n",
    "    args=train_args,\n",
    "    train_dataset=trainwindowds,\n",
    "    eval_dataset=valwindowds,\n",
    "    callbacks=[early_stopping_callback],\n",
    ")"
   ]
  },
  {
   "cell_type": "code",
   "execution_count": 9,
   "metadata": {},
   "outputs": [
    {
     "name": "stderr",
     "output_type": "stream",
     "text": [
      "\u001b[34m\u001b[1mwandb\u001b[0m: \u001b[33mWARNING\u001b[0m The `run_name` is currently set to the same value as `TrainingArguments.output_dir`. If this was not intended, please specify a different run name by setting the `TrainingArguments.run_name` parameter.\n"
     ]
    },
    {
     "name": "stdout",
     "output_type": "stream",
     "text": [
      "\n",
      "\n",
      "Doing forecasting training\n"
     ]
    },
    {
     "name": "stderr",
     "output_type": "stream",
     "text": [
      "\u001b[34m\u001b[1mwandb\u001b[0m: Currently logged in as: \u001b[33mvg2523\u001b[0m (\u001b[33mhpml_4\u001b[0m). Use \u001b[1m`wandb login --relogin`\u001b[0m to force relogin\n",
      "\u001b[34m\u001b[1mwandb\u001b[0m: Using wandb-core as the SDK backend.  Please refer to https://wandb.me/wandb-core for more information.\n"
     ]
    },
    {
     "data": {
      "text/html": [
       "Tracking run with wandb version 0.19.4"
      ],
      "text/plain": [
       "<IPython.core.display.HTML object>"
      ]
     },
     "metadata": {},
     "output_type": "display_data"
    },
    {
     "data": {
      "text/html": [
       "Run data is saved locally in <code>d:\\Coursework\\MTS\\timeseriesJEPA\\notebooks\\wandb\\run-20250203_170520-amvuqfry</code>"
      ],
      "text/plain": [
       "<IPython.core.display.HTML object>"
      ]
     },
     "metadata": {},
     "output_type": "display_data"
    },
    {
     "data": {
      "text/html": [
       "Syncing run <strong><a href='https://wandb.ai/hpml_4/huggingface/runs/amvuqfry' target=\"_blank\">checkpoints\\finetuned</a></strong> to <a href='https://wandb.ai/hpml_4/huggingface' target=\"_blank\">Weights & Biases</a> (<a href='https://wandb.me/developer-guide' target=\"_blank\">docs</a>)<br>"
      ],
      "text/plain": [
       "<IPython.core.display.HTML object>"
      ]
     },
     "metadata": {},
     "output_type": "display_data"
    },
    {
     "data": {
      "text/html": [
       " View project at <a href='https://wandb.ai/hpml_4/huggingface' target=\"_blank\">https://wandb.ai/hpml_4/huggingface</a>"
      ],
      "text/plain": [
       "<IPython.core.display.HTML object>"
      ]
     },
     "metadata": {},
     "output_type": "display_data"
    },
    {
     "data": {
      "text/html": [
       " View run at <a href='https://wandb.ai/hpml_4/huggingface/runs/amvuqfry' target=\"_blank\">https://wandb.ai/hpml_4/huggingface/runs/amvuqfry</a>"
      ],
      "text/plain": [
       "<IPython.core.display.HTML object>"
      ]
     },
     "metadata": {},
     "output_type": "display_data"
    },
    {
     "data": {
      "application/vnd.jupyter.widget-view+json": {
       "model_id": "d194d7d2402645659027e4fad4447cbc",
       "version_major": 2,
       "version_minor": 0
      },
      "text/plain": [
       "  0%|          | 0/7560 [00:00<?, ?it/s]"
      ]
     },
     "metadata": {},
     "output_type": "display_data"
    },
    {
     "name": "stdout",
     "output_type": "stream",
     "text": [
      "{'loss': 0.7263, 'grad_norm': 2.5108461380004883, 'learning_rate': 9.666666666666667e-05, 'epoch': 1.0}\n"
     ]
    },
    {
     "data": {
      "application/vnd.jupyter.widget-view+json": {
       "model_id": "8c08d566dedc4f32880e9ebb58d80c7b",
       "version_major": 2,
       "version_minor": 0
      },
      "text/plain": [
       "  0%|          | 0/88 [00:00<?, ?it/s]"
      ]
     },
     "metadata": {},
     "output_type": "display_data"
    },
    {
     "name": "stdout",
     "output_type": "stream",
     "text": [
      "{'eval_loss': 0.3334067761898041, 'eval_runtime': 5.9996, 'eval_samples_per_second': 464.201, 'eval_steps_per_second': 14.668, 'epoch': 1.0}\n",
      "{'loss': 0.6777, 'grad_norm': 33.01469039916992, 'learning_rate': 9.333333333333334e-05, 'epoch': 2.0}\n"
     ]
    },
    {
     "data": {
      "application/vnd.jupyter.widget-view+json": {
       "model_id": "c58af23926d14e108d2f98252f005a3d",
       "version_major": 2,
       "version_minor": 0
      },
      "text/plain": [
       "  0%|          | 0/88 [00:00<?, ?it/s]"
      ]
     },
     "metadata": {},
     "output_type": "display_data"
    },
    {
     "name": "stdout",
     "output_type": "stream",
     "text": [
      "{'eval_loss': 0.31504175066947937, 'eval_runtime': 6.245, 'eval_samples_per_second': 445.956, 'eval_steps_per_second': 14.091, 'epoch': 2.0}\n",
      "{'loss': 0.6108, 'grad_norm': 1.0968929529190063, 'learning_rate': 9e-05, 'epoch': 3.0}\n"
     ]
    },
    {
     "data": {
      "application/vnd.jupyter.widget-view+json": {
       "model_id": "0e2f36ee44a445bea24ab20c3aedff00",
       "version_major": 2,
       "version_minor": 0
      },
      "text/plain": [
       "  0%|          | 0/88 [00:00<?, ?it/s]"
      ]
     },
     "metadata": {},
     "output_type": "display_data"
    },
    {
     "name": "stdout",
     "output_type": "stream",
     "text": [
      "{'eval_loss': 0.300729364156723, 'eval_runtime': 6.1188, 'eval_samples_per_second': 455.153, 'eval_steps_per_second': 14.382, 'epoch': 3.0}\n",
      "{'loss': 0.5898, 'grad_norm': 2.0467689037323, 'learning_rate': 8.666666666666667e-05, 'epoch': 4.0}\n"
     ]
    },
    {
     "data": {
      "application/vnd.jupyter.widget-view+json": {
       "model_id": "571afd93c1214b2a9b3db7931da42b76",
       "version_major": 2,
       "version_minor": 0
      },
      "text/plain": [
       "  0%|          | 0/88 [00:00<?, ?it/s]"
      ]
     },
     "metadata": {},
     "output_type": "display_data"
    },
    {
     "name": "stdout",
     "output_type": "stream",
     "text": [
      "{'eval_loss': 0.2985295355319977, 'eval_runtime': 5.8769, 'eval_samples_per_second': 473.89, 'eval_steps_per_second': 14.974, 'epoch': 4.0}\n",
      "{'loss': 0.575, 'grad_norm': 1.5776655673980713, 'learning_rate': 8.333333333333334e-05, 'epoch': 5.0}\n"
     ]
    },
    {
     "data": {
      "application/vnd.jupyter.widget-view+json": {
       "model_id": "bfb6ca5dd1c346a18df4a9c2c50a2c31",
       "version_major": 2,
       "version_minor": 0
      },
      "text/plain": [
       "  0%|          | 0/88 [00:00<?, ?it/s]"
      ]
     },
     "metadata": {},
     "output_type": "display_data"
    },
    {
     "name": "stdout",
     "output_type": "stream",
     "text": [
      "{'eval_loss': 0.29450955986976624, 'eval_runtime': 6.3028, 'eval_samples_per_second': 441.868, 'eval_steps_per_second': 13.962, 'epoch': 5.0}\n",
      "{'loss': 0.5602, 'grad_norm': 3.413454294204712, 'learning_rate': 8e-05, 'epoch': 6.0}\n"
     ]
    },
    {
     "data": {
      "application/vnd.jupyter.widget-view+json": {
       "model_id": "3e2ce9de78684a748bfb8bc3a10f0f20",
       "version_major": 2,
       "version_minor": 0
      },
      "text/plain": [
       "  0%|          | 0/88 [00:00<?, ?it/s]"
      ]
     },
     "metadata": {},
     "output_type": "display_data"
    },
    {
     "name": "stdout",
     "output_type": "stream",
     "text": [
      "{'eval_loss': 0.28875112533569336, 'eval_runtime': 6.284, 'eval_samples_per_second': 443.187, 'eval_steps_per_second': 14.004, 'epoch': 6.0}\n",
      "{'loss': 0.5484, 'grad_norm': 1.235352873802185, 'learning_rate': 7.666666666666667e-05, 'epoch': 7.0}\n"
     ]
    },
    {
     "data": {
      "application/vnd.jupyter.widget-view+json": {
       "model_id": "d5240ba7ac9c4cd79993004c1723d5ea",
       "version_major": 2,
       "version_minor": 0
      },
      "text/plain": [
       "  0%|          | 0/88 [00:00<?, ?it/s]"
      ]
     },
     "metadata": {},
     "output_type": "display_data"
    },
    {
     "name": "stdout",
     "output_type": "stream",
     "text": [
      "{'eval_loss': 0.2941756844520569, 'eval_runtime': 6.2127, 'eval_samples_per_second': 448.276, 'eval_steps_per_second': 14.165, 'epoch': 7.0}\n",
      "{'loss': 0.537, 'grad_norm': 0.8781893253326416, 'learning_rate': 7.333333333333333e-05, 'epoch': 8.0}\n"
     ]
    },
    {
     "data": {
      "application/vnd.jupyter.widget-view+json": {
       "model_id": "84b3b92800ca4864a8600be2eb17bbc3",
       "version_major": 2,
       "version_minor": 0
      },
      "text/plain": [
       "  0%|          | 0/88 [00:00<?, ?it/s]"
      ]
     },
     "metadata": {},
     "output_type": "display_data"
    },
    {
     "name": "stdout",
     "output_type": "stream",
     "text": [
      "{'eval_loss': 0.28755107522010803, 'eval_runtime': 6.3184, 'eval_samples_per_second': 440.775, 'eval_steps_per_second': 13.928, 'epoch': 8.0}\n",
      "{'loss': 0.5296, 'grad_norm': 1.1507357358932495, 'learning_rate': 7e-05, 'epoch': 9.0}\n"
     ]
    },
    {
     "data": {
      "application/vnd.jupyter.widget-view+json": {
       "model_id": "62048b3d84824ac2b6e2f3fc1017a0a1",
       "version_major": 2,
       "version_minor": 0
      },
      "text/plain": [
       "  0%|          | 0/88 [00:00<?, ?it/s]"
      ]
     },
     "metadata": {},
     "output_type": "display_data"
    },
    {
     "name": "stdout",
     "output_type": "stream",
     "text": [
      "{'eval_loss': 0.2840966582298279, 'eval_runtime': 6.1267, 'eval_samples_per_second': 454.567, 'eval_steps_per_second': 14.363, 'epoch': 9.0}\n",
      "{'loss': 0.5225, 'grad_norm': 1.1606619358062744, 'learning_rate': 6.666666666666667e-05, 'epoch': 10.0}\n"
     ]
    },
    {
     "data": {
      "application/vnd.jupyter.widget-view+json": {
       "model_id": "ae4441e885d143fb90c8a931fc6d55cc",
       "version_major": 2,
       "version_minor": 0
      },
      "text/plain": [
       "  0%|          | 0/88 [00:00<?, ?it/s]"
      ]
     },
     "metadata": {},
     "output_type": "display_data"
    },
    {
     "name": "stdout",
     "output_type": "stream",
     "text": [
      "{'eval_loss': 0.2858034372329712, 'eval_runtime': 6.3759, 'eval_samples_per_second': 436.8, 'eval_steps_per_second': 13.802, 'epoch': 10.0}\n",
      "{'loss': 0.5154, 'grad_norm': 2.3830277919769287, 'learning_rate': 6.333333333333333e-05, 'epoch': 11.0}\n"
     ]
    },
    {
     "data": {
      "application/vnd.jupyter.widget-view+json": {
       "model_id": "0a09eca4a0094a838526b9d75dca30ee",
       "version_major": 2,
       "version_minor": 0
      },
      "text/plain": [
       "  0%|          | 0/88 [00:00<?, ?it/s]"
      ]
     },
     "metadata": {},
     "output_type": "display_data"
    },
    {
     "name": "stdout",
     "output_type": "stream",
     "text": [
      "{'eval_loss': 0.2837510108947754, 'eval_runtime': 5.6794, 'eval_samples_per_second': 490.372, 'eval_steps_per_second': 15.495, 'epoch': 11.0}\n",
      "{'loss': 0.5083, 'grad_norm': 1.6433653831481934, 'learning_rate': 6e-05, 'epoch': 12.0}\n"
     ]
    },
    {
     "data": {
      "application/vnd.jupyter.widget-view+json": {
       "model_id": "a58f5d3d0eb64e3ca0a6e7790966c59e",
       "version_major": 2,
       "version_minor": 0
      },
      "text/plain": [
       "  0%|          | 0/88 [00:00<?, ?it/s]"
      ]
     },
     "metadata": {},
     "output_type": "display_data"
    },
    {
     "name": "stdout",
     "output_type": "stream",
     "text": [
      "{'eval_loss': 0.2853296101093292, 'eval_runtime': 5.8123, 'eval_samples_per_second': 479.157, 'eval_steps_per_second': 15.14, 'epoch': 12.0}\n",
      "{'loss': 0.5034, 'grad_norm': 1.2151379585266113, 'learning_rate': 5.666666666666667e-05, 'epoch': 13.0}\n"
     ]
    },
    {
     "data": {
      "application/vnd.jupyter.widget-view+json": {
       "model_id": "e3253e8a819c4414877595cf740804eb",
       "version_major": 2,
       "version_minor": 0
      },
      "text/plain": [
       "  0%|          | 0/88 [00:00<?, ?it/s]"
      ]
     },
     "metadata": {},
     "output_type": "display_data"
    },
    {
     "name": "stdout",
     "output_type": "stream",
     "text": [
      "{'eval_loss': 0.2808360457420349, 'eval_runtime': 5.5673, 'eval_samples_per_second': 500.242, 'eval_steps_per_second': 15.807, 'epoch': 13.0}\n",
      "{'loss': 0.4966, 'grad_norm': 1.2579824924468994, 'learning_rate': 5.333333333333333e-05, 'epoch': 14.0}\n"
     ]
    },
    {
     "data": {
      "application/vnd.jupyter.widget-view+json": {
       "model_id": "ff4535d376c44a369fec0cefdb8f7bb8",
       "version_major": 2,
       "version_minor": 0
      },
      "text/plain": [
       "  0%|          | 0/88 [00:00<?, ?it/s]"
      ]
     },
     "metadata": {},
     "output_type": "display_data"
    },
    {
     "name": "stdout",
     "output_type": "stream",
     "text": [
      "{'eval_loss': 0.2806485593318939, 'eval_runtime': 5.7633, 'eval_samples_per_second': 483.234, 'eval_steps_per_second': 15.269, 'epoch': 14.0}\n",
      "{'loss': 0.4922, 'grad_norm': 0.8908719420433044, 'learning_rate': 5e-05, 'epoch': 15.0}\n"
     ]
    },
    {
     "data": {
      "application/vnd.jupyter.widget-view+json": {
       "model_id": "29ce6143c30b409cba6725490c4fdc2b",
       "version_major": 2,
       "version_minor": 0
      },
      "text/plain": [
       "  0%|          | 0/88 [00:00<?, ?it/s]"
      ]
     },
     "metadata": {},
     "output_type": "display_data"
    },
    {
     "name": "stdout",
     "output_type": "stream",
     "text": [
      "{'eval_loss': 0.28745144605636597, 'eval_runtime': 6.1165, 'eval_samples_per_second': 455.324, 'eval_steps_per_second': 14.387, 'epoch': 15.0}\n",
      "{'loss': 0.488, 'grad_norm': 3.286694288253784, 'learning_rate': 4.666666666666667e-05, 'epoch': 16.0}\n"
     ]
    },
    {
     "data": {
      "application/vnd.jupyter.widget-view+json": {
       "model_id": "59fd894fb0f848ecbb2a7966c9378814",
       "version_major": 2,
       "version_minor": 0
      },
      "text/plain": [
       "  0%|          | 0/88 [00:00<?, ?it/s]"
      ]
     },
     "metadata": {},
     "output_type": "display_data"
    },
    {
     "name": "stdout",
     "output_type": "stream",
     "text": [
      "{'eval_loss': 0.27890968322753906, 'eval_runtime': 6.3901, 'eval_samples_per_second': 435.833, 'eval_steps_per_second': 13.771, 'epoch': 16.0}\n",
      "{'loss': 0.4842, 'grad_norm': 2.111264228820801, 'learning_rate': 4.3333333333333334e-05, 'epoch': 17.0}\n"
     ]
    },
    {
     "data": {
      "application/vnd.jupyter.widget-view+json": {
       "model_id": "bafcd8340fc648fc956bd04dd93843c5",
       "version_major": 2,
       "version_minor": 0
      },
      "text/plain": [
       "  0%|          | 0/88 [00:00<?, ?it/s]"
      ]
     },
     "metadata": {},
     "output_type": "display_data"
    },
    {
     "name": "stdout",
     "output_type": "stream",
     "text": [
      "{'eval_loss': 0.2791726887226105, 'eval_runtime': 6.4604, 'eval_samples_per_second': 431.089, 'eval_steps_per_second': 13.621, 'epoch': 17.0}\n",
      "{'loss': 0.4811, 'grad_norm': 4.9403300285339355, 'learning_rate': 4e-05, 'epoch': 18.0}\n"
     ]
    },
    {
     "data": {
      "application/vnd.jupyter.widget-view+json": {
       "model_id": "57421beaa9784c17aed4cf304b95fcc2",
       "version_major": 2,
       "version_minor": 0
      },
      "text/plain": [
       "  0%|          | 0/88 [00:00<?, ?it/s]"
      ]
     },
     "metadata": {},
     "output_type": "display_data"
    },
    {
     "name": "stdout",
     "output_type": "stream",
     "text": [
      "{'eval_loss': 0.2785538136959076, 'eval_runtime': 6.125, 'eval_samples_per_second': 454.697, 'eval_steps_per_second': 14.367, 'epoch': 18.0}\n",
      "{'loss': 0.4772, 'grad_norm': 1.5267564058303833, 'learning_rate': 3.6666666666666666e-05, 'epoch': 19.0}\n"
     ]
    },
    {
     "data": {
      "application/vnd.jupyter.widget-view+json": {
       "model_id": "7167be2a54f947a29de61f8b635cf8cd",
       "version_major": 2,
       "version_minor": 0
      },
      "text/plain": [
       "  0%|          | 0/88 [00:00<?, ?it/s]"
      ]
     },
     "metadata": {},
     "output_type": "display_data"
    },
    {
     "name": "stdout",
     "output_type": "stream",
     "text": [
      "{'eval_loss': 0.2804473638534546, 'eval_runtime': 6.1344, 'eval_samples_per_second': 453.996, 'eval_steps_per_second': 14.345, 'epoch': 19.0}\n",
      "{'loss': 0.4752, 'grad_norm': 2.27698016166687, 'learning_rate': 3.3333333333333335e-05, 'epoch': 20.0}\n"
     ]
    },
    {
     "data": {
      "application/vnd.jupyter.widget-view+json": {
       "model_id": "d80090d8f72d47f8884d1a7ede745a25",
       "version_major": 2,
       "version_minor": 0
      },
      "text/plain": [
       "  0%|          | 0/88 [00:00<?, ?it/s]"
      ]
     },
     "metadata": {},
     "output_type": "display_data"
    },
    {
     "name": "stdout",
     "output_type": "stream",
     "text": [
      "{'eval_loss': 0.28075912594795227, 'eval_runtime': 6.0702, 'eval_samples_per_second': 458.797, 'eval_steps_per_second': 14.497, 'epoch': 20.0}\n",
      "{'loss': 0.4722, 'grad_norm': 1.8434979915618896, 'learning_rate': 3e-05, 'epoch': 21.0}\n"
     ]
    },
    {
     "data": {
      "application/vnd.jupyter.widget-view+json": {
       "model_id": "6758beafa4d14561ad8e36fb374057d5",
       "version_major": 2,
       "version_minor": 0
      },
      "text/plain": [
       "  0%|          | 0/88 [00:00<?, ?it/s]"
      ]
     },
     "metadata": {},
     "output_type": "display_data"
    },
    {
     "name": "stdout",
     "output_type": "stream",
     "text": [
      "{'eval_loss': 0.276742547750473, 'eval_runtime': 6.4034, 'eval_samples_per_second': 434.927, 'eval_steps_per_second': 13.743, 'epoch': 21.0}\n",
      "{'loss': 0.4704, 'grad_norm': 1.8174591064453125, 'learning_rate': 2.6666666666666667e-05, 'epoch': 22.0}\n"
     ]
    },
    {
     "data": {
      "application/vnd.jupyter.widget-view+json": {
       "model_id": "ef1c0cfcb1524852869e560375018706",
       "version_major": 2,
       "version_minor": 0
      },
      "text/plain": [
       "  0%|          | 0/88 [00:00<?, ?it/s]"
      ]
     },
     "metadata": {},
     "output_type": "display_data"
    },
    {
     "name": "stdout",
     "output_type": "stream",
     "text": [
      "{'eval_loss': 0.2773776352405548, 'eval_runtime': 5.9419, 'eval_samples_per_second': 468.704, 'eval_steps_per_second': 14.81, 'epoch': 22.0}\n",
      "{'loss': 0.4687, 'grad_norm': 2.878575563430786, 'learning_rate': 2.3333333333333336e-05, 'epoch': 23.0}\n"
     ]
    },
    {
     "data": {
      "application/vnd.jupyter.widget-view+json": {
       "model_id": "df94bfb5cb0f4c5b9d1d1493760d020c",
       "version_major": 2,
       "version_minor": 0
      },
      "text/plain": [
       "  0%|          | 0/88 [00:00<?, ?it/s]"
      ]
     },
     "metadata": {},
     "output_type": "display_data"
    },
    {
     "name": "stdout",
     "output_type": "stream",
     "text": [
      "{'eval_loss': 0.276972234249115, 'eval_runtime': 5.6282, 'eval_samples_per_second': 494.83, 'eval_steps_per_second': 15.636, 'epoch': 23.0}\n",
      "{'loss': 0.4655, 'grad_norm': 0.8014932870864868, 'learning_rate': 2e-05, 'epoch': 24.0}\n"
     ]
    },
    {
     "data": {
      "application/vnd.jupyter.widget-view+json": {
       "model_id": "7b52c9b322d041be868f8e5f0ac4d290",
       "version_major": 2,
       "version_minor": 0
      },
      "text/plain": [
       "  0%|          | 0/88 [00:00<?, ?it/s]"
      ]
     },
     "metadata": {},
     "output_type": "display_data"
    },
    {
     "name": "stdout",
     "output_type": "stream",
     "text": [
      "{'eval_loss': 0.2766018509864807, 'eval_runtime': 6.1873, 'eval_samples_per_second': 450.114, 'eval_steps_per_second': 14.223, 'epoch': 24.0}\n",
      "{'loss': 0.4641, 'grad_norm': 1.737629771232605, 'learning_rate': 1.6666666666666667e-05, 'epoch': 25.0}\n"
     ]
    },
    {
     "data": {
      "application/vnd.jupyter.widget-view+json": {
       "model_id": "1ad3499f57124300aedbd9ff45011676",
       "version_major": 2,
       "version_minor": 0
      },
      "text/plain": [
       "  0%|          | 0/88 [00:00<?, ?it/s]"
      ]
     },
     "metadata": {},
     "output_type": "display_data"
    },
    {
     "name": "stdout",
     "output_type": "stream",
     "text": [
      "{'eval_loss': 0.2783200144767761, 'eval_runtime': 6.3509, 'eval_samples_per_second': 438.521, 'eval_steps_per_second': 13.856, 'epoch': 25.0}\n",
      "{'loss': 0.463, 'grad_norm': 2.5362839698791504, 'learning_rate': 1.3333333333333333e-05, 'epoch': 26.0}\n"
     ]
    },
    {
     "data": {
      "application/vnd.jupyter.widget-view+json": {
       "model_id": "61636e410e134f16b20ba5ea5622f7ee",
       "version_major": 2,
       "version_minor": 0
      },
      "text/plain": [
       "  0%|          | 0/88 [00:00<?, ?it/s]"
      ]
     },
     "metadata": {},
     "output_type": "display_data"
    },
    {
     "name": "stdout",
     "output_type": "stream",
     "text": [
      "{'eval_loss': 0.27611565589904785, 'eval_runtime': 6.138, 'eval_samples_per_second': 453.734, 'eval_steps_per_second': 14.337, 'epoch': 26.0}\n",
      "{'train_runtime': 379.1393, 'train_samples_per_second': 635.624, 'train_steps_per_second': 19.94, 'train_loss': 0.5231814401927012, 'epoch': 26.0}\n"
     ]
    },
    {
     "data": {
      "text/plain": [
       "TrainOutput(global_step=6552, training_loss=0.5231814401927012, metrics={'train_runtime': 379.1393, 'train_samples_per_second': 635.624, 'train_steps_per_second': 19.94, 'total_flos': 2127789964984320.0, 'train_loss': 0.5231814401927012, 'epoch': 26.0})"
      ]
     },
     "execution_count": 9,
     "metadata": {},
     "output_type": "execute_result"
    }
   ],
   "source": [
    "print(\"\\n\\nDoing forecasting training\")\n",
    "trainer.train()"
   ]
  },
  {
   "cell_type": "code",
   "execution_count": 10,
   "metadata": {},
   "outputs": [
    {
     "data": {
      "application/vnd.jupyter.widget-view+json": {
       "model_id": "9d9f373225fd417d8ee1880bfa605f3c",
       "version_major": 2,
       "version_minor": 0
      },
      "text/plain": [
       "  0%|          | 0/88 [00:00<?, ?it/s]"
      ]
     },
     "metadata": {},
     "output_type": "display_data"
    },
    {
     "data": {
      "text/plain": [
       "{'eval_loss': 0.27611565589904785,\n",
       " 'eval_runtime': 5.4027,\n",
       " 'eval_samples_per_second': 515.485,\n",
       " 'eval_steps_per_second': 16.288,\n",
       " 'epoch': 26.0}"
      ]
     },
     "execution_count": 10,
     "metadata": {},
     "output_type": "execute_result"
    }
   ],
   "source": [
    "trainer.evaluate(valwindowds)"
   ]
  },
  {
   "cell_type": "code",
   "execution_count": null,
   "metadata": {},
   "outputs": [],
   "source": []
  }
 ],
 "metadata": {
  "kernelspec": {
   "display_name": "mts",
   "language": "python",
   "name": "python3"
  },
  "language_info": {
   "codemirror_mode": {
    "name": "ipython",
    "version": 3
   },
   "file_extension": ".py",
   "mimetype": "text/x-python",
   "name": "python",
   "nbconvert_exporter": "python",
   "pygments_lexer": "ipython3",
   "version": "3.11.9"
  }
 },
 "nbformat": 4,
 "nbformat_minor": 2
}
